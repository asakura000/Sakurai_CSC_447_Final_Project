{
 "cells": [
  {
   "cell_type": "code",
   "execution_count": 1,
   "id": "953b687b",
   "metadata": {},
   "outputs": [],
   "source": [
    "import pandas as pd\n",
    "import numpy as np\n",
    "import os"
   ]
  },
  {
   "cell_type": "code",
   "execution_count": 4,
   "id": "b151ce65",
   "metadata": {},
   "outputs": [],
   "source": [
    "file_name = 'Atsuko_filtered_KB.tsv.gz'"
   ]
  },
  {
   "cell_type": "code",
   "execution_count": 5,
   "id": "b99fd0b3",
   "metadata": {},
   "outputs": [],
   "source": [
    "columns = ['Relation', 'Entity_1', 'Entity_2']\n",
    "df = pd.read_csv(file_name, names=columns, sep='\\t')"
   ]
  },
  {
   "cell_type": "code",
   "execution_count": 6,
   "id": "76e03758",
   "metadata": {},
   "outputs": [
    {
     "data": {
      "text/html": [
       "<div>\n",
       "<style scoped>\n",
       "    .dataframe tbody tr th:only-of-type {\n",
       "        vertical-align: middle;\n",
       "    }\n",
       "\n",
       "    .dataframe tbody tr th {\n",
       "        vertical-align: top;\n",
       "    }\n",
       "\n",
       "    .dataframe thead th {\n",
       "        text-align: right;\n",
       "    }\n",
       "</style>\n",
       "<table border=\"1\" class=\"dataframe\">\n",
       "  <thead>\n",
       "    <tr style=\"text-align: right;\">\n",
       "      <th></th>\n",
       "      <th>Relation</th>\n",
       "      <th>Entity_1</th>\n",
       "      <th>Entity_2</th>\n",
       "    </tr>\n",
       "  </thead>\n",
       "  <tbody>\n",
       "    <tr>\n",
       "      <th>0</th>\n",
       "      <td>contains</td>\n",
       "      <td>Brickfields</td>\n",
       "      <td>Kuala_Lumpur_Sentral_railway_station</td>\n",
       "    </tr>\n",
       "    <tr>\n",
       "      <th>1</th>\n",
       "      <td>contains</td>\n",
       "      <td>Los_Angeles</td>\n",
       "      <td>Mondrian_Hotel</td>\n",
       "    </tr>\n",
       "    <tr>\n",
       "      <th>2</th>\n",
       "      <td>contains</td>\n",
       "      <td>Gujarat</td>\n",
       "      <td>Junagadh_district</td>\n",
       "    </tr>\n",
       "    <tr>\n",
       "      <th>3</th>\n",
       "      <td>place_of_death</td>\n",
       "      <td>Jean_Drapeau</td>\n",
       "      <td>Montreal</td>\n",
       "    </tr>\n",
       "    <tr>\n",
       "      <th>4</th>\n",
       "      <td>place_of_birth</td>\n",
       "      <td>William_Penny_Brookes</td>\n",
       "      <td>Much_Wenlock</td>\n",
       "    </tr>\n",
       "  </tbody>\n",
       "</table>\n",
       "</div>"
      ],
      "text/plain": [
       "         Relation               Entity_1                              Entity_2\n",
       "0        contains            Brickfields  Kuala_Lumpur_Sentral_railway_station\n",
       "1        contains            Los_Angeles                        Mondrian_Hotel\n",
       "2        contains                Gujarat                     Junagadh_district\n",
       "3  place_of_death           Jean_Drapeau                              Montreal\n",
       "4  place_of_birth  William_Penny_Brookes                          Much_Wenlock"
      ]
     },
     "execution_count": 6,
     "metadata": {},
     "output_type": "execute_result"
    }
   ],
   "source": [
    "df.head()"
   ]
  },
  {
   "cell_type": "code",
   "execution_count": 7,
   "id": "f0c3ba0b",
   "metadata": {},
   "outputs": [
    {
     "data": {
      "text/plain": [
       "(28575, 3)"
      ]
     },
     "execution_count": 7,
     "metadata": {},
     "output_type": "execute_result"
    }
   ],
   "source": [
    "df.shape"
   ]
  },
  {
   "cell_type": "code",
   "execution_count": 8,
   "id": "df36fd04",
   "metadata": {},
   "outputs": [
    {
     "data": {
      "text/plain": [
       "array(['contains', 'place_of_death', 'place_of_birth', 'nationality',\n",
       "       'has_spouse', 'adjoins', 'worked_at', 'capital'], dtype=object)"
      ]
     },
     "execution_count": 8,
     "metadata": {},
     "output_type": "execute_result"
    }
   ],
   "source": [
    "df['Relation'].unique()"
   ]
  },
  {
   "cell_type": "code",
   "execution_count": null,
   "id": "269933cb",
   "metadata": {},
   "outputs": [],
   "source": []
  }
 ],
 "metadata": {
  "kernelspec": {
   "display_name": "Python 3 (ipykernel)",
   "language": "python",
   "name": "python3"
  },
  "language_info": {
   "codemirror_mode": {
    "name": "ipython",
    "version": 3
   },
   "file_extension": ".py",
   "mimetype": "text/x-python",
   "name": "python",
   "nbconvert_exporter": "python",
   "pygments_lexer": "ipython3",
   "version": "3.8.12"
  }
 },
 "nbformat": 4,
 "nbformat_minor": 5
}
