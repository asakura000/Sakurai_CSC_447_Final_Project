{
 "cells": [
  {
   "cell_type": "markdown",
   "metadata": {
    "tags": []
   },
   "source": [
    "### References:\n",
    "1. https://web.stanford.edu/class/cs224u/2021/\n"
   ]
  },
  {
   "cell_type": "code",
   "execution_count": 1,
   "metadata": {},
   "outputs": [],
   "source": [
    "import numpy as np\n",
    "import os\n",
    "import rel_ext_OLD\n",
    "from sklearn.linear_model import LogisticRegression\n",
    "from sklearn.svm import SVC\n",
    "from collections import Counter\n",
    "import utils"
   ]
  },
  {
   "cell_type": "code",
   "execution_count": 2,
   "metadata": {},
   "outputs": [],
   "source": [
    "corpus = rel_ext_OLD.Corpus('washington_post_test.tsv.gz')"
   ]
  },
  {
   "cell_type": "code",
   "execution_count": 3,
   "metadata": {},
   "outputs": [],
   "source": [
    "kb = rel_ext_OLD.KB('Atsuko_filtered_KB.tsv.gz')"
   ]
  },
  {
   "cell_type": "code",
   "execution_count": 4,
   "metadata": {},
   "outputs": [],
   "source": [
    "dataset = rel_ext_OLD.Dataset(corpus, kb)"
   ]
  },
  {
   "cell_type": "code",
   "execution_count": 5,
   "metadata": {},
   "outputs": [],
   "source": [
    "splits = dataset.build_splits(\n",
    "    split_names=['train', 'test'],\n",
    "    split_fracs=[0.80, 0.20],\n",
    "    seed=1)"
   ]
  },
  {
   "cell_type": "code",
   "execution_count": 6,
   "metadata": {},
   "outputs": [
    {
     "data": {
      "text/plain": [
       "{'train': Corpus with 54,237 examples; KB with 22,313 triples,\n",
       " 'test': Corpus with 14,543 examples; KB with 6,262 triples,\n",
       " 'all': Corpus with 68,780 examples; KB with 28,575 triples}"
      ]
     },
     "execution_count": 6,
     "metadata": {},
     "output_type": "execute_result"
    }
   ],
   "source": [
    "splits"
   ]
  },
  {
   "cell_type": "code",
   "execution_count": 7,
   "metadata": {},
   "outputs": [
    {
     "name": "stdout",
     "output_type": "stream",
     "text": [
      "                                             examples\n",
      "relation               examples    triples    /triple\n",
      "--------               --------    -------    -------\n",
      "adjoins                     641       1283       0.50\n",
      "capital                      90        406       0.22\n",
      "contains                    271      14461       0.02\n",
      "has_spouse                    4       2419       0.00\n",
      "nationality                  14       1296       0.01\n",
      "place_of_birth                0        874       0.00\n",
      "place_of_death                4        676       0.01\n",
      "worked_at                     1        898       0.00\n"
     ]
    }
   ],
   "source": [
    "splits['train'].count_examples()"
   ]
  },
  {
   "cell_type": "code",
   "execution_count": 8,
   "metadata": {},
   "outputs": [
    {
     "name": "stdout",
     "output_type": "stream",
     "text": [
      "                                             examples\n",
      "relation               examples    triples    /triple\n",
      "--------               --------    -------    -------\n",
      "adjoins                     145        419       0.35\n",
      "capital                      19        116       0.16\n",
      "contains                     59       4220       0.01\n",
      "has_spouse                    0        575       0.00\n",
      "nationality                   1        302       0.00\n",
      "place_of_birth                1        223       0.00\n",
      "place_of_death                0        155       0.00\n",
      "worked_at                     0        252       0.00\n"
     ]
    }
   ],
   "source": [
    "splits['test'].count_examples()"
   ]
  },
  {
   "cell_type": "markdown",
   "metadata": {},
   "source": [
    "### GLOVE"
   ]
  },
  {
   "cell_type": "code",
   "execution_count": 11,
   "metadata": {},
   "outputs": [],
   "source": [
    "glove_lookup = utils.glove2dict('glove.6B.300d.txt')"
   ]
  },
  {
   "cell_type": "code",
   "execution_count": 12,
   "metadata": {},
   "outputs": [],
   "source": [
    "def glove_middle_featurizer(kbt, corpus, np_func=np.sum):\n",
    "    reps = []\n",
    "    for ex in corpus.get_examples_for_entities(kbt.sbj, kbt.obj):\n",
    "        for word in ex.middle.split():\n",
    "            rep = glove_lookup.get(word)\n",
    "            if rep is not None:\n",
    "                reps.append(rep)\n",
    "    # A random representation of the right dimensionality if the\n",
    "    # example happens not to overlap with GloVe's vocabulary:\n",
    "    if len(reps) == 0:\n",
    "        dim = len(next(iter(glove_lookup.values())))\n",
    "        return utils.randvec(n=dim)\n",
    "    else:\n",
    "        return np_func(reps, axis=0)"
   ]
  },
  {
   "cell_type": "code",
   "execution_count": 13,
   "metadata": {},
   "outputs": [],
   "source": [
    "model_factory = lambda: LogisticRegression(fit_intercept=True, solver='liblinear')"
   ]
  },
  {
   "cell_type": "code",
   "execution_count": 17,
   "metadata": {},
   "outputs": [
    {
     "name": "stdout",
     "output_type": "stream",
     "text": [
      "relation              precision     recall    f-score    support       size\n",
      "------------------    ---------  ---------  ---------  ---------  ---------\n",
      "adjoins                   0.174      0.010      0.039        419       2795\n",
      "capital                   0.000      0.000      0.000        116       2492\n",
      "contains                  0.766      0.993      0.803       4220       6596\n",
      "has_spouse                0.345      0.158      0.279        575       2951\n",
      "nationality               0.200      0.040      0.111        302       2678\n",
      "place_of_birth            0.000      0.000      0.000        223       2599\n",
      "place_of_death            0.100      0.006      0.026        155       2531\n",
      "worked_at                 0.278      0.040      0.126        252       2628\n",
      "------------------    ---------  ---------  ---------  ---------  ---------\n",
      "macro-average             0.233      0.156      0.173       6262      25270\n"
     ]
    }
   ],
   "source": [
    "glove_results = rel_ext_OLD.experiment(\n",
    "    splits,\n",
    "    train_split='train',\n",
    "    test_split='test',\n",
    "    featurizers=[glove_middle_featurizer],\n",
    "    vectorize=False,\n",
    "    model_factory=model_factory,\n",
    "    verbose=True)"
   ]
  },
  {
   "cell_type": "code",
   "execution_count": null,
   "metadata": {},
   "outputs": [],
   "source": []
  }
 ],
 "metadata": {
  "kernelspec": {
   "display_name": "Python 3 (ipykernel)",
   "language": "python",
   "name": "python3"
  },
  "language_info": {
   "codemirror_mode": {
    "name": "ipython",
    "version": 3
   },
   "file_extension": ".py",
   "mimetype": "text/x-python",
   "name": "python",
   "nbconvert_exporter": "python",
   "pygments_lexer": "ipython3",
   "version": "3.8.12"
  },
  "widgets": {
   "state": {},
   "version": "1.1.2"
  }
 },
 "nbformat": 4,
 "nbformat_minor": 4
}
