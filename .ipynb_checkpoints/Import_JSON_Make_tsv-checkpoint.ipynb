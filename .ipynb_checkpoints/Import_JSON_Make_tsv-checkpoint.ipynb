{
 "cells": [
  {
   "cell_type": "markdown",
   "id": "e03a7635-6994-4246-ab31-b4840b2ae9c2",
   "metadata": {},
   "source": [
    "### The purpose of this notebook is to create the corpus that I will use in the relation extraction experiment"
   ]
  },
  {
   "cell_type": "code",
   "execution_count": 2,
   "id": "74018309-2d8d-4109-8c39-173c2b5cbb95",
   "metadata": {},
   "outputs": [],
   "source": [
    "import pandas as pd\n",
    "import os\n",
    "import spacy\n",
    "import re"
   ]
  },
  {
   "cell_type": "code",
   "execution_count": 2,
   "id": "b6858a4b-52e8-4746-a290-aed1cb22d271",
   "metadata": {},
   "outputs": [
    {
     "name": "stderr",
     "output_type": "stream",
     "text": [
      "/var/folders/jr/87t7453n4pqbkl_r5lb2mb5r0000gn/T/ipykernel_98884/1999909185.py:3: FutureWarning: Passing a negative integer is deprecated in version 1.0 and will not be supported in future version. Instead, use None to not limit the column width.\n",
      "  pd.set_option('display.max_colwidth', -1)  # or 199\n"
     ]
    }
   ],
   "source": [
    "# pd.set_option('display.max_columns', None)  # or 1000\n",
    "# pd.set_option('display.max_rows', None)  # or 1000\n",
    "# pd.set_option('display.max_colwidth', -1)  # or 199"
   ]
  },
  {
   "cell_type": "code",
   "execution_count": 3,
   "id": "23af5040-804f-413a-87e1-3ded422143e9",
   "metadata": {},
   "outputs": [
    {
     "data": {
      "text/plain": [
       "'/Users/atsukosakurai/cs224u'"
      ]
     },
     "execution_count": 3,
     "metadata": {},
     "output_type": "execute_result"
    }
   ],
   "source": [
    "os.getcwd()"
   ]
  },
  {
   "cell_type": "code",
   "execution_count": 3,
   "id": "a75b2313-c7b2-4d9a-a600-86eb8eebb542",
   "metadata": {},
   "outputs": [],
   "source": [
    "df = pd.read_json('WashPost_NewsAPI.json')"
   ]
  },
  {
   "cell_type": "code",
   "execution_count": 4,
   "id": "b5156408-93b0-4189-a7a7-99a8c4052826",
   "metadata": {},
   "outputs": [
    {
     "data": {
      "text/plain": [
       "(2495, 8)"
      ]
     },
     "execution_count": 4,
     "metadata": {},
     "output_type": "execute_result"
    }
   ],
   "source": [
    "df.shape"
   ]
  },
  {
   "cell_type": "code",
   "execution_count": 5,
   "id": "c57d847f-9c15-487f-8d3d-23e5a065844a",
   "metadata": {},
   "outputs": [
    {
     "data": {
      "text/plain": [
       "Index(['source', 'author', 'title', 'description', 'url', 'urlToImage',\n",
       "       'publishedAt', 'content'],\n",
       "      dtype='object')"
      ]
     },
     "execution_count": 5,
     "metadata": {},
     "output_type": "execute_result"
    }
   ],
   "source": [
    "df.columns"
   ]
  },
  {
   "cell_type": "code",
   "execution_count": 6,
   "id": "44caf576-9dd0-4a49-a7dd-b41e74526292",
   "metadata": {},
   "outputs": [],
   "source": [
    "df = df.drop(columns = ['source', 'author', 'title', 'description', 'url', 'urlToImage',\n",
    "       'publishedAt'])"
   ]
  },
  {
   "cell_type": "code",
   "execution_count": 7,
   "id": "ffecbb2d-074b-4ee6-8f01-66a7c8f527b2",
   "metadata": {},
   "outputs": [
    {
     "data": {
      "text/html": [
       "<div>\n",
       "<style scoped>\n",
       "    .dataframe tbody tr th:only-of-type {\n",
       "        vertical-align: middle;\n",
       "    }\n",
       "\n",
       "    .dataframe tbody tr th {\n",
       "        vertical-align: top;\n",
       "    }\n",
       "\n",
       "    .dataframe thead th {\n",
       "        text-align: right;\n",
       "    }\n",
       "</style>\n",
       "<table border=\"1\" class=\"dataframe\">\n",
       "  <thead>\n",
       "    <tr style=\"text-align: right;\">\n",
       "      <th></th>\n",
       "      <th>content</th>\n",
       "    </tr>\n",
       "  </thead>\n",
       "  <tbody>\n",
       "    <tr>\n",
       "      <th>0</th>\n",
       "      <td>Im trying to have a similar rhythm to what I h...</td>\n",
       "    </tr>\n",
       "    <tr>\n",
       "      <th>1</th>\n",
       "      <td>Chinas security law sends a chill over Hong Ko...</td>\n",
       "    </tr>\n",
       "    <tr>\n",
       "      <th>2</th>\n",
       "      <td>Then one morning, she says, he grabbed her by ...</td>\n",
       "    </tr>\n",
       "    <tr>\n",
       "      <th>3</th>\n",
       "      <td>Officials in Canada shut schools down in March...</td>\n",
       "    </tr>\n",
       "    <tr>\n",
       "      <th>4</th>\n",
       "      <td>The first session of the much-anticipated stra...</td>\n",
       "    </tr>\n",
       "  </tbody>\n",
       "</table>\n",
       "</div>"
      ],
      "text/plain": [
       "                                             content\n",
       "0  Im trying to have a similar rhythm to what I h...\n",
       "1  Chinas security law sends a chill over Hong Ko...\n",
       "2  Then one morning, she says, he grabbed her by ...\n",
       "3  Officials in Canada shut schools down in March...\n",
       "4  The first session of the much-anticipated stra..."
      ]
     },
     "execution_count": 7,
     "metadata": {},
     "output_type": "execute_result"
    }
   ],
   "source": [
    "df.head()"
   ]
  },
  {
   "cell_type": "code",
   "execution_count": 9,
   "id": "8d65d0ce-5b50-45f4-b83f-ae0cb7927695",
   "metadata": {},
   "outputs": [
    {
     "data": {
      "text/plain": [
       "(2495, 1)"
      ]
     },
     "execution_count": 9,
     "metadata": {},
     "output_type": "execute_result"
    }
   ],
   "source": [
    "df.shape"
   ]
  },
  {
   "cell_type": "code",
   "execution_count": 10,
   "id": "05a1605a-b12d-442f-93a6-756c7d4f0503",
   "metadata": {},
   "outputs": [
    {
     "data": {
      "text/plain": [
       "2495"
      ]
     },
     "execution_count": 10,
     "metadata": {},
     "output_type": "execute_result"
    }
   ],
   "source": [
    "df.shape[0]"
   ]
  },
  {
   "cell_type": "code",
   "execution_count": 11,
   "id": "f6c305d4-8cc5-406e-8e2e-b3cd834dac0b",
   "metadata": {},
   "outputs": [
    {
     "name": "stderr",
     "output_type": "stream",
     "text": [
      "/Users/atsukosakurai/opt/anaconda3/lib/python3.8/site-packages/spacy/util.py:833: UserWarning: [W095] Model 'en_core_web_sm' (3.1.0) was trained with spaCy v3.1 and may not be 100% compatible with the current version (3.2.0). If you see errors or degraded performance, download a newer compatible model or retrain your custom model with the current spaCy version. For more details and available updates, run: python -m spacy validate\n",
      "  warnings.warn(warn_msg)\n"
     ]
    }
   ],
   "source": [
    "nlp = spacy.load('en_core_web_sm')"
   ]
  },
  {
   "cell_type": "code",
   "execution_count": 17,
   "id": "a9dbb7e8-ed6f-49bc-8103-b3a0306b2b1b",
   "metadata": {},
   "outputs": [],
   "source": [
    "to_remove_1 = '\\r\\n'\n",
    "to_remove_2 = ['(', ')', '[', ']', '{', '}']"
   ]
  },
  {
   "cell_type": "code",
   "execution_count": 20,
   "id": "fef50cc5-7494-4ef3-bbb2-49ff69b71aff",
   "metadata": {},
   "outputs": [],
   "source": [
    "for i in range(df.shape[0]):\n",
    "    text = df['content'].iloc[i]\n",
    "    text = text.replace(to_remove_1, '')\n",
    "    df['content'].iloc[i] = text"
   ]
  },
  {
   "cell_type": "code",
   "execution_count": 22,
   "id": "dd7d5983-ab11-4c37-b6f1-08863684f7af",
   "metadata": {},
   "outputs": [],
   "source": [
    "for i in range(df.shape[0]):\n",
    "    text = df['content'].iloc[i]\n",
    "    for j in range (len(to_remove_2)):\n",
    "        text = text.replace(to_remove_2[j], '')\n",
    "    df['content'].iloc[i] = text"
   ]
  },
  {
   "cell_type": "code",
   "execution_count": 24,
   "id": "5b6f437d-0f8f-4042-8ef5-31ec79ccb817",
   "metadata": {},
   "outputs": [],
   "source": [
    "all_sentences = []"
   ]
  },
  {
   "cell_type": "code",
   "execution_count": 25,
   "id": "790e9c9a-93c3-4b73-801b-d6e42f28b012",
   "metadata": {},
   "outputs": [],
   "source": [
    "for i in range(df.shape[0]):\n",
    "    text = df['content'].iloc[i]\n",
    "    sentences = [i for i in nlp(text).sents]\n",
    "        \n",
    "    for sent in sentences:\n",
    "        all_sentences.append(sent)"
   ]
  },
  {
   "cell_type": "code",
   "execution_count": 26,
   "id": "79666232-cdd8-4173-a937-c2a86fdfd57e",
   "metadata": {},
   "outputs": [
    {
     "data": {
      "text/plain": [
       "52064"
      ]
     },
     "execution_count": 26,
     "metadata": {},
     "output_type": "execute_result"
    }
   ],
   "source": [
    "len(all_sentences)"
   ]
  },
  {
   "cell_type": "code",
   "execution_count": 27,
   "id": "5adfd103-692b-4a25-99a2-5b9593f88ec1",
   "metadata": {},
   "outputs": [
    {
     "data": {
      "text/plain": [
       "Im trying to have a similar rhythm to what I have in the office, said Ochoa, 39, an administrator at an art business in Madrid."
      ]
     },
     "execution_count": 27,
     "metadata": {},
     "output_type": "execute_result"
    }
   ],
   "source": [
    "all_sentences[0]"
   ]
  },
  {
   "cell_type": "code",
   "execution_count": 28,
   "id": "3d5aff3e-43e5-4d36-be19-a3b3b26dd832",
   "metadata": {},
   "outputs": [],
   "source": [
    "def create_entries(doc):\n",
    "    \n",
    "    all_rows_in_sent = []\n",
    "    \n",
    "    # collect NERs, create unique ID (underscore if more than one word) and put them into pairs \n",
    "    ents_per_sent = []\n",
    "    \n",
    "    sent_str = doc.text.strip()\n",
    "    doc = nlp(sent_str)\n",
    "    \n",
    "    # get all entities for a sentence \n",
    "    if doc.ents:\n",
    "        for ent in doc.ents:\n",
    "            # convert entity as a string\n",
    "            ent_str = ent.text.strip()\n",
    "            ents_per_sent.append(ent_str)\n",
    "        \n",
    "    # create pairs out of those entities\n",
    "    all_pairs = []\n",
    "    \n",
    "    #print('Ents found in this sentence:', ents_per_sent)\n",
    "    \n",
    "    for i in range(len(ents_per_sent)-1):\n",
    "        pair = []\n",
    "        pair.append(ents_per_sent[i])\n",
    "        pair.append(ents_per_sent[i+1])\n",
    "        all_pairs.append(pair)\n",
    "        \n",
    "\n",
    "    #print('Original Sentence: ', doc.text.strip())\n",
    "    #print()\n",
    "    \n",
    "    \n",
    "    for i in range(len(all_pairs)):\n",
    "        \n",
    "        one_row = []\n",
    "        \n",
    "        stringified = doc.text.strip()\n",
    "        delimiters = all_pairs[i]\n",
    "        ent1 = delimiters[0]\n",
    "        \n",
    "        ent2 = delimiters[1]\n",
    "       \n",
    "        pattern = r'|'.join(delimiters)\n",
    "        split_string = re.split(pattern, stringified)\n",
    "        \n",
    "    \n",
    "        ent_id_1 = ent1.replace(' ', '_') # ent_1\n",
    "        ent_id_2 = ent2.replace(' ', '_') # ent_2\n",
    "        \n",
    "\n",
    "        left = split_string[0] # left   \n",
    "        mention_1 = ent1 # mention_1\n",
    "        \n",
    "        try:\n",
    "            middle = split_string[1] # middle\n",
    "        except IndexError:\n",
    "            middle = 'null'\n",
    "        \n",
    "        mention_2 = delimiters[1] # mention_2\n",
    "        right = split_string[-1] # right\n",
    "        \n",
    "        one_row.append(ent_id_1)\n",
    "        one_row.append(ent_id_2)\n",
    "        one_row.append(left)\n",
    "        one_row.append(mention_1)\n",
    "        one_row.append(middle)\n",
    "        one_row.append(mention_2)\n",
    "        one_row.append(right)\n",
    "        \n",
    "        # get left POS\n",
    "        left_doc = nlp(left)\n",
    "        left_pos_list = []\n",
    "        for token in left_doc:\n",
    "            token_str = token.text.strip()\n",
    "            token_pos = token.pos_\n",
    "            unit = token_str + '/' + token_pos\n",
    "            left_pos_list.append(unit)\n",
    "        left_pos = (' ').join(left_pos_list)\n",
    "        one_row.append(left_pos)\n",
    "        \n",
    "        # get mention_1 POS\n",
    "        mention_1_doc = nlp(mention_1)\n",
    "        mention_1_pos_list = []\n",
    "        for token in mention_1_doc:\n",
    "            token_str = token.text.strip()\n",
    "            token_pos = token.pos_\n",
    "            unit = token_str + '/' + token_pos\n",
    "            mention_1_pos_list.append(unit)\n",
    "        mention_1_pos = (' ').join(mention_1_pos_list)\n",
    "        one_row.append(mention_1_pos)\n",
    "        \n",
    "        # get middle POS\n",
    "        middle_doc = nlp(middle)\n",
    "        middle_pos_list = []\n",
    "        for token in middle_doc:\n",
    "            token_str = token.text.strip()\n",
    "            token_pos = token.pos_\n",
    "            unit = token_str + '/' + token_pos\n",
    "            middle_pos_list.append(unit)\n",
    "        middle_pos = (' ').join(middle_pos_list)\n",
    "        one_row.append(middle_pos)\n",
    "        \n",
    "        # get mention_2 POS\n",
    "        mention_2_doc = nlp(mention_2)\n",
    "        mention_2_pos_list = []\n",
    "        for token in mention_2_doc:\n",
    "            token_str = token.text.strip()\n",
    "            token_pos = token.pos_\n",
    "            unit = token_str + '/' + token_pos\n",
    "            mention_2_pos_list.append(unit)\n",
    "        mention_2_pos = (' ').join(mention_2_pos_list)\n",
    "        one_row.append(mention_2_pos)\n",
    "        \n",
    "        # get right POS\n",
    "        right_doc = nlp(right)\n",
    "        right_pos_list = []\n",
    "        for token in right_doc:\n",
    "            token_str = token.text.strip()\n",
    "            token_pos = token.pos_\n",
    "            unit = token_str + '/' + token_pos\n",
    "            right_pos_list.append(unit)\n",
    "        right_pos = (' ').join(right_pos_list)\n",
    "        one_row.append(right_pos)\n",
    "        \n",
    "        # print('---- ROW STARTS HERE------')\n",
    "        # print(one_row)\n",
    "        # print('---------END--------------')\n",
    "                       \n",
    "        all_rows_in_sent.append(one_row)\n",
    "    \n",
    "    return all_rows_in_sent\n",
    "          "
   ]
  },
  {
   "cell_type": "code",
   "execution_count": 29,
   "id": "0b954005-1a11-4c28-9165-c49a62e1899c",
   "metadata": {},
   "outputs": [],
   "source": [
    "all_entries = []"
   ]
  },
  {
   "cell_type": "code",
   "execution_count": 30,
   "id": "d061798b-b023-47f4-a938-5f3d1b1b75f6",
   "metadata": {},
   "outputs": [],
   "source": [
    "# does not accept strings that have parenthesis?\n",
    "\n",
    "for sentence in all_sentences:\n",
    "    from_one_sent = create_entries(sentence)\n",
    "    for entry in from_one_sent:\n",
    "        all_entries.append(entry)"
   ]
  },
  {
   "cell_type": "code",
   "execution_count": 31,
   "id": "b4d99c63-ad28-496f-9398-69e3db6cda3c",
   "metadata": {},
   "outputs": [
    {
     "data": {
      "text/plain": [
       "68780"
      ]
     },
     "execution_count": 31,
     "metadata": {},
     "output_type": "execute_result"
    }
   ],
   "source": [
    "len(all_entries)"
   ]
  },
  {
   "cell_type": "code",
   "execution_count": 32,
   "id": "b1ea624b-512b-4011-b640-2f6b9bec392c",
   "metadata": {},
   "outputs": [
    {
     "data": {
      "text/plain": [
       "['Guaidos',\n",
       " 'Venezuela',\n",
       " 'Moreno says he supports ',\n",
       " 'Guaidos',\n",
       " ' attempt to bring democratic change to ',\n",
       " 'Venezuela',\n",
       " '.',\n",
       " 'Moreno/PROPN says/VERB he/PRON supports/VERB',\n",
       " 'Guaidos/NOUN',\n",
       " '/SPACE attempt/NOUN to/PART bring/VERB democratic/ADJ change/NOUN to/ADP',\n",
       " 'Venezuela/PROPN',\n",
       " './PUNCT']"
      ]
     },
     "execution_count": 32,
     "metadata": {},
     "output_type": "execute_result"
    }
   ],
   "source": [
    "all_entries[-1]"
   ]
  },
  {
   "cell_type": "code",
   "execution_count": 33,
   "id": "0b5c25ef-5acd-4a7c-b5c1-67964e8fa40e",
   "metadata": {},
   "outputs": [],
   "source": [
    "df = pd.DataFrame(all_entries)"
   ]
  },
  {
   "cell_type": "code",
   "execution_count": 40,
   "id": "7cfd4aaa-a13d-4071-a26d-78d835520cd9",
   "metadata": {},
   "outputs": [
    {
     "data": {
      "text/html": [
       "<div>\n",
       "<style scoped>\n",
       "    .dataframe tbody tr th:only-of-type {\n",
       "        vertical-align: middle;\n",
       "    }\n",
       "\n",
       "    .dataframe tbody tr th {\n",
       "        vertical-align: top;\n",
       "    }\n",
       "\n",
       "    .dataframe thead th {\n",
       "        text-align: right;\n",
       "    }\n",
       "</style>\n",
       "<table border=\"1\" class=\"dataframe\">\n",
       "  <thead>\n",
       "    <tr style=\"text-align: right;\">\n",
       "      <th></th>\n",
       "      <th>0</th>\n",
       "      <th>1</th>\n",
       "      <th>2</th>\n",
       "      <th>3</th>\n",
       "      <th>4</th>\n",
       "      <th>5</th>\n",
       "      <th>6</th>\n",
       "      <th>7</th>\n",
       "      <th>8</th>\n",
       "      <th>9</th>\n",
       "      <th>10</th>\n",
       "      <th>11</th>\n",
       "    </tr>\n",
       "  </thead>\n",
       "  <tbody>\n",
       "    <tr>\n",
       "      <th>68770</th>\n",
       "      <td>U.S.</td>\n",
       "      <td>50</td>\n",
       "      <td>Guaido, who the</td>\n",
       "      <td>U.S.</td>\n",
       "      <td>and</td>\n",
       "      <td>50</td>\n",
       "      <td>other nations recognize as Venezuelas rightful president, says he seeks a peaceful transition that will allow his homeland to overcome its political and humanitarian crisis.</td>\n",
       "      <td>Guaido/PROPN ,/PUNCT who/PRON the/DET</td>\n",
       "      <td>U.S./PROPN</td>\n",
       "      <td>/SPACE and/CCONJ</td>\n",
       "      <td>50/NUM</td>\n",
       "      <td>/SPACE other/ADJ nations/NOUN recognize/VERB as/ADP Venezuelas/PROPN rightful/ADJ president/NOUN ,/PUNCT says/VERB he/PRON seeks/VERB a/DET peaceful/ADJ transition/NOUN that/DET will/AUX allow/VERB his/PRON homeland/NOUN to/PART overcome/VERB its/PRON political/ADJ and/CCONJ humanitarian/ADJ crisis/NOUN ./PUNCT</td>\n",
       "    </tr>\n",
       "    <tr>\n",
       "      <th>68771</th>\n",
       "      <td>50</td>\n",
       "      <td>Venezuelas</td>\n",
       "      <td>Guaido, who the U.S. and</td>\n",
       "      <td>50</td>\n",
       "      <td>other nations recognize as</td>\n",
       "      <td>Venezuelas</td>\n",
       "      <td>rightful president, says he seeks a peaceful transition that will allow his homeland to overcome its political and humanitarian crisis.</td>\n",
       "      <td>Guaido/PROPN ,/PUNCT who/PRON the/DET U.S./PROPN and/CCONJ</td>\n",
       "      <td>50/NUM</td>\n",
       "      <td>/SPACE other/ADJ nations/NOUN recognize/VERB as/ADP</td>\n",
       "      <td>Venezuelas/NOUN</td>\n",
       "      <td>/SPACE rightful/ADJ president/NOUN ,/PUNCT says/VERB he/PRON seeks/VERB a/DET peaceful/ADJ transition/NOUN that/DET will/AUX allow/VERB his/PRON homeland/NOUN to/PART overcome/VERB its/PRON political/ADJ and/CCONJ humanitarian/ADJ crisis/NOUN ./PUNCT</td>\n",
       "    </tr>\n",
       "    <tr>\n",
       "      <th>68772</th>\n",
       "      <td>Last_weekend</td>\n",
       "      <td>Guaido</td>\n",
       "      <td></td>\n",
       "      <td>Last weekend</td>\n",
       "      <td>,</td>\n",
       "      <td>Guaido</td>\n",
       "      <td>coordinated a failed effort to bring aid from Colombia and Brazil into Venezuela, where security forces loyal to Maduro blocked the supplies.</td>\n",
       "      <td></td>\n",
       "      <td>Last/ADJ weekend/NOUN</td>\n",
       "      <td>,/PUNCT</td>\n",
       "      <td>Guaido/NOUN</td>\n",
       "      <td>/SPACE coordinated/VERB a/DET failed/ADJ effort/NOUN to/PART bring/VERB aid/NOUN from/ADP Colombia/PROPN and/CCONJ Brazil/PROPN into/ADP Venezuela/PROPN ,/PUNCT where/ADV security/NOUN forces/NOUN loyal/ADJ to/ADP Maduro/PROPN blocked/VERB the/DET supplies/NOUN ./PUNCT</td>\n",
       "    </tr>\n",
       "    <tr>\n",
       "      <th>68773</th>\n",
       "      <td>Guaido</td>\n",
       "      <td>Colombia</td>\n",
       "      <td>Last weekend,</td>\n",
       "      <td>Guaido</td>\n",
       "      <td>coordinated a failed effort to bring aid from</td>\n",
       "      <td>Colombia</td>\n",
       "      <td>and Brazil into Venezuela, where security forces loyal to Maduro blocked the supplies.</td>\n",
       "      <td>Last/ADJ weekend/NOUN ,/PUNCT</td>\n",
       "      <td>Guaido/NOUN</td>\n",
       "      <td>/SPACE coordinated/VERB a/DET failed/ADJ effort/NOUN to/PART bring/VERB aid/NOUN from/ADP</td>\n",
       "      <td>Colombia/PROPN</td>\n",
       "      <td>/SPACE and/CCONJ Brazil/PROPN into/ADP Venezuela/PROPN ,/PUNCT where/ADV security/NOUN forces/NOUN loyal/ADJ to/ADP Maduro/PROPN blocked/VERB the/DET supplies/NOUN ./PUNCT</td>\n",
       "    </tr>\n",
       "    <tr>\n",
       "      <th>68774</th>\n",
       "      <td>Colombia</td>\n",
       "      <td>Brazil</td>\n",
       "      <td>Last weekend, Guaido coordinated a failed effort to bring aid from</td>\n",
       "      <td>Colombia</td>\n",
       "      <td>and</td>\n",
       "      <td>Brazil</td>\n",
       "      <td>into Venezuela, where security forces loyal to Maduro blocked the supplies.</td>\n",
       "      <td>Last/ADJ weekend/NOUN ,/PUNCT Guaido/PROPN coordinated/VERB a/DET failed/ADJ effort/NOUN to/PART bring/VERB aid/NOUN from/ADP</td>\n",
       "      <td>Colombia/PROPN</td>\n",
       "      <td>/SPACE and/CCONJ</td>\n",
       "      <td>Brazil/PROPN</td>\n",
       "      <td>/SPACE into/ADP Venezuela/PROPN ,/PUNCT where/ADV security/NOUN forces/NOUN loyal/ADJ to/ADP Maduro/PROPN blocked/VERB the/DET supplies/NOUN ./PUNCT</td>\n",
       "    </tr>\n",
       "    <tr>\n",
       "      <th>68775</th>\n",
       "      <td>Brazil</td>\n",
       "      <td>Venezuela</td>\n",
       "      <td>Last weekend, Guaido coordinated a failed effort to bring aid from Colombia and</td>\n",
       "      <td>Brazil</td>\n",
       "      <td>into</td>\n",
       "      <td>Venezuela</td>\n",
       "      <td>, where security forces loyal to Maduro blocked the supplies.</td>\n",
       "      <td>Last/ADJ weekend/NOUN ,/PUNCT Guaido/PROPN coordinated/VERB a/DET failed/ADJ effort/NOUN to/PART bring/VERB aid/NOUN from/ADP Colombia/PROPN and/CCONJ</td>\n",
       "      <td>Brazil/PROPN</td>\n",
       "      <td>/SPACE into/ADP</td>\n",
       "      <td>Venezuela/PROPN</td>\n",
       "      <td>,/PUNCT where/ADV security/NOUN forces/NOUN loyal/ADJ to/ADP Maduro/PROPN blocked/VERB the/DET supplies/NOUN ./PUNCT</td>\n",
       "    </tr>\n",
       "    <tr>\n",
       "      <th>68776</th>\n",
       "      <td>Venezuela</td>\n",
       "      <td>Maduro</td>\n",
       "      <td>Last weekend, Guaido coordinated a failed effort to bring aid from Colombia and Brazil into</td>\n",
       "      <td>Venezuela</td>\n",
       "      <td>, where security forces loyal to</td>\n",
       "      <td>Maduro</td>\n",
       "      <td>blocked the supplies.</td>\n",
       "      <td>Last/ADJ weekend/NOUN ,/PUNCT Guaido/PROPN coordinated/VERB a/DET failed/ADJ effort/NOUN to/PART bring/VERB aid/NOUN from/ADP Colombia/PROPN and/CCONJ Brazil/PROPN into/ADP</td>\n",
       "      <td>Venezuela/PROPN</td>\n",
       "      <td>,/PUNCT where/ADV security/NOUN forces/NOUN loyal/ADJ to/ADP</td>\n",
       "      <td>Maduro/PROPN</td>\n",
       "      <td>/SPACE blocked/VERB the/DET supplies/NOUN ./PUNCT</td>\n",
       "    </tr>\n",
       "    <tr>\n",
       "      <th>68777</th>\n",
       "      <td>Maduro</td>\n",
       "      <td>Guaidos</td>\n",
       "      <td></td>\n",
       "      <td>Maduro</td>\n",
       "      <td>described</td>\n",
       "      <td>Guaidos</td>\n",
       "      <td>gambit as part of a U.S.-backed plot to overthrow him.</td>\n",
       "      <td></td>\n",
       "      <td>Maduro/PROPN</td>\n",
       "      <td>/SPACE described/VERB</td>\n",
       "      <td>Guaidos/NOUN</td>\n",
       "      <td>/SPACE gambit/NOUN as/ADP part/NOUN of/ADP a/DET U.S.-backed/ADJ plot/NOUN to/PART overthrow/VERB him/PRON ./PUNCT</td>\n",
       "    </tr>\n",
       "    <tr>\n",
       "      <th>68778</th>\n",
       "      <td>Moreno</td>\n",
       "      <td>Guaidos</td>\n",
       "      <td></td>\n",
       "      <td>Moreno</td>\n",
       "      <td>says he supports</td>\n",
       "      <td>Guaidos</td>\n",
       "      <td>attempt to bring democratic change to Venezuela.</td>\n",
       "      <td></td>\n",
       "      <td>Moreno/PROPN</td>\n",
       "      <td>/SPACE says/VERB he/PRON supports/VERB</td>\n",
       "      <td>Guaidos/NOUN</td>\n",
       "      <td>/SPACE attempt/NOUN to/PART bring/VERB democratic/ADJ change/NOUN to/ADP Venezuela/PROPN ./PUNCT</td>\n",
       "    </tr>\n",
       "    <tr>\n",
       "      <th>68779</th>\n",
       "      <td>Guaidos</td>\n",
       "      <td>Venezuela</td>\n",
       "      <td>Moreno says he supports</td>\n",
       "      <td>Guaidos</td>\n",
       "      <td>attempt to bring democratic change to</td>\n",
       "      <td>Venezuela</td>\n",
       "      <td>.</td>\n",
       "      <td>Moreno/PROPN says/VERB he/PRON supports/VERB</td>\n",
       "      <td>Guaidos/NOUN</td>\n",
       "      <td>/SPACE attempt/NOUN to/PART bring/VERB democratic/ADJ change/NOUN to/ADP</td>\n",
       "      <td>Venezuela/PROPN</td>\n",
       "      <td>./PUNCT</td>\n",
       "    </tr>\n",
       "  </tbody>\n",
       "</table>\n",
       "</div>"
      ],
      "text/plain": [
       "                 0           1   \\\n",
       "68770  U.S.          50           \n",
       "68771  50            Venezuelas   \n",
       "68772  Last_weekend  Guaido       \n",
       "68773  Guaido        Colombia     \n",
       "68774  Colombia      Brazil       \n",
       "68775  Brazil        Venezuela    \n",
       "68776  Venezuela     Maduro       \n",
       "68777  Maduro        Guaidos      \n",
       "68778  Moreno        Guaidos      \n",
       "68779  Guaidos       Venezuela    \n",
       "\n",
       "                                                                                                 2   \\\n",
       "68770  Guaido, who the                                                                                \n",
       "68771  Guaido, who the U.S. and                                                                       \n",
       "68772                                                                                                 \n",
       "68773  Last weekend,                                                                                  \n",
       "68774  Last weekend, Guaido coordinated a failed effort to bring aid from                             \n",
       "68775  Last weekend, Guaido coordinated a failed effort to bring aid from Colombia and                \n",
       "68776  Last weekend, Guaido coordinated a failed effort to bring aid from Colombia and Brazil into    \n",
       "68777                                                                                                 \n",
       "68778                                                                                                 \n",
       "68779  Moreno says he supports                                                                        \n",
       "\n",
       "                 3                                                4   \\\n",
       "68770  U.S.           and                                              \n",
       "68771  50             other nations recognize as                       \n",
       "68772  Last weekend  ,                                                 \n",
       "68773  Guaido         coordinated a failed effort to bring aid from    \n",
       "68774  Colombia       and                                              \n",
       "68775  Brazil         into                                             \n",
       "68776  Venezuela     , where security forces loyal to                  \n",
       "68777  Maduro         described                                        \n",
       "68778  Moreno         says he supports                                 \n",
       "68779  Guaidos        attempt to bring democratic change to            \n",
       "\n",
       "               5   \\\n",
       "68770  50           \n",
       "68771  Venezuelas   \n",
       "68772  Guaido       \n",
       "68773  Colombia     \n",
       "68774  Brazil       \n",
       "68775  Venezuela    \n",
       "68776  Maduro       \n",
       "68777  Guaidos      \n",
       "68778  Guaidos      \n",
       "68779  Venezuela    \n",
       "\n",
       "                                                                                                                                                                                   6   \\\n",
       "68770   other nations recognize as Venezuelas rightful president, says he seeks a peaceful transition that will allow his homeland to overcome its political and humanitarian crisis.   \n",
       "68771   rightful president, says he seeks a peaceful transition that will allow his homeland to overcome its political and humanitarian crisis.                                         \n",
       "68772   coordinated a failed effort to bring aid from Colombia and Brazil into Venezuela, where security forces loyal to Maduro blocked the supplies.                                   \n",
       "68773   and Brazil into Venezuela, where security forces loyal to Maduro blocked the supplies.                                                                                          \n",
       "68774   into Venezuela, where security forces loyal to Maduro blocked the supplies.                                                                                                     \n",
       "68775  , where security forces loyal to Maduro blocked the supplies.                                                                                                                    \n",
       "68776   blocked the supplies.                                                                                                                                                           \n",
       "68777   gambit as part of a U.S.-backed plot to overthrow him.                                                                                                                          \n",
       "68778   attempt to bring democratic change to Venezuela.                                                                                                                                \n",
       "68779  .                                                                                                                                                                                \n",
       "\n",
       "                                                                                                                                                                                 7   \\\n",
       "68770  Guaido/PROPN ,/PUNCT who/PRON the/DET                                                                                                                                          \n",
       "68771  Guaido/PROPN ,/PUNCT who/PRON the/DET U.S./PROPN and/CCONJ                                                                                                                     \n",
       "68772                                                                                                                                                                                 \n",
       "68773  Last/ADJ weekend/NOUN ,/PUNCT                                                                                                                                                  \n",
       "68774  Last/ADJ weekend/NOUN ,/PUNCT Guaido/PROPN coordinated/VERB a/DET failed/ADJ effort/NOUN to/PART bring/VERB aid/NOUN from/ADP                                                  \n",
       "68775  Last/ADJ weekend/NOUN ,/PUNCT Guaido/PROPN coordinated/VERB a/DET failed/ADJ effort/NOUN to/PART bring/VERB aid/NOUN from/ADP Colombia/PROPN and/CCONJ                         \n",
       "68776  Last/ADJ weekend/NOUN ,/PUNCT Guaido/PROPN coordinated/VERB a/DET failed/ADJ effort/NOUN to/PART bring/VERB aid/NOUN from/ADP Colombia/PROPN and/CCONJ Brazil/PROPN into/ADP   \n",
       "68777                                                                                                                                                                                 \n",
       "68778                                                                                                                                                                                 \n",
       "68779  Moreno/PROPN says/VERB he/PRON supports/VERB                                                                                                                                   \n",
       "\n",
       "                          8   \\\n",
       "68770  U.S./PROPN              \n",
       "68771  50/NUM                  \n",
       "68772  Last/ADJ weekend/NOUN   \n",
       "68773  Guaido/NOUN             \n",
       "68774  Colombia/PROPN          \n",
       "68775  Brazil/PROPN            \n",
       "68776  Venezuela/PROPN         \n",
       "68777  Maduro/PROPN            \n",
       "68778  Moreno/PROPN            \n",
       "68779  Guaidos/NOUN            \n",
       "\n",
       "                                                                                              9   \\\n",
       "68770  /SPACE and/CCONJ                                                                            \n",
       "68771  /SPACE other/ADJ nations/NOUN recognize/VERB as/ADP                                         \n",
       "68772  ,/PUNCT                                                                                     \n",
       "68773  /SPACE coordinated/VERB a/DET failed/ADJ effort/NOUN to/PART bring/VERB aid/NOUN from/ADP   \n",
       "68774  /SPACE and/CCONJ                                                                            \n",
       "68775  /SPACE into/ADP                                                                             \n",
       "68776  ,/PUNCT where/ADV security/NOUN forces/NOUN loyal/ADJ to/ADP                                \n",
       "68777  /SPACE described/VERB                                                                       \n",
       "68778  /SPACE says/VERB he/PRON supports/VERB                                                      \n",
       "68779  /SPACE attempt/NOUN to/PART bring/VERB democratic/ADJ change/NOUN to/ADP                    \n",
       "\n",
       "                    10  \\\n",
       "68770  50/NUM            \n",
       "68771  Venezuelas/NOUN   \n",
       "68772  Guaido/NOUN       \n",
       "68773  Colombia/PROPN    \n",
       "68774  Brazil/PROPN      \n",
       "68775  Venezuela/PROPN   \n",
       "68776  Maduro/PROPN      \n",
       "68777  Guaidos/NOUN      \n",
       "68778  Guaidos/NOUN      \n",
       "68779  Venezuela/PROPN   \n",
       "\n",
       "                                                                                                                                                                                                                                                                                                                             11  \n",
       "68770  /SPACE other/ADJ nations/NOUN recognize/VERB as/ADP Venezuelas/PROPN rightful/ADJ president/NOUN ,/PUNCT says/VERB he/PRON seeks/VERB a/DET peaceful/ADJ transition/NOUN that/DET will/AUX allow/VERB his/PRON homeland/NOUN to/PART overcome/VERB its/PRON political/ADJ and/CCONJ humanitarian/ADJ crisis/NOUN ./PUNCT  \n",
       "68771  /SPACE rightful/ADJ president/NOUN ,/PUNCT says/VERB he/PRON seeks/VERB a/DET peaceful/ADJ transition/NOUN that/DET will/AUX allow/VERB his/PRON homeland/NOUN to/PART overcome/VERB its/PRON political/ADJ and/CCONJ humanitarian/ADJ crisis/NOUN ./PUNCT                                                                \n",
       "68772  /SPACE coordinated/VERB a/DET failed/ADJ effort/NOUN to/PART bring/VERB aid/NOUN from/ADP Colombia/PROPN and/CCONJ Brazil/PROPN into/ADP Venezuela/PROPN ,/PUNCT where/ADV security/NOUN forces/NOUN loyal/ADJ to/ADP Maduro/PROPN blocked/VERB the/DET supplies/NOUN ./PUNCT                                             \n",
       "68773  /SPACE and/CCONJ Brazil/PROPN into/ADP Venezuela/PROPN ,/PUNCT where/ADV security/NOUN forces/NOUN loyal/ADJ to/ADP Maduro/PROPN blocked/VERB the/DET supplies/NOUN ./PUNCT                                                                                                                                               \n",
       "68774  /SPACE into/ADP Venezuela/PROPN ,/PUNCT where/ADV security/NOUN forces/NOUN loyal/ADJ to/ADP Maduro/PROPN blocked/VERB the/DET supplies/NOUN ./PUNCT                                                                                                                                                                      \n",
       "68775  ,/PUNCT where/ADV security/NOUN forces/NOUN loyal/ADJ to/ADP Maduro/PROPN blocked/VERB the/DET supplies/NOUN ./PUNCT                                                                                                                                                                                                      \n",
       "68776  /SPACE blocked/VERB the/DET supplies/NOUN ./PUNCT                                                                                                                                                                                                                                                                         \n",
       "68777  /SPACE gambit/NOUN as/ADP part/NOUN of/ADP a/DET U.S.-backed/ADJ plot/NOUN to/PART overthrow/VERB him/PRON ./PUNCT                                                                                                                                                                                                        \n",
       "68778  /SPACE attempt/NOUN to/PART bring/VERB democratic/ADJ change/NOUN to/ADP Venezuela/PROPN ./PUNCT                                                                                                                                                                                                                          \n",
       "68779  ./PUNCT                                                                                                                                                                                                                                                                                                                   "
      ]
     },
     "execution_count": 40,
     "metadata": {},
     "output_type": "execute_result"
    }
   ],
   "source": [
    "df.tail(10)"
   ]
  },
  {
   "cell_type": "code",
   "execution_count": 49,
   "id": "07862da2-8e48-4f47-92a5-49acb808ddab",
   "metadata": {},
   "outputs": [
    {
     "data": {
      "text/plain": [
       "Last weekend, Guaido coordinated a failed effort to bring aid from Colombia and Brazil into Venezuela, where security forces loyal to Maduro blocked the supplies."
      ]
     },
     "execution_count": 49,
     "metadata": {},
     "output_type": "execute_result"
    }
   ],
   "source": [
    "all_sentences[-7]"
   ]
  },
  {
   "cell_type": "code",
   "execution_count": 35,
   "id": "37bdd4d4-67d4-486e-ba8d-59294367af23",
   "metadata": {},
   "outputs": [
    {
     "data": {
      "text/plain": [
       "(68780, 12)"
      ]
     },
     "execution_count": 35,
     "metadata": {},
     "output_type": "execute_result"
    }
   ],
   "source": [
    "df.shape"
   ]
  },
  {
   "cell_type": "code",
   "execution_count": 39,
   "id": "8dba1a27-78d0-4abf-b16a-7cb84fead5d3",
   "metadata": {},
   "outputs": [],
   "source": [
    "df.to_csv('washington_post_test.tsv', sep=\"\\t\", index=False, header=False)"
   ]
  },
  {
   "cell_type": "code",
   "execution_count": null,
   "id": "3c721cd8-0e13-4838-81f1-5e07f4bcf5e0",
   "metadata": {},
   "outputs": [],
   "source": []
  },
  {
   "cell_type": "code",
   "execution_count": null,
   "id": "b3f55872-7b54-44a9-a435-67127a8f6d0f",
   "metadata": {},
   "outputs": [],
   "source": []
  },
  {
   "cell_type": "code",
   "execution_count": null,
   "id": "684e06df-8825-4bef-8ed2-a2f618b3b28b",
   "metadata": {},
   "outputs": [],
   "source": []
  }
 ],
 "metadata": {
  "kernelspec": {
   "display_name": "Python 3 (ipykernel)",
   "language": "python",
   "name": "python3"
  },
  "language_info": {
   "codemirror_mode": {
    "name": "ipython",
    "version": 3
   },
   "file_extension": ".py",
   "mimetype": "text/x-python",
   "name": "python",
   "nbconvert_exporter": "python",
   "pygments_lexer": "ipython3",
   "version": "3.8.12"
  }
 },
 "nbformat": 4,
 "nbformat_minor": 5
}
