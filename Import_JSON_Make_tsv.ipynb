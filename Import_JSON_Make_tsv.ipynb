{
 "cells": [
  {
   "cell_type": "code",
   "execution_count": null,
   "id": "b449df70-3be2-4efc-bd00-5ded6cfb3586",
   "metadata": {},
   "outputs": [],
   "source": []
  },
  {
   "cell_type": "code",
   "execution_count": 1,
   "id": "74018309-2d8d-4109-8c39-173c2b5cbb95",
   "metadata": {},
   "outputs": [],
   "source": [
    "import pandas as pd\n",
    "import os\n",
    "import spacy\n",
    "import re"
   ]
  },
  {
   "cell_type": "code",
   "execution_count": 2,
   "id": "b6858a4b-52e8-4746-a290-aed1cb22d271",
   "metadata": {},
   "outputs": [
    {
     "name": "stderr",
     "output_type": "stream",
     "text": [
      "/var/folders/jr/87t7453n4pqbkl_r5lb2mb5r0000gn/T/ipykernel_98884/1999909185.py:3: FutureWarning: Passing a negative integer is deprecated in version 1.0 and will not be supported in future version. Instead, use None to not limit the column width.\n",
      "  pd.set_option('display.max_colwidth', -1)  # or 199\n"
     ]
    }
   ],
   "source": [
    "pd.set_option('display.max_columns', None)  # or 1000\n",
    "pd.set_option('display.max_rows', None)  # or 1000\n",
    "pd.set_option('display.max_colwidth', -1)  # or 199"
   ]
  },
  {
   "cell_type": "code",
   "execution_count": 3,
   "id": "23af5040-804f-413a-87e1-3ded422143e9",
   "metadata": {},
   "outputs": [
    {
     "data": {
      "text/plain": [
       "'/Users/atsukosakurai/cs224u'"
      ]
     },
     "execution_count": 3,
     "metadata": {},
     "output_type": "execute_result"
    }
   ],
   "source": [
    "os.getcwd()"
   ]
  },
  {
   "cell_type": "code",
   "execution_count": 4,
   "id": "a75b2313-c7b2-4d9a-a600-86eb8eebb542",
   "metadata": {},
   "outputs": [],
   "source": [
    "df = pd.read_json('WashPost_NewsAPI.json')"
   ]
  },
  {
   "cell_type": "code",
   "execution_count": 5,
   "id": "b5156408-93b0-4189-a7a7-99a8c4052826",
   "metadata": {},
   "outputs": [
    {
     "data": {
      "text/plain": [
       "(2495, 8)"
      ]
     },
     "execution_count": 5,
     "metadata": {},
     "output_type": "execute_result"
    }
   ],
   "source": [
    "df.shape"
   ]
  },
  {
   "cell_type": "code",
   "execution_count": 6,
   "id": "c57d847f-9c15-487f-8d3d-23e5a065844a",
   "metadata": {},
   "outputs": [
    {
     "data": {
      "text/plain": [
       "Index(['source', 'author', 'title', 'description', 'url', 'urlToImage',\n",
       "       'publishedAt', 'content'],\n",
       "      dtype='object')"
      ]
     },
     "execution_count": 6,
     "metadata": {},
     "output_type": "execute_result"
    }
   ],
   "source": [
    "df.columns"
   ]
  },
  {
   "cell_type": "code",
   "execution_count": 7,
   "id": "44caf576-9dd0-4a49-a7dd-b41e74526292",
   "metadata": {},
   "outputs": [],
   "source": [
    "df = df.drop(columns = ['source', 'author', 'title', 'description', 'url', 'urlToImage',\n",
    "       'publishedAt'])"
   ]
  },
  {
   "cell_type": "code",
   "execution_count": 8,
   "id": "ffecbb2d-074b-4ee6-8f01-66a7c8f527b2",
   "metadata": {},
   "outputs": [
    {
     "data": {
      "text/html": [
       "<div>\n",
       "<style scoped>\n",
       "    .dataframe tbody tr th:only-of-type {\n",
       "        vertical-align: middle;\n",
       "    }\n",
       "\n",
       "    .dataframe tbody tr th {\n",
       "        vertical-align: top;\n",
       "    }\n",
       "\n",
       "    .dataframe thead th {\n",
       "        text-align: right;\n",
       "    }\n",
       "</style>\n",
       "<table border=\"1\" class=\"dataframe\">\n",
       "  <thead>\n",
       "    <tr style=\"text-align: right;\">\n",
       "      <th></th>\n",
       "      <th>content</th>\n",
       "    </tr>\n",
       "  </thead>\n",
       "  <tbody>\n",
       "    <tr>\n",
       "      <th>0</th>\n",
       "      <td>Im trying to have a similar rhythm to what I have in the office, said Ochoa, 39, an administrator at an art business in Madrid.\\r\\nThe right to disconnect predated the pandemic in much of Europe. The concept, first legislated in France in 2017, limits how much employees can be made to answer phone calls and email outside working hours. But the massive shift to remote work this year and the recognition that office life may never resume as it was has Spain, Greece, Ireland and other European countries discussing how they can preserve worker protections when people are working from home.\\r\\nWorker advocates say the always-on nature of remote work has turned pre-pandemic conversations with employers on their heads.\\r\\nBefore covid, all of the emphasis of the discussion was to persuade employers that work was capable of being done from home, said Irelands Esther Lynch, the deputy general secretary of the European Trade Union Confederation, an organization that represents labor union interests in Brussels. Now with covid, we are beginning to see a growing concern among workers that they wont be able to go back to the workplace, but that the new normal will be that the employer will like the idea of working from home, mostly as a way of saving money.\\r\\nIn Spain, Labor Minister Yolanda Díaz said Thursday that she hoped to have measures approved by next week requiring employers to pay work-from-home expenses.\\r\\nRemote work is no longer part of the future, but of the present of this country, she told a local radio station.\\r\\nDraft legislation circulated in the Spanish media would also establish a right to a flexible schedule, while setting clear hours when workers are expected to be available. The bill is expected to state that choosing to work remotely should not mean accepting a loss in pay, job stability or opportunities for promotion.\\r\\nGreece, too, has drafted remote work legislation. In addition to defining work hours and addressing expenses, the Greek bill would ban the use of cameras that some employers have used to make sure their employees were actually putting in their hours; require employers to respect the private lives of remote workers; and create a remote-work division within the countrys labor compliance agency. Policymakers are still discussing how to define overtime when people work flexible schedules at home.\\r\\nIreland, meanwhile, is in the middle of a public consultation process to draft guidelines for remote working, part of a broader push to encourage the habit even after the pandemic is over.\\r\\nSetting up my new home working station, Irish Deputy Prime Minister Leo Varadkar wrote in July, shortly after he took the post, as he tweeted a photo of Dell computer boxes piled on a desk. The Govt wants remote working to become part of the new normal. If done right, the benefits will be huge; reduced business costs, better work-life balance especially for parents, less traffic, lower emissions &amp;amp; time saved on the commute.\\r\\nThe European efforts to ensure work-life balance contrast with the United States, where there has been much griping about the work-at-home challenges posed by the pandemic, but not much of a policy response. The U.S. Families First Coronavirus Response Act provides for expanded family and medical leave at two-thirds salary. But that is only a temporary measure, and its excludes an estimated 68 million to 106 million private-sector workers, according to an analysis by the Center for American Progress.\\r\\nUnlike most European countries, the U.S. government has often had a light-touch approach to regulating relations between employers and workers, especially ones who earn a salary rather than an hourly wage. And many European societies put more emphasis on work-life balance in the first place.\\r\\nThats made the shift to remote work somewhat easier for Europeans. For many, unchaining from the office has been one of the least painful aspects of the pandemic.\\r\\nBut some workers and business owners say that the efforts to regulate work-life balance miss the reality that the pandemic upends everything about work and life, especially for parents with small children at home.\\r\\nOchoa said the hardest aspect of working from home for her and her husband was the sudden need to be home-school teachers to their 9- and 5-year-old boys, a challenge that work-life efforts cannot fully address.\\r\\nMy company gave me all the facilities to work comfortably from home. I have no complaints at all, Ochoa said.\\r\\nThe problem comes from working with little kids at home, she said. Working from home with them means you are on all day long. Wake up and be with the kids. If I dont want them watching TV all day long, I have to organize it and watch them. And I also have to work and have online meetings and cook their meals.\\r\\nPartly for that reason, almost all European countries, including Spain, have started some form of in-person schooling as summer turns into fall. In Spain, the back-to-school effort is underway, even though the countrys infection levels have surpassed those in the United States after retreating for most of the summer.\\r\\nIts an acknowledgment that even the most enlightened work-life balance effort cannot overcome the basic problem of child care and schooling.\\r\\nRemote working pretends that workers are in front of a computer for the same amount of time and at the same schedule, said María Álvarez, 38, of Madrid, who scrambled to keep her event space and marketing business afloat this spring as the pandemic froze Spaniards in place.\\r\\nShe said she had to figure out loan applications, salaries and Zoom meetings at the same time she was keeping an eye on her two children, ages 2 and 5. Her husband, a paramedic, had to change his clothes in the lobby of their apartment building, then come upstairs and try not to touch anything in their 800-square-foot apartment.\\r\\nThere is a lack of ideas out there, and my business partner and I, we found ourselves in this entire situation where we couldnt carry on with our lives, Álvarez said. And we were supposed to ask the people in our companies to do it.\\r\\nShe said that eventually, she and her business partner offered a four-day workweek to their employees, to try to give them more flexibility to handle everything else they were juggling at home.\\r\\nYou have to consider that it is not possible to work and take care of your children at the same time, she said, a situation she hopes to change next week as her children return to school.\\r\\nRolfe reported from Madrid and Birnbaum from Riga, Latvia. Quentin Ariès in Brussels contributed to this report.\\r\\nStudents in France return to schools, even as covid-19 cases soar\\r\\nThe most crushing, anxious parenting choice: To return to day care or not?\\r\\nCoronavirus cases in some European countries are rising again, but with fewer deaths. For now.</td>\n",
       "    </tr>\n",
       "    <tr>\n",
       "      <th>1</th>\n",
       "      <td>Chinas security law sends a chill over Hong Kong, 23 years after handover\\r\\nPolice arrested hundreds Sunday, using tactics now deployed against anyone suspected of sympathizing with Hong Kongs pro-democracy movement: Conducting widespread stops and searches, surrounding and arresting protesters and tackling even minors with force. By Sunday evening, at least 289 people were arrested, including one under the new national security law.\\r\\nCalls began circulating online in late August for people to march against the decision to postpone the legislative elections and the new national security law passed by fiat in Beijing in late June. The law has effectively outlawed many of the movements tactics and threatens those accused of broadly worded crimes such as secession, foreign collusion, subversion of state power and terrorism with life in prison. It has been used to target activists including Jimmy Lai, the millionaire media tycoon.\\r\\nHong Kong refugees captured at sea spent months plotting daring dash to freedom\\r\\nThousands of police officers were deployed to Kowloon to prevent the planned protest from taking place. Roads and tunnels into the neighborhood were blocked by traffic police, who searched incoming cars and the bags of passengers aboard buses. Hundreds of riot police thronged the marchs route and stopped and searched suspected protesters.\\r\\nProtesters emerged from side streets to walk north to the bustling shopping and entertainment district Mong Kok. They occasionally broke into chants such as Liberate Hong Kong, revolution of our time now considered seditious and secessionist under the new law.\\r\\nPolice targeted protesters with pepper balls and pepper spray. They cordoned off long stretches of the street to stop and search suspected protesters. Chaos broke out when undercover police officers, walking among the protesters, tackled several to the ground and dragged them away. Protesters hurled plastic water bottles at them.\\r\\nHong Kong police resort to falsehoods in new propaganda drive\\r\\nFootage circulated on social media of several male officers tackling a 12-year-old girl who tried to escape a police cordon. Police said she suddenly ran away in a suspicious manner and officers subdued her with minimum necessary force.\\r\\nAmong the arrested were opposition politicians with the League of Social Democrats who unfurled a banner criticizing the government for postponing the election. Critics say authorities have delayed the vote to avoid an embarrassing defeat for the pro-establishment camp. Nearly three quarters of respondents to a recent poll by the Hong Kong Public Opinion Research Institute said they wanted the poll to be held as soon as possible, despite the coronavirus.\\r\\nIn the new Hong Kong, Beijing forges a loyal opposition\\r\\nThe politicians, like most of those arrested, were detained on suspicion of illegal assembly. Others were charged with assaulting and obstructing police and disorderly conduct in a public place. An officer with the Hong Kong Police Force, speaking on the condition of anonymity to discuss a sensitive issue, said mass arrests are a tactic frequently deployed to scare pro-democracy protesters and their sympathizers and deter further protests.\\r\\nBy evening, police closed in on the area from all sides, sweeping through to make more arrests and forcing everyone to pass through a police line to leave.\\r\\nOne man in his 20s said he joined the protest despite the heavy penalties to show the world were still fighting and still need support.\\r\\nIts very important that the world continues to pay attention to whats happening in Hong Kong, that we dont even have the right to vote or protest anymore, said the man, who spoke on the condition of anonymity for fear of reprisal.\\r\\nGoogle ends direct cooperation with Hong Kong authorities on data requests\\r\\nBeijings liaison office in Hong Kong said a small group of anti-China rioters had incited an illegal demonstration. In a statement, the office praised Hong Kongs government and police for enforcing the law and maintaining stability.\\r\\nThere will be zero tolerance for violations of Hong Kongs national security law, the office said. We will never allow Hong Kong to become chaotic again.\\r\\nThey fought for freedom in Hong Kong. Now, they must find it in exile.\\r\\nHong Kong media tycoon Jimmy Lai arrested under national security law\\r\\nU.S. sanctions Hong Kong chief and 10 others blamed for repression in the city</td>\n",
       "    </tr>\n",
       "    <tr>\n",
       "      <th>2</th>\n",
       "      <td>Then one morning, she says, he grabbed her by the throat, slamming her against the wall and attempting to rape her. When she resisted, she said, the punching began, stopping only when fluid began trailing down her leg. Zoila screamed, fearing a miscarriage.\\r\\nI remember that day, and I just want to cry, said Zoila, who gave birth to a daughter in June. The Washington Post is using only her first name to protect her identity.\\r\\nI was pregnant, she said. During what was supposed to be a time of joy for me, I felt only pain.\\r\\nFor untold numbers of women and children around the globe, the coronavirus pandemic has meant a twofold threat: The risk of catching a deadly virus coupled with the peril of being locked in confined spaces with increasingly violent abusers.\\r\\nMeasures to control the spread of coronavirus are a nightmare for victims of domestic violence. Advocates are demanding governments step up.\\r\\nOfficial statistics are mixed. In some countries, reports of abuse have risen during the pandemic; in others, including the United States, theyve fallen. But people who work with victims say that in countries seeing fewer complaints, the numbers mask a darker reality. The closure of schools and day-care centers means teachers and social workers have been unable to identify and report abuse. A growing body of evidence suggests incidents of domestic violence are rising as families struggle with restrictions on movement and mounting economic hardship.\\r\\nCountries rich and poor have shown growing signs of a surge in domestic violence. Fifty-four percent of vulnerable females surveyed by CARE in Lebanon reported an increase in violence and harassment during the pandemic; 44 percent said they felt less safe at home.\\r\\nIn Chinas Hubei province, domestic violence reports to police more than tripled during the lockdown there in February. French Interior Minister Christophe Castaner said reports of domestic violence jumped by more than 30 percent within the first two weeks of the countrys lockdown. The Catalan regional government in Spain reported a 20 percent increase in calls to its helpline in the first few days of its confinement order, according to UNICEF.\\r\\nDomestic violence will increase during coronavirus quarantines and stay-at-home orders, experts warn\\r\\nThere is precedent for increased abuse during health crises. During the 2014 Ebola outbreak in Africa, researchers with UNICEF and major charities found, violence against children, rapes and teenage pregnancies all spiked.\\r\\nSometimes, reported abuse cases are falling dramatically and you would think that violence is going down, but its just the opposite, said Christina Wegs, the global advocacy director for sexual and reproductive rights and health for CARE. The drop is reflecting that women and vulnerable people are not able to report whats happening.\\r\\nYou see this in times of crisis. Abuse goes up as there are incredible strains on families and people are confined together without choice.\\r\\nThe Post was unable to confirm individual accounts of abuse independently. The women who spoke to The Post for this article also shared their stories with organizations that work with victims.\\r\\nThe data is particularly troubling in Latin America.\\r\\nIn Colombia, inter-family violence against women aged 29 and 59 spiked 94 percent between March and May, a study showed. Officials in Paraguay received reports of at least 80 abuse cases a day in March, a 35 percent jump from the same month a year earlier.\\r\\nIn the Venezuelan state of Tachira, local officials responded to 840 cases of abuse from March through May, up from 150 cases during the same period a year earlier. In Buenos Aires, calls to an emergency hotline for abuse cases spiked 48 percent from March through June year over year.\\r\\nSome young victims, unable to access teachers or counselors while locked down, have sought new ways to find help.\\r\\nSara Barni, head of Red Viva, an anti-abuse organization in Buenos Aires, was going through the groups Facebook messages when she spotted what she called an SOS from a 14-year boy.\\r\\nWe didnt used to get calls for help like this, she said. But were seeing it happen more during the quarantine.\\r\\nWith kids stuck at home, ER doctors see more severe cases of child abuse\\r\\nShe reviewed videos and audio recordings sent by the boy. He could be heard screaming as an uncle physically and verbally abused him and sexually abused his younger sister.\\r\\nHe sent me a video, a very short one, showing how his uncle touched his 5-year-old sister, Barni said. It was sickening.\\r\\nShe contacted Argentine authorities, she said, and several days later police found the boy and his two sisters and removed them from the abusive home.\\r\\nI couldn't believe how brave and quick thinking this young boy was, she said. I am sure that once this lockdown is over, we will discover there was a dark side to this pandemic.\\r\\nThe stress and close quarters produced by the pandemic can serve as a trigger, setting off dormant aggression.\\r\\nSandly, a 45-year old school principal in Venezuela, said she endured years of violence from her husband early in their marriage. But five years had passed since he last struck her, and she had begun to think they had turned a corner.\\r\\nI think he was trying to change, she said.\\r\\nThen covid-19 hit the region. She tested positive and was forced into official quarantine at hotel, leaving her husband to care for their 8-year old granddaughter at home. He grew resentful, she said.\\r\\nHe started texting me, sounding more violent, she said. He went from not doing anything in the house to being the one in charge of food, cleaning, cooking. He kept blaming me for what happened, saying he was not meant to do that kind of work. He said it was all my fault.\\r\\nA man feared his longtime girlfriend had covid-19, which she didnt. They died in a murder-suicide, police say.\\r\\nWhen she returned home from quarantine, she said, the restraint he had showed over the past five years had vanished. At first, she said, it was words: He would threaten to kill her. By June, she said, she was receiving regular beatings. At one point, he towered over her with a machete, threatening to hack her, according to a copy of the official complaint she lodged with the prosecutors office.\\r\\nShe grew more afraid when she started finding him sitting in the dark, brooding, staring at her with menace as she moved around the room.\\r\\nShe packed what she could into two knapsacks emblazoned with the Venezuelan flag. She took her granddaughters hand and slipped out of the house while he was not there, fleeing to a safe house set up by a charity.\\r\\nI closed the door behind me, she said. I never looked back.\\r\\nA woman was killed and skinned. Now Mexico is up in arms.\\r\\nThe death of a 7-year-old girl in Mexico provokes new outrage\\r\\nFor Mexico, a day without women: Female workers plan national strike against rising gender violence</td>\n",
       "    </tr>\n",
       "    <tr>\n",
       "      <th>3</th>\n",
       "      <td>Officials in Canada shut schools down in March. With that measure and others, and relative unity among political leaders, the country has fared far better against covid-19 than the United States. Cases per capita in Canada are less than a fifth those of the United States; deaths are less than half.\\r\\nCanadas other health crisis: As overdoses surge, officials call on government to decriminalize illicit drugs\\r\\nBut for families, the school restart has been difficult, with relief about a tentative return to normal tempered by uncertainty about whether new safety measures will work.\\r\\nWere venturing into the unknown, said Anna Banerji, a pediatric infectious-disease specialist at the University of Torontos Dalla Lana School of Public Health. We really dont know whats going to happen.\\r\\nStudents in Quebec, the province hit hardest by the coronavirus, began returning for the new school year in late August. Positive cases have since been identified in several schools. The rest of the country will be back within weeks.\\r\\nThe federal government has issued broad guidance on reopening schools, but provinces and territories have jurisdiction over education within their borders, andsome decisions are left to local school boards. This has led to a patchwork of plans differing on everything from mask-wearing to class sizes to protocols in the event of an outbreak.\\r\\nParents in Quebec have challenged the requirement that students return to school in court, arguing it deprives them of their right to make decisions related to the health and safety of their children. The government says there arent enough teachers to manage both in-person and remote learning, a voluntary reopening in May was successful, safeguards are in place to protect students health, and keeping kids at home is more dangerous than sending them to school.\\r\\nParents in British Columbia have also filed a legal challenge. Ontarios four main education unions have lodged complaints with the provincial labor board.\\r\\nSome school boards have pushed back their reopening dates or are under pressure to do so. Days before the first day of school in Ontario, some teachers were still waiting to learn what grade or subject theyd be teaching.\\r\\nVickita Bhatt usually teaches seventh grade in a Toronto suburb. A self-described planner, she learned less than one week before the start of school that shed spend the year teaching French and music to at least three classes of sixth-, seventh- and eighth-graders.\\r\\nIt has been very disorganized, Banerji said. They knew this was coming, so why is everyone scrambling at the last minute?\\r\\nDuring the last week of August, Prime Minister Justin Trudeau said his government would give $1.5 billion to provinces and territories to help with the reopening, citing the level of anxiety and preoccupation of parents across the country. Critics said the money was coming too late.\\r\\nCanadas coronavirus performance hasnt been perfect. But its done far better than the U.S.\\r\\nTheresa Tam, Canadas top doctor, said parents should be prepared for some new cases.\\r\\nIt is expected that we will get some cases in school because the chances of having a case will be reflective of whats going on in your community, she said. The key is to spot those cases quickly, manage those small clusters and not let them spread.\\r\\nPublic health officials and policymakers argue that reopening schools is key to restarting the economy, and the long-term consequences of keeping children home outweigh the risks of sending them to class.\\r\\nTorontos Hospital for Sick Children backed the reopening of schools in July. The hospital said addressing structural deficiencies, such as large class sizes, small classrooms and poor ventilation must be part of any plan.\\r\\nCritics from British Columbia to Nova Scotia say officials arent doing enough to address these problems. They worry about what might happen as temperatures cool and people spend more time in close quarters indoors.\\r\\nTeachers have shared images on social media of classrooms with desks pushed together. The Ontario Safety Advocacy for Education group posted a video in which teachers spoke of classrooms with upward of 30 students sitting elbow to elbow.\\r\\nUnions representing teachers and staff have sparred with Ontario Premier Doug Ford over class sizes for weeks. Canadas largest province has made the return to school voluntary; those who opt out can complete classes online. But that wont necessarily reduce class sizes; some school boards say they have no choice but to combine reduced classes to qualify for provincial funding agreements.\\r\\nSome Canadian businesses want to let Americans back in. Most Canadians dont.\\r\\nFord has dismissed union criticism as playing politics and said hed rather listen to his medical experts all day long than a union leader with a degree in English literature. (Ontarios top doctor has faced calls to resign, including from the head of a nurses union, over his response to the pandemic.)\\r\\nIm scared for my students, and Im scared for my colleagues and myself as well, said Bhatt, a member of the provincial New Democratic Partys executive. We want to come back to school. We just want it to be safe.\\r\\nTrudeau said last month that he was undecided about whether hed send his three children back to their school in Ontario. He told Global News that he and his wife, who has recovered from covid-19, had decided they would go back, but they would keep watching closely to make sure that our kids are safe.\\r\\nIn neighboring Quebec, once the epicenter of Canadas coronavirus outbreak, elementary schools outside of Montreal reopened briefly in May without major problems. The return was voluntary, classes were capped at 15 students and strict social distancing rules were imposed.\\r\\nNow, in-person attendance is mandatory and theres no limit on class sizes in elementary schools. Children can qualify for distance learning if they have a doctors note, but the guidance for physicians is strict and recommends even most students with serious or chronic illnesses attend school. That includes some children with cancer, waiting for an organ transplant or on dialysis.\\r\\nThe other option is to withdraw children from the formal educational system and home-school them an alternative that is not feasible for all families. Students can always reenter the system but could lose their spot in their schools.\\r\\nQuebec, Canadas hardest-hit province, is also the most aggressive about reopening\\r\\nThe number of children home-schooled in Quebec jumped 39 percent from March 10 to Aug. 24, according to the provincial education ministry. A spokesman for the ministry said the government did not yet know how many students had been granted medical exemptions and were completing school remotely.\\r\\nNoémi Berlus, the director of a Quebec association for home-based education, said the number of families in her group doubled from 850 last year to 1,701 this year. Some new members had long considered home schooling, she said, but others have children or family members with chronic illnesses, were unable to get a medical exemption and worried a return to school wouldnt be safe.\\r\\nRachel, a Montreal mother, is one of them. She sought a doctors note that would exempt her 8-year-old son, who has been in remission from cancer for a short time. He suffered hearing loss and loss of kidney function from the treatment but was not given a note, so Rachel opted to home-school him.\\r\\nHis bodys immune system is like that of a newborn baby, said Rachel, who spoke on the condition that her last name be withheld to protect her sons privacy. I cant put him in that environment and put his health at risk.\\r\\nMarie-helene Desmarais, another Montreal mother, said she and her husband decided in August that they would home-school their daughters, 6-year-old Madison and 14-year-old Audrey-Ann. Her husband has an underlying condition that would put him at risk from severe complications from covid-19, and she was worried about large class sizes. She would have preferred a distance learning option.\\r\\nMigrant farmworkers die in Canada, and Mexico wants answers\\r\\nI was so disappointed that I just said, Im going to do whats best for my family, said Desmarais, who is self-employed. Its going to be an experience. Were going to make the best of it.\\r\\nLapaquette said the transition to online learning when schools shut down in March was a little tough initially. But she said her children, who have attention-deficit/hyperactivity disorder and disruptive mood dysregulation disorder, benefited in some ways. That also contributed to her decision to home-school them.\\r\\nIts certainly taking some effort to get them into a routine, said Lapaquette, who owns a consulting business. I will admit my work has suffered this week.\\r\\nAs for Chloë and Logan?\\r\\nSo far, no complaints.\\r\\nCanadian Conservatives choose Erin OToole to lead fight against Trudeau\\r\\nTrudeaus suspension of Parliament amid ethics controversy fuels cries of coverup\\r\\nCanadian court says sending asylum seekers back to U.S. violates their rights</td>\n",
       "    </tr>\n",
       "    <tr>\n",
       "      <th>4</th>\n",
       "      <td>The first session of the much-anticipated strategic talks between the U.S. and Iraq began Thursday, and is to lay the agenda for the months ahead, including the presence of U.S. troops in the country, Iran-backed militia groups acting outside of the state and Iraqs dire economic crisis.\\r\\nU.S. Assistant Secretary of State David Schenker, in comments to reporters in Washington following the session, said Iraq had committed to moving ahead and undertaking their obligations, with regards to militia attacks targeting the American presence.\\r\\nSaturdays attack appears to have been a test of this commitment. A statement from Iraqs joint operations command following the attack said orders had been given to launch an investigation to reveal these entities that, despite our warnings to them, seek to weaken Iraq.\\r\\nA day before the talks began, a rocket landed a few hundred meters (yards) from the U.S. Embassy in Baghdads fortified Green Zone.\\r\\nAnother rocket attack on Tuesday struck the periphery of Baghdads airport, which includes a military base used by U.S. troops. There were no reported casualties or damage.\\r\\nThe U.S. has accused Iran-backed militias of carrying out such attacks in the past. Several attacks targeted U.S. interests early in March, including three military bases known to house U.S. troops. The U.S.-led coalition has withdrawn from several bases across Iraq in a planned drawdown.\\r\\nCopyright 2020 The Associated Press. All rights reserved. This material may not be published, broadcast, rewritten or redistributed without permission.</td>\n",
       "    </tr>\n",
       "  </tbody>\n",
       "</table>\n",
       "</div>"
      ],
      "text/plain": [
       "                                                                                                                                                                                                                                                                                                                                                                                                                                                                                                                                                                                                                                                                                                                                                                                                                                                                                                                                                                                                                                                                                                                                                                                                                                                                                                                                                                                                                                                                                                                                                                                                                                                                                                                                                                                                                                                                                                                                                                                                                                                                                                                                                                                                                                                                                                                                                                                                                                                                                                                                                                                                                                                                                                                                                                                                                                                                                                                                                                                                                                                                                                                                                                                                                                                                                                                                                                                                                                                                                                                                                                                                                                                                                                                                                                                                                                                                                                                                                                                                                                                                                                                                                                                                                                                                                                                                                                                                                                                                                                                                                                                                                                                                                                                                                                                                                                                                                                                                                                                                                                                                                                                                                                                                                                                                                                                                                                                                                                                                                                                                                                                                                                                                                                                                                                                                                                                                                                                                                                                                                                                                                                                                                                                                                                                                                                                                                                                                                                                                                                                                                                                                                                                                                                                                                                                                                                                                                                                                                                                                                                                                                                                                                                                                                                                                                                                                                                                                                                                                                                                                                                                                                                                                                                                                                                                                                                                                                                                                                                                                                                                                                                                                                                                                                                                                                                                                                                                                                                                                                                                                                                                                                                                                                                                                                                                                                                                                                                                                                                                                                                                                                                                                                                                                                                                                                                                                                                                                                                                                                                       content\n",
       "0  Im trying to have a similar rhythm to what I have in the office, said Ochoa, 39, an administrator at an art business in Madrid.\\r\\nThe right to disconnect predated the pandemic in much of Europe. The concept, first legislated in France in 2017, limits how much employees can be made to answer phone calls and email outside working hours. But the massive shift to remote work this year and the recognition that office life may never resume as it was has Spain, Greece, Ireland and other European countries discussing how they can preserve worker protections when people are working from home.\\r\\nWorker advocates say the always-on nature of remote work has turned pre-pandemic conversations with employers on their heads.\\r\\nBefore covid, all of the emphasis of the discussion was to persuade employers that work was capable of being done from home, said Irelands Esther Lynch, the deputy general secretary of the European Trade Union Confederation, an organization that represents labor union interests in Brussels. Now with covid, we are beginning to see a growing concern among workers that they wont be able to go back to the workplace, but that the new normal will be that the employer will like the idea of working from home, mostly as a way of saving money.\\r\\nIn Spain, Labor Minister Yolanda Díaz said Thursday that she hoped to have measures approved by next week requiring employers to pay work-from-home expenses.\\r\\nRemote work is no longer part of the future, but of the present of this country, she told a local radio station.\\r\\nDraft legislation circulated in the Spanish media would also establish a right to a flexible schedule, while setting clear hours when workers are expected to be available. The bill is expected to state that choosing to work remotely should not mean accepting a loss in pay, job stability or opportunities for promotion.\\r\\nGreece, too, has drafted remote work legislation. In addition to defining work hours and addressing expenses, the Greek bill would ban the use of cameras that some employers have used to make sure their employees were actually putting in their hours; require employers to respect the private lives of remote workers; and create a remote-work division within the countrys labor compliance agency. Policymakers are still discussing how to define overtime when people work flexible schedules at home.\\r\\nIreland, meanwhile, is in the middle of a public consultation process to draft guidelines for remote working, part of a broader push to encourage the habit even after the pandemic is over.\\r\\nSetting up my new home working station, Irish Deputy Prime Minister Leo Varadkar wrote in July, shortly after he took the post, as he tweeted a photo of Dell computer boxes piled on a desk. The Govt wants remote working to become part of the new normal. If done right, the benefits will be huge; reduced business costs, better work-life balance especially for parents, less traffic, lower emissions &amp; time saved on the commute.\\r\\nThe European efforts to ensure work-life balance contrast with the United States, where there has been much griping about the work-at-home challenges posed by the pandemic, but not much of a policy response. The U.S. Families First Coronavirus Response Act provides for expanded family and medical leave at two-thirds salary. But that is only a temporary measure, and its excludes an estimated 68 million to 106 million private-sector workers, according to an analysis by the Center for American Progress.\\r\\nUnlike most European countries, the U.S. government has often had a light-touch approach to regulating relations between employers and workers, especially ones who earn a salary rather than an hourly wage. And many European societies put more emphasis on work-life balance in the first place.\\r\\nThats made the shift to remote work somewhat easier for Europeans. For many, unchaining from the office has been one of the least painful aspects of the pandemic.\\r\\nBut some workers and business owners say that the efforts to regulate work-life balance miss the reality that the pandemic upends everything about work and life, especially for parents with small children at home.\\r\\nOchoa said the hardest aspect of working from home for her and her husband was the sudden need to be home-school teachers to their 9- and 5-year-old boys, a challenge that work-life efforts cannot fully address.\\r\\nMy company gave me all the facilities to work comfortably from home. I have no complaints at all, Ochoa said.\\r\\nThe problem comes from working with little kids at home, she said. Working from home with them means you are on all day long. Wake up and be with the kids. If I dont want them watching TV all day long, I have to organize it and watch them. And I also have to work and have online meetings and cook their meals.\\r\\nPartly for that reason, almost all European countries, including Spain, have started some form of in-person schooling as summer turns into fall. In Spain, the back-to-school effort is underway, even though the countrys infection levels have surpassed those in the United States after retreating for most of the summer.\\r\\nIts an acknowledgment that even the most enlightened work-life balance effort cannot overcome the basic problem of child care and schooling.\\r\\nRemote working pretends that workers are in front of a computer for the same amount of time and at the same schedule, said María Álvarez, 38, of Madrid, who scrambled to keep her event space and marketing business afloat this spring as the pandemic froze Spaniards in place.\\r\\nShe said she had to figure out loan applications, salaries and Zoom meetings at the same time she was keeping an eye on her two children, ages 2 and 5. Her husband, a paramedic, had to change his clothes in the lobby of their apartment building, then come upstairs and try not to touch anything in their 800-square-foot apartment.\\r\\nThere is a lack of ideas out there, and my business partner and I, we found ourselves in this entire situation where we couldnt carry on with our lives, Álvarez said. And we were supposed to ask the people in our companies to do it.\\r\\nShe said that eventually, she and her business partner offered a four-day workweek to their employees, to try to give them more flexibility to handle everything else they were juggling at home.\\r\\nYou have to consider that it is not possible to work and take care of your children at the same time, she said, a situation she hopes to change next week as her children return to school.\\r\\nRolfe reported from Madrid and Birnbaum from Riga, Latvia. Quentin Ariès in Brussels contributed to this report.\\r\\nStudents in France return to schools, even as covid-19 cases soar\\r\\nThe most crushing, anxious parenting choice: To return to day care or not?\\r\\nCoronavirus cases in some European countries are rising again, but with fewer deaths. For now.                                                                                                                                                                                                                                                                                                                                                                                                                                                                                                                                                                                                                                                                                                                                                                                                                                                                                                                                                                                                                                                                                                                                                                                                                                                                                                                                                                                                                                                                                                                                                                                                                                                                                                                                                                                                                                                                                                                                                                                                                                                                                                                                                                                                                                                                                                                                       \n",
       "1  Chinas security law sends a chill over Hong Kong, 23 years after handover\\r\\nPolice arrested hundreds Sunday, using tactics now deployed against anyone suspected of sympathizing with Hong Kongs pro-democracy movement: Conducting widespread stops and searches, surrounding and arresting protesters and tackling even minors with force. By Sunday evening, at least 289 people were arrested, including one under the new national security law.\\r\\nCalls began circulating online in late August for people to march against the decision to postpone the legislative elections and the new national security law passed by fiat in Beijing in late June. The law has effectively outlawed many of the movements tactics and threatens those accused of broadly worded crimes such as secession, foreign collusion, subversion of state power and terrorism with life in prison. It has been used to target activists including Jimmy Lai, the millionaire media tycoon.\\r\\nHong Kong refugees captured at sea spent months plotting daring dash to freedom\\r\\nThousands of police officers were deployed to Kowloon to prevent the planned protest from taking place. Roads and tunnels into the neighborhood were blocked by traffic police, who searched incoming cars and the bags of passengers aboard buses. Hundreds of riot police thronged the marchs route and stopped and searched suspected protesters.\\r\\nProtesters emerged from side streets to walk north to the bustling shopping and entertainment district Mong Kok. They occasionally broke into chants such as Liberate Hong Kong, revolution of our time now considered seditious and secessionist under the new law.\\r\\nPolice targeted protesters with pepper balls and pepper spray. They cordoned off long stretches of the street to stop and search suspected protesters. Chaos broke out when undercover police officers, walking among the protesters, tackled several to the ground and dragged them away. Protesters hurled plastic water bottles at them.\\r\\nHong Kong police resort to falsehoods in new propaganda drive\\r\\nFootage circulated on social media of several male officers tackling a 12-year-old girl who tried to escape a police cordon. Police said she suddenly ran away in a suspicious manner and officers subdued her with minimum necessary force.\\r\\nAmong the arrested were opposition politicians with the League of Social Democrats who unfurled a banner criticizing the government for postponing the election. Critics say authorities have delayed the vote to avoid an embarrassing defeat for the pro-establishment camp. Nearly three quarters of respondents to a recent poll by the Hong Kong Public Opinion Research Institute said they wanted the poll to be held as soon as possible, despite the coronavirus.\\r\\nIn the new Hong Kong, Beijing forges a loyal opposition\\r\\nThe politicians, like most of those arrested, were detained on suspicion of illegal assembly. Others were charged with assaulting and obstructing police and disorderly conduct in a public place. An officer with the Hong Kong Police Force, speaking on the condition of anonymity to discuss a sensitive issue, said mass arrests are a tactic frequently deployed to scare pro-democracy protesters and their sympathizers and deter further protests.\\r\\nBy evening, police closed in on the area from all sides, sweeping through to make more arrests and forcing everyone to pass through a police line to leave.\\r\\nOne man in his 20s said he joined the protest despite the heavy penalties to show the world were still fighting and still need support.\\r\\nIts very important that the world continues to pay attention to whats happening in Hong Kong, that we dont even have the right to vote or protest anymore, said the man, who spoke on the condition of anonymity for fear of reprisal.\\r\\nGoogle ends direct cooperation with Hong Kong authorities on data requests\\r\\nBeijings liaison office in Hong Kong said a small group of anti-China rioters had incited an illegal demonstration. In a statement, the office praised Hong Kongs government and police for enforcing the law and maintaining stability.\\r\\nThere will be zero tolerance for violations of Hong Kongs national security law, the office said. We will never allow Hong Kong to become chaotic again.\\r\\nThey fought for freedom in Hong Kong. Now, they must find it in exile.\\r\\nHong Kong media tycoon Jimmy Lai arrested under national security law\\r\\nU.S. sanctions Hong Kong chief and 10 others blamed for repression in the city                                                                                                                                                                                                                                                                                                                                                                                                                                                                                                                                                                                                                                                                                                                                                                                                                                                                                                                                                                                                                                                                                                                                                                                                                                                                                                                                                                                                                                                                                                                                                                                                                                                                                                                                                                                                                                                                                                                                                                                                                                                                                                                                                                                                                                                                                                                                                                                                                                                                                                                                                                                                                                                                                                                                                                                                                                                                                                                                                                                                                                                                                                                                                                                                                                                                                                                                                                                                                                                                                                                                                                                                                                                                                                                                                                                                                                                                                                                                                                                                                                                                                                                                                                                                                                                                                                                                                                                                                                                                                                                                                                                                                                                                                                                                                                                                                                                  \n",
       "2  Then one morning, she says, he grabbed her by the throat, slamming her against the wall and attempting to rape her. When she resisted, she said, the punching began, stopping only when fluid began trailing down her leg. Zoila screamed, fearing a miscarriage.\\r\\nI remember that day, and I just want to cry, said Zoila, who gave birth to a daughter in June. The Washington Post is using only her first name to protect her identity.\\r\\nI was pregnant, she said. During what was supposed to be a time of joy for me, I felt only pain.\\r\\nFor untold numbers of women and children around the globe, the coronavirus pandemic has meant a twofold threat: The risk of catching a deadly virus coupled with the peril of being locked in confined spaces with increasingly violent abusers.\\r\\nMeasures to control the spread of coronavirus are a nightmare for victims of domestic violence. Advocates are demanding governments step up.\\r\\nOfficial statistics are mixed. In some countries, reports of abuse have risen during the pandemic; in others, including the United States, theyve fallen. But people who work with victims say that in countries seeing fewer complaints, the numbers mask a darker reality. The closure of schools and day-care centers means teachers and social workers have been unable to identify and report abuse. A growing body of evidence suggests incidents of domestic violence are rising as families struggle with restrictions on movement and mounting economic hardship.\\r\\nCountries rich and poor have shown growing signs of a surge in domestic violence. Fifty-four percent of vulnerable females surveyed by CARE in Lebanon reported an increase in violence and harassment during the pandemic; 44 percent said they felt less safe at home.\\r\\nIn Chinas Hubei province, domestic violence reports to police more than tripled during the lockdown there in February. French Interior Minister Christophe Castaner said reports of domestic violence jumped by more than 30 percent within the first two weeks of the countrys lockdown. The Catalan regional government in Spain reported a 20 percent increase in calls to its helpline in the first few days of its confinement order, according to UNICEF.\\r\\nDomestic violence will increase during coronavirus quarantines and stay-at-home orders, experts warn\\r\\nThere is precedent for increased abuse during health crises. During the 2014 Ebola outbreak in Africa, researchers with UNICEF and major charities found, violence against children, rapes and teenage pregnancies all spiked.\\r\\nSometimes, reported abuse cases are falling dramatically and you would think that violence is going down, but its just the opposite, said Christina Wegs, the global advocacy director for sexual and reproductive rights and health for CARE. The drop is reflecting that women and vulnerable people are not able to report whats happening.\\r\\nYou see this in times of crisis. Abuse goes up as there are incredible strains on families and people are confined together without choice.\\r\\nThe Post was unable to confirm individual accounts of abuse independently. The women who spoke to The Post for this article also shared their stories with organizations that work with victims.\\r\\nThe data is particularly troubling in Latin America.\\r\\nIn Colombia, inter-family violence against women aged 29 and 59 spiked 94 percent between March and May, a study showed. Officials in Paraguay received reports of at least 80 abuse cases a day in March, a 35 percent jump from the same month a year earlier.\\r\\nIn the Venezuelan state of Tachira, local officials responded to 840 cases of abuse from March through May, up from 150 cases during the same period a year earlier. In Buenos Aires, calls to an emergency hotline for abuse cases spiked 48 percent from March through June year over year.\\r\\nSome young victims, unable to access teachers or counselors while locked down, have sought new ways to find help.\\r\\nSara Barni, head of Red Viva, an anti-abuse organization in Buenos Aires, was going through the groups Facebook messages when she spotted what she called an SOS from a 14-year boy.\\r\\nWe didnt used to get calls for help like this, she said. But were seeing it happen more during the quarantine.\\r\\nWith kids stuck at home, ER doctors see more severe cases of child abuse\\r\\nShe reviewed videos and audio recordings sent by the boy. He could be heard screaming as an uncle physically and verbally abused him and sexually abused his younger sister.\\r\\nHe sent me a video, a very short one, showing how his uncle touched his 5-year-old sister, Barni said. It was sickening.\\r\\nShe contacted Argentine authorities, she said, and several days later police found the boy and his two sisters and removed them from the abusive home.\\r\\nI couldn't believe how brave and quick thinking this young boy was, she said. I am sure that once this lockdown is over, we will discover there was a dark side to this pandemic.\\r\\nThe stress and close quarters produced by the pandemic can serve as a trigger, setting off dormant aggression.\\r\\nSandly, a 45-year old school principal in Venezuela, said she endured years of violence from her husband early in their marriage. But five years had passed since he last struck her, and she had begun to think they had turned a corner.\\r\\nI think he was trying to change, she said.\\r\\nThen covid-19 hit the region. She tested positive and was forced into official quarantine at hotel, leaving her husband to care for their 8-year old granddaughter at home. He grew resentful, she said.\\r\\nHe started texting me, sounding more violent, she said. He went from not doing anything in the house to being the one in charge of food, cleaning, cooking. He kept blaming me for what happened, saying he was not meant to do that kind of work. He said it was all my fault.\\r\\nA man feared his longtime girlfriend had covid-19, which she didnt. They died in a murder-suicide, police say.\\r\\nWhen she returned home from quarantine, she said, the restraint he had showed over the past five years had vanished. At first, she said, it was words: He would threaten to kill her. By June, she said, she was receiving regular beatings. At one point, he towered over her with a machete, threatening to hack her, according to a copy of the official complaint she lodged with the prosecutors office.\\r\\nShe grew more afraid when she started finding him sitting in the dark, brooding, staring at her with menace as she moved around the room.\\r\\nShe packed what she could into two knapsacks emblazoned with the Venezuelan flag. She took her granddaughters hand and slipped out of the house while he was not there, fleeing to a safe house set up by a charity.\\r\\nI closed the door behind me, she said. I never looked back.\\r\\nA woman was killed and skinned. Now Mexico is up in arms.\\r\\nThe death of a 7-year-old girl in Mexico provokes new outrage\\r\\nFor Mexico, a day without women: Female workers plan national strike against rising gender violence                                                                                                                                                                                                                                                                                                                                                                                                                                                                                                                                                                                                                                                                                                                                                                                                                                                                                                                                                                                                                                                                                                                                                                                                                                                                                                                                                                                                                                                                                                                                                                                                                                                                                                                                                                                                                                                                                                                                                                                                                                                                                                                                                                                                                                              \n",
       "3  Officials in Canada shut schools down in March. With that measure and others, and relative unity among political leaders, the country has fared far better against covid-19 than the United States. Cases per capita in Canada are less than a fifth those of the United States; deaths are less than half.\\r\\nCanadas other health crisis: As overdoses surge, officials call on government to decriminalize illicit drugs\\r\\nBut for families, the school restart has been difficult, with relief about a tentative return to normal tempered by uncertainty about whether new safety measures will work.\\r\\nWere venturing into the unknown, said Anna Banerji, a pediatric infectious-disease specialist at the University of Torontos Dalla Lana School of Public Health. We really dont know whats going to happen.\\r\\nStudents in Quebec, the province hit hardest by the coronavirus, began returning for the new school year in late August. Positive cases have since been identified in several schools. The rest of the country will be back within weeks.\\r\\nThe federal government has issued broad guidance on reopening schools, but provinces and territories have jurisdiction over education within their borders, andsome decisions are left to local school boards. This has led to a patchwork of plans differing on everything from mask-wearing to class sizes to protocols in the event of an outbreak.\\r\\nParents in Quebec have challenged the requirement that students return to school in court, arguing it deprives them of their right to make decisions related to the health and safety of their children. The government says there arent enough teachers to manage both in-person and remote learning, a voluntary reopening in May was successful, safeguards are in place to protect students health, and keeping kids at home is more dangerous than sending them to school.\\r\\nParents in British Columbia have also filed a legal challenge. Ontarios four main education unions have lodged complaints with the provincial labor board.\\r\\nSome school boards have pushed back their reopening dates or are under pressure to do so. Days before the first day of school in Ontario, some teachers were still waiting to learn what grade or subject theyd be teaching.\\r\\nVickita Bhatt usually teaches seventh grade in a Toronto suburb. A self-described planner, she learned less than one week before the start of school that shed spend the year teaching French and music to at least three classes of sixth-, seventh- and eighth-graders.\\r\\nIt has been very disorganized, Banerji said. They knew this was coming, so why is everyone scrambling at the last minute?\\r\\nDuring the last week of August, Prime Minister Justin Trudeau said his government would give $1.5 billion to provinces and territories to help with the reopening, citing the level of anxiety and preoccupation of parents across the country. Critics said the money was coming too late.\\r\\nCanadas coronavirus performance hasnt been perfect. But its done far better than the U.S.\\r\\nTheresa Tam, Canadas top doctor, said parents should be prepared for some new cases.\\r\\nIt is expected that we will get some cases in school because the chances of having a case will be reflective of whats going on in your community, she said. The key is to spot those cases quickly, manage those small clusters and not let them spread.\\r\\nPublic health officials and policymakers argue that reopening schools is key to restarting the economy, and the long-term consequences of keeping children home outweigh the risks of sending them to class.\\r\\nTorontos Hospital for Sick Children backed the reopening of schools in July. The hospital said addressing structural deficiencies, such as large class sizes, small classrooms and poor ventilation must be part of any plan.\\r\\nCritics from British Columbia to Nova Scotia say officials arent doing enough to address these problems. They worry about what might happen as temperatures cool and people spend more time in close quarters indoors.\\r\\nTeachers have shared images on social media of classrooms with desks pushed together. The Ontario Safety Advocacy for Education group posted a video in which teachers spoke of classrooms with upward of 30 students sitting elbow to elbow.\\r\\nUnions representing teachers and staff have sparred with Ontario Premier Doug Ford over class sizes for weeks. Canadas largest province has made the return to school voluntary; those who opt out can complete classes online. But that wont necessarily reduce class sizes; some school boards say they have no choice but to combine reduced classes to qualify for provincial funding agreements.\\r\\nSome Canadian businesses want to let Americans back in. Most Canadians dont.\\r\\nFord has dismissed union criticism as playing politics and said hed rather listen to his medical experts all day long than a union leader with a degree in English literature. (Ontarios top doctor has faced calls to resign, including from the head of a nurses union, over his response to the pandemic.)\\r\\nIm scared for my students, and Im scared for my colleagues and myself as well, said Bhatt, a member of the provincial New Democratic Partys executive. We want to come back to school. We just want it to be safe.\\r\\nTrudeau said last month that he was undecided about whether hed send his three children back to their school in Ontario. He told Global News that he and his wife, who has recovered from covid-19, had decided they would go back, but they would keep watching closely to make sure that our kids are safe.\\r\\nIn neighboring Quebec, once the epicenter of Canadas coronavirus outbreak, elementary schools outside of Montreal reopened briefly in May without major problems. The return was voluntary, classes were capped at 15 students and strict social distancing rules were imposed.\\r\\nNow, in-person attendance is mandatory and theres no limit on class sizes in elementary schools. Children can qualify for distance learning if they have a doctors note, but the guidance for physicians is strict and recommends even most students with serious or chronic illnesses attend school. That includes some children with cancer, waiting for an organ transplant or on dialysis.\\r\\nThe other option is to withdraw children from the formal educational system and home-school them an alternative that is not feasible for all families. Students can always reenter the system but could lose their spot in their schools.\\r\\nQuebec, Canadas hardest-hit province, is also the most aggressive about reopening\\r\\nThe number of children home-schooled in Quebec jumped 39 percent from March 10 to Aug. 24, according to the provincial education ministry. A spokesman for the ministry said the government did not yet know how many students had been granted medical exemptions and were completing school remotely.\\r\\nNoémi Berlus, the director of a Quebec association for home-based education, said the number of families in her group doubled from 850 last year to 1,701 this year. Some new members had long considered home schooling, she said, but others have children or family members with chronic illnesses, were unable to get a medical exemption and worried a return to school wouldnt be safe.\\r\\nRachel, a Montreal mother, is one of them. She sought a doctors note that would exempt her 8-year-old son, who has been in remission from cancer for a short time. He suffered hearing loss and loss of kidney function from the treatment but was not given a note, so Rachel opted to home-school him.\\r\\nHis bodys immune system is like that of a newborn baby, said Rachel, who spoke on the condition that her last name be withheld to protect her sons privacy. I cant put him in that environment and put his health at risk.\\r\\nMarie-helene Desmarais, another Montreal mother, said she and her husband decided in August that they would home-school their daughters, 6-year-old Madison and 14-year-old Audrey-Ann. Her husband has an underlying condition that would put him at risk from severe complications from covid-19, and she was worried about large class sizes. She would have preferred a distance learning option.\\r\\nMigrant farmworkers die in Canada, and Mexico wants answers\\r\\nI was so disappointed that I just said, Im going to do whats best for my family, said Desmarais, who is self-employed. Its going to be an experience. Were going to make the best of it.\\r\\nLapaquette said the transition to online learning when schools shut down in March was a little tough initially. But she said her children, who have attention-deficit/hyperactivity disorder and disruptive mood dysregulation disorder, benefited in some ways. That also contributed to her decision to home-school them.\\r\\nIts certainly taking some effort to get them into a routine, said Lapaquette, who owns a consulting business. I will admit my work has suffered this week.\\r\\nAs for Chloë and Logan?\\r\\nSo far, no complaints.\\r\\nCanadian Conservatives choose Erin OToole to lead fight against Trudeau\\r\\nTrudeaus suspension of Parliament amid ethics controversy fuels cries of coverup\\r\\nCanadian court says sending asylum seekers back to U.S. violates their rights\n",
       "4  The first session of the much-anticipated strategic talks between the U.S. and Iraq began Thursday, and is to lay the agenda for the months ahead, including the presence of U.S. troops in the country, Iran-backed militia groups acting outside of the state and Iraqs dire economic crisis.\\r\\nU.S. Assistant Secretary of State David Schenker, in comments to reporters in Washington following the session, said Iraq had committed to moving ahead and undertaking their obligations, with regards to militia attacks targeting the American presence.\\r\\nSaturdays attack appears to have been a test of this commitment. A statement from Iraqs joint operations command following the attack said orders had been given to launch an investigation to reveal these entities that, despite our warnings to them, seek to weaken Iraq.\\r\\nA day before the talks began, a rocket landed a few hundred meters (yards) from the U.S. Embassy in Baghdads fortified Green Zone.\\r\\nAnother rocket attack on Tuesday struck the periphery of Baghdads airport, which includes a military base used by U.S. troops. There were no reported casualties or damage.\\r\\nThe U.S. has accused Iran-backed militias of carrying out such attacks in the past. Several attacks targeted U.S. interests early in March, including three military bases known to house U.S. troops. The U.S.-led coalition has withdrawn from several bases across Iraq in a planned drawdown.\\r\\nCopyright 2020 The Associated Press. All rights reserved. This material may not be published, broadcast, rewritten or redistributed without permission.                                                                                                                                                                                                                                                                                                                                                                                                                                                                                                                                                                                                                                                                                                                                                                                                                                                                                                                                                                                                                                                                                                                                                                                                                                                                                                                                                                                                                                                                                                                                                                                                                                                                                                                                                                                                                                                                                                                                                                                                                                                                                                                                                                                                                                                                                                                                                                                                                                                                                                                                                                                                                                                                                                                                                                                                                                                                                                                                                                                                                                                                                                                                                                                                                                                                                                                                                                                                                                                                                                                                                                                                                                                                                                                                                                                                                                                                                                                                                                                                                                                                                                                                                                                                                                                                                                                                                                                                                                                                                                                                                                                                                                                                                                                                                                                                                                                                                                                                                                                                                                                                                                                                                                                                                                                                                                                                                                                                                                                                                                                                                                                                                                                                                                                                                                                                                                                                                                                                                                                                                                                                                                                                                                                                                                                                                                                                                                                                                                                                                                                                                                                                                                                                                                                                                                                                                                                                                                                                                                                                                                                                                                                                                                                                                                                                                                                                                                                                                                                                                                                                                                                                                                                                                                                                                                                                                                                                       "
      ]
     },
     "execution_count": 8,
     "metadata": {},
     "output_type": "execute_result"
    }
   ],
   "source": [
    "df.head()"
   ]
  },
  {
   "cell_type": "code",
   "execution_count": 9,
   "id": "8d65d0ce-5b50-45f4-b83f-ae0cb7927695",
   "metadata": {},
   "outputs": [
    {
     "data": {
      "text/plain": [
       "(2495, 1)"
      ]
     },
     "execution_count": 9,
     "metadata": {},
     "output_type": "execute_result"
    }
   ],
   "source": [
    "df.shape"
   ]
  },
  {
   "cell_type": "code",
   "execution_count": 10,
   "id": "05a1605a-b12d-442f-93a6-756c7d4f0503",
   "metadata": {},
   "outputs": [
    {
     "data": {
      "text/plain": [
       "2495"
      ]
     },
     "execution_count": 10,
     "metadata": {},
     "output_type": "execute_result"
    }
   ],
   "source": [
    "df.shape[0]"
   ]
  },
  {
   "cell_type": "code",
   "execution_count": 11,
   "id": "f6c305d4-8cc5-406e-8e2e-b3cd834dac0b",
   "metadata": {},
   "outputs": [
    {
     "name": "stderr",
     "output_type": "stream",
     "text": [
      "/Users/atsukosakurai/opt/anaconda3/lib/python3.8/site-packages/spacy/util.py:833: UserWarning: [W095] Model 'en_core_web_sm' (3.1.0) was trained with spaCy v3.1 and may not be 100% compatible with the current version (3.2.0). If you see errors or degraded performance, download a newer compatible model or retrain your custom model with the current spaCy version. For more details and available updates, run: python -m spacy validate\n",
      "  warnings.warn(warn_msg)\n"
     ]
    }
   ],
   "source": [
    "nlp = spacy.load('en_core_web_sm')"
   ]
  },
  {
   "cell_type": "code",
   "execution_count": 17,
   "id": "a9dbb7e8-ed6f-49bc-8103-b3a0306b2b1b",
   "metadata": {},
   "outputs": [],
   "source": [
    "to_remove_1 = '\\r\\n'\n",
    "to_remove_2 = ['(', ')', '[', ']', '{', '}']"
   ]
  },
  {
   "cell_type": "code",
   "execution_count": 20,
   "id": "fef50cc5-7494-4ef3-bbb2-49ff69b71aff",
   "metadata": {},
   "outputs": [],
   "source": [
    "for i in range(df.shape[0]):\n",
    "    text = df['content'].iloc[i]\n",
    "    text = text.replace(to_remove_1, '')\n",
    "    df['content'].iloc[i] = text"
   ]
  },
  {
   "cell_type": "code",
   "execution_count": 22,
   "id": "dd7d5983-ab11-4c37-b6f1-08863684f7af",
   "metadata": {},
   "outputs": [],
   "source": [
    "for i in range(df.shape[0]):\n",
    "    text = df['content'].iloc[i]\n",
    "    for j in range (len(to_remove_2)):\n",
    "        text = text.replace(to_remove_2[j], '')\n",
    "    df['content'].iloc[i] = text"
   ]
  },
  {
   "cell_type": "code",
   "execution_count": 24,
   "id": "5b6f437d-0f8f-4042-8ef5-31ec79ccb817",
   "metadata": {},
   "outputs": [],
   "source": [
    "all_sentences = []"
   ]
  },
  {
   "cell_type": "code",
   "execution_count": 25,
   "id": "790e9c9a-93c3-4b73-801b-d6e42f28b012",
   "metadata": {},
   "outputs": [],
   "source": [
    "for i in range(df.shape[0]):\n",
    "    text = df['content'].iloc[i]\n",
    "    sentences = [i for i in nlp(text).sents]\n",
    "        \n",
    "    for sent in sentences:\n",
    "        all_sentences.append(sent)"
   ]
  },
  {
   "cell_type": "code",
   "execution_count": 26,
   "id": "79666232-cdd8-4173-a937-c2a86fdfd57e",
   "metadata": {},
   "outputs": [
    {
     "data": {
      "text/plain": [
       "52064"
      ]
     },
     "execution_count": 26,
     "metadata": {},
     "output_type": "execute_result"
    }
   ],
   "source": [
    "len(all_sentences)"
   ]
  },
  {
   "cell_type": "code",
   "execution_count": 27,
   "id": "5adfd103-692b-4a25-99a2-5b9593f88ec1",
   "metadata": {},
   "outputs": [
    {
     "data": {
      "text/plain": [
       "Im trying to have a similar rhythm to what I have in the office, said Ochoa, 39, an administrator at an art business in Madrid."
      ]
     },
     "execution_count": 27,
     "metadata": {},
     "output_type": "execute_result"
    }
   ],
   "source": [
    "all_sentences[0]"
   ]
  },
  {
   "cell_type": "code",
   "execution_count": null,
   "id": "2659c35b-2dce-4461-abd2-895b431f126e",
   "metadata": {},
   "outputs": [],
   "source": [
    "# for sent in all_sentences:\n",
    "#     ent_count = []\n",
    "#     sent_str = sent.text.strip()\n",
    "#     sent_doc = nlp(sent_str)\n",
    "#     if sent_doc.ents:\n",
    "#         for ent in sent_doc.ents:\n",
    "#             ent = ent.text.strip()\n",
    "#             ent_count.append(ent)\n",
    "    \n",
    "#     if len(ent_count) < 2:\n",
    "#         all_sentences.remove(sent)"
   ]
  },
  {
   "cell_type": "code",
   "execution_count": 28,
   "id": "3d5aff3e-43e5-4d36-be19-a3b3b26dd832",
   "metadata": {},
   "outputs": [],
   "source": [
    "def create_entries(doc):\n",
    "    \n",
    "    all_rows_in_sent = []\n",
    "    \n",
    "    # collect NERs, create unique ID (underscore if more than one word) and put them into pairs \n",
    "    ents_per_sent = []\n",
    "    \n",
    "    sent_str = doc.text.strip()\n",
    "    doc = nlp(sent_str)\n",
    "    \n",
    "    # get all entities for a sentence \n",
    "    if doc.ents:\n",
    "        for ent in doc.ents:\n",
    "            # convert entity as a string\n",
    "            ent_str = ent.text.strip()\n",
    "            ents_per_sent.append(ent_str)\n",
    "        \n",
    "    # create pairs out of those entities\n",
    "    all_pairs = []\n",
    "    \n",
    "    #print('Ents found in this sentence:', ents_per_sent)\n",
    "    \n",
    "    for i in range(len(ents_per_sent)-1):\n",
    "        pair = []\n",
    "        pair.append(ents_per_sent[i])\n",
    "        pair.append(ents_per_sent[i+1])\n",
    "        all_pairs.append(pair)\n",
    "        \n",
    "\n",
    "    #print('Original Sentence: ', doc.text.strip())\n",
    "    #print()\n",
    "    \n",
    "    \n",
    "    for i in range(len(all_pairs)):\n",
    "        \n",
    "        one_row = []\n",
    "        \n",
    "        stringified = doc.text.strip()\n",
    "        delimiters = all_pairs[i]\n",
    "        ent1 = delimiters[0]\n",
    "        \n",
    "        ent2 = delimiters[1]\n",
    "       \n",
    "        pattern = r'|'.join(delimiters)\n",
    "        split_string = re.split(pattern, stringified)\n",
    "        \n",
    "    \n",
    "        ent_id_1 = ent1.replace(' ', '_') # ent_1\n",
    "        ent_id_2 = ent2.replace(' ', '_') # ent_2\n",
    "        \n",
    "\n",
    "        left = split_string[0] # left   \n",
    "        mention_1 = ent1 # mention_1\n",
    "        \n",
    "        try:\n",
    "            middle = split_string[1] # middle\n",
    "        except IndexError:\n",
    "            middle = 'null'\n",
    "        \n",
    "        mention_2 = delimiters[1] # mention_2\n",
    "        right = split_string[-1] # right\n",
    "        \n",
    "        one_row.append(ent_id_1)\n",
    "        one_row.append(ent_id_2)\n",
    "        one_row.append(left)\n",
    "        one_row.append(mention_1)\n",
    "        one_row.append(middle)\n",
    "        one_row.append(mention_2)\n",
    "        one_row.append(right)\n",
    "        \n",
    "        # get left POS\n",
    "        left_doc = nlp(left)\n",
    "        left_pos_list = []\n",
    "        for token in left_doc:\n",
    "            token_str = token.text.strip()\n",
    "            token_pos = token.pos_\n",
    "            unit = token_str + '/' + token_pos\n",
    "            left_pos_list.append(unit)\n",
    "        left_pos = (' ').join(left_pos_list)\n",
    "        one_row.append(left_pos)\n",
    "        \n",
    "        # get mention_1 POS\n",
    "        mention_1_doc = nlp(mention_1)\n",
    "        mention_1_pos_list = []\n",
    "        for token in mention_1_doc:\n",
    "            token_str = token.text.strip()\n",
    "            token_pos = token.pos_\n",
    "            unit = token_str + '/' + token_pos\n",
    "            mention_1_pos_list.append(unit)\n",
    "        mention_1_pos = (' ').join(mention_1_pos_list)\n",
    "        one_row.append(mention_1_pos)\n",
    "        \n",
    "        # get middle POS\n",
    "        middle_doc = nlp(middle)\n",
    "        middle_pos_list = []\n",
    "        for token in middle_doc:\n",
    "            token_str = token.text.strip()\n",
    "            token_pos = token.pos_\n",
    "            unit = token_str + '/' + token_pos\n",
    "            middle_pos_list.append(unit)\n",
    "        middle_pos = (' ').join(middle_pos_list)\n",
    "        one_row.append(middle_pos)\n",
    "        \n",
    "        # get mention_2 POS\n",
    "        mention_2_doc = nlp(mention_2)\n",
    "        mention_2_pos_list = []\n",
    "        for token in mention_2_doc:\n",
    "            token_str = token.text.strip()\n",
    "            token_pos = token.pos_\n",
    "            unit = token_str + '/' + token_pos\n",
    "            mention_2_pos_list.append(unit)\n",
    "        mention_2_pos = (' ').join(mention_2_pos_list)\n",
    "        one_row.append(mention_2_pos)\n",
    "        \n",
    "        # get right POS\n",
    "        right_doc = nlp(right)\n",
    "        right_pos_list = []\n",
    "        for token in right_doc:\n",
    "            token_str = token.text.strip()\n",
    "            token_pos = token.pos_\n",
    "            unit = token_str + '/' + token_pos\n",
    "            right_pos_list.append(unit)\n",
    "        right_pos = (' ').join(right_pos_list)\n",
    "        one_row.append(right_pos)\n",
    "        \n",
    "        # print('---- ROW STARTS HERE------')\n",
    "        # print(one_row)\n",
    "        # print('---------END--------------')\n",
    "                       \n",
    "        all_rows_in_sent.append(one_row)\n",
    "    \n",
    "    return all_rows_in_sent\n",
    "          "
   ]
  },
  {
   "cell_type": "code",
   "execution_count": 29,
   "id": "0b954005-1a11-4c28-9165-c49a62e1899c",
   "metadata": {},
   "outputs": [],
   "source": [
    "all_entries = []"
   ]
  },
  {
   "cell_type": "code",
   "execution_count": 30,
   "id": "d061798b-b023-47f4-a938-5f3d1b1b75f6",
   "metadata": {},
   "outputs": [],
   "source": [
    "# does not accept strings that have parenthesis?\n",
    "\n",
    "for sentence in all_sentences:\n",
    "    from_one_sent = create_entries(sentence)\n",
    "    for entry in from_one_sent:\n",
    "        all_entries.append(entry)"
   ]
  },
  {
   "cell_type": "code",
   "execution_count": 31,
   "id": "b4d99c63-ad28-496f-9398-69e3db6cda3c",
   "metadata": {},
   "outputs": [
    {
     "data": {
      "text/plain": [
       "68780"
      ]
     },
     "execution_count": 31,
     "metadata": {},
     "output_type": "execute_result"
    }
   ],
   "source": [
    "len(all_entries)"
   ]
  },
  {
   "cell_type": "code",
   "execution_count": 32,
   "id": "b1ea624b-512b-4011-b640-2f6b9bec392c",
   "metadata": {},
   "outputs": [
    {
     "data": {
      "text/plain": [
       "['Guaidos',\n",
       " 'Venezuela',\n",
       " 'Moreno says he supports ',\n",
       " 'Guaidos',\n",
       " ' attempt to bring democratic change to ',\n",
       " 'Venezuela',\n",
       " '.',\n",
       " 'Moreno/PROPN says/VERB he/PRON supports/VERB',\n",
       " 'Guaidos/NOUN',\n",
       " '/SPACE attempt/NOUN to/PART bring/VERB democratic/ADJ change/NOUN to/ADP',\n",
       " 'Venezuela/PROPN',\n",
       " './PUNCT']"
      ]
     },
     "execution_count": 32,
     "metadata": {},
     "output_type": "execute_result"
    }
   ],
   "source": [
    "all_entries[-1]"
   ]
  },
  {
   "cell_type": "code",
   "execution_count": 33,
   "id": "0b5c25ef-5acd-4a7c-b5c1-67964e8fa40e",
   "metadata": {},
   "outputs": [],
   "source": [
    "df = pd.DataFrame(all_entries)"
   ]
  },
  {
   "cell_type": "code",
   "execution_count": 40,
   "id": "7cfd4aaa-a13d-4071-a26d-78d835520cd9",
   "metadata": {},
   "outputs": [
    {
     "data": {
      "text/html": [
       "<div>\n",
       "<style scoped>\n",
       "    .dataframe tbody tr th:only-of-type {\n",
       "        vertical-align: middle;\n",
       "    }\n",
       "\n",
       "    .dataframe tbody tr th {\n",
       "        vertical-align: top;\n",
       "    }\n",
       "\n",
       "    .dataframe thead th {\n",
       "        text-align: right;\n",
       "    }\n",
       "</style>\n",
       "<table border=\"1\" class=\"dataframe\">\n",
       "  <thead>\n",
       "    <tr style=\"text-align: right;\">\n",
       "      <th></th>\n",
       "      <th>0</th>\n",
       "      <th>1</th>\n",
       "      <th>2</th>\n",
       "      <th>3</th>\n",
       "      <th>4</th>\n",
       "      <th>5</th>\n",
       "      <th>6</th>\n",
       "      <th>7</th>\n",
       "      <th>8</th>\n",
       "      <th>9</th>\n",
       "      <th>10</th>\n",
       "      <th>11</th>\n",
       "    </tr>\n",
       "  </thead>\n",
       "  <tbody>\n",
       "    <tr>\n",
       "      <th>68770</th>\n",
       "      <td>U.S.</td>\n",
       "      <td>50</td>\n",
       "      <td>Guaido, who the</td>\n",
       "      <td>U.S.</td>\n",
       "      <td>and</td>\n",
       "      <td>50</td>\n",
       "      <td>other nations recognize as Venezuelas rightful president, says he seeks a peaceful transition that will allow his homeland to overcome its political and humanitarian crisis.</td>\n",
       "      <td>Guaido/PROPN ,/PUNCT who/PRON the/DET</td>\n",
       "      <td>U.S./PROPN</td>\n",
       "      <td>/SPACE and/CCONJ</td>\n",
       "      <td>50/NUM</td>\n",
       "      <td>/SPACE other/ADJ nations/NOUN recognize/VERB as/ADP Venezuelas/PROPN rightful/ADJ president/NOUN ,/PUNCT says/VERB he/PRON seeks/VERB a/DET peaceful/ADJ transition/NOUN that/DET will/AUX allow/VERB his/PRON homeland/NOUN to/PART overcome/VERB its/PRON political/ADJ and/CCONJ humanitarian/ADJ crisis/NOUN ./PUNCT</td>\n",
       "    </tr>\n",
       "    <tr>\n",
       "      <th>68771</th>\n",
       "      <td>50</td>\n",
       "      <td>Venezuelas</td>\n",
       "      <td>Guaido, who the U.S. and</td>\n",
       "      <td>50</td>\n",
       "      <td>other nations recognize as</td>\n",
       "      <td>Venezuelas</td>\n",
       "      <td>rightful president, says he seeks a peaceful transition that will allow his homeland to overcome its political and humanitarian crisis.</td>\n",
       "      <td>Guaido/PROPN ,/PUNCT who/PRON the/DET U.S./PROPN and/CCONJ</td>\n",
       "      <td>50/NUM</td>\n",
       "      <td>/SPACE other/ADJ nations/NOUN recognize/VERB as/ADP</td>\n",
       "      <td>Venezuelas/NOUN</td>\n",
       "      <td>/SPACE rightful/ADJ president/NOUN ,/PUNCT says/VERB he/PRON seeks/VERB a/DET peaceful/ADJ transition/NOUN that/DET will/AUX allow/VERB his/PRON homeland/NOUN to/PART overcome/VERB its/PRON political/ADJ and/CCONJ humanitarian/ADJ crisis/NOUN ./PUNCT</td>\n",
       "    </tr>\n",
       "    <tr>\n",
       "      <th>68772</th>\n",
       "      <td>Last_weekend</td>\n",
       "      <td>Guaido</td>\n",
       "      <td></td>\n",
       "      <td>Last weekend</td>\n",
       "      <td>,</td>\n",
       "      <td>Guaido</td>\n",
       "      <td>coordinated a failed effort to bring aid from Colombia and Brazil into Venezuela, where security forces loyal to Maduro blocked the supplies.</td>\n",
       "      <td></td>\n",
       "      <td>Last/ADJ weekend/NOUN</td>\n",
       "      <td>,/PUNCT</td>\n",
       "      <td>Guaido/NOUN</td>\n",
       "      <td>/SPACE coordinated/VERB a/DET failed/ADJ effort/NOUN to/PART bring/VERB aid/NOUN from/ADP Colombia/PROPN and/CCONJ Brazil/PROPN into/ADP Venezuela/PROPN ,/PUNCT where/ADV security/NOUN forces/NOUN loyal/ADJ to/ADP Maduro/PROPN blocked/VERB the/DET supplies/NOUN ./PUNCT</td>\n",
       "    </tr>\n",
       "    <tr>\n",
       "      <th>68773</th>\n",
       "      <td>Guaido</td>\n",
       "      <td>Colombia</td>\n",
       "      <td>Last weekend,</td>\n",
       "      <td>Guaido</td>\n",
       "      <td>coordinated a failed effort to bring aid from</td>\n",
       "      <td>Colombia</td>\n",
       "      <td>and Brazil into Venezuela, where security forces loyal to Maduro blocked the supplies.</td>\n",
       "      <td>Last/ADJ weekend/NOUN ,/PUNCT</td>\n",
       "      <td>Guaido/NOUN</td>\n",
       "      <td>/SPACE coordinated/VERB a/DET failed/ADJ effort/NOUN to/PART bring/VERB aid/NOUN from/ADP</td>\n",
       "      <td>Colombia/PROPN</td>\n",
       "      <td>/SPACE and/CCONJ Brazil/PROPN into/ADP Venezuela/PROPN ,/PUNCT where/ADV security/NOUN forces/NOUN loyal/ADJ to/ADP Maduro/PROPN blocked/VERB the/DET supplies/NOUN ./PUNCT</td>\n",
       "    </tr>\n",
       "    <tr>\n",
       "      <th>68774</th>\n",
       "      <td>Colombia</td>\n",
       "      <td>Brazil</td>\n",
       "      <td>Last weekend, Guaido coordinated a failed effort to bring aid from</td>\n",
       "      <td>Colombia</td>\n",
       "      <td>and</td>\n",
       "      <td>Brazil</td>\n",
       "      <td>into Venezuela, where security forces loyal to Maduro blocked the supplies.</td>\n",
       "      <td>Last/ADJ weekend/NOUN ,/PUNCT Guaido/PROPN coordinated/VERB a/DET failed/ADJ effort/NOUN to/PART bring/VERB aid/NOUN from/ADP</td>\n",
       "      <td>Colombia/PROPN</td>\n",
       "      <td>/SPACE and/CCONJ</td>\n",
       "      <td>Brazil/PROPN</td>\n",
       "      <td>/SPACE into/ADP Venezuela/PROPN ,/PUNCT where/ADV security/NOUN forces/NOUN loyal/ADJ to/ADP Maduro/PROPN blocked/VERB the/DET supplies/NOUN ./PUNCT</td>\n",
       "    </tr>\n",
       "    <tr>\n",
       "      <th>68775</th>\n",
       "      <td>Brazil</td>\n",
       "      <td>Venezuela</td>\n",
       "      <td>Last weekend, Guaido coordinated a failed effort to bring aid from Colombia and</td>\n",
       "      <td>Brazil</td>\n",
       "      <td>into</td>\n",
       "      <td>Venezuela</td>\n",
       "      <td>, where security forces loyal to Maduro blocked the supplies.</td>\n",
       "      <td>Last/ADJ weekend/NOUN ,/PUNCT Guaido/PROPN coordinated/VERB a/DET failed/ADJ effort/NOUN to/PART bring/VERB aid/NOUN from/ADP Colombia/PROPN and/CCONJ</td>\n",
       "      <td>Brazil/PROPN</td>\n",
       "      <td>/SPACE into/ADP</td>\n",
       "      <td>Venezuela/PROPN</td>\n",
       "      <td>,/PUNCT where/ADV security/NOUN forces/NOUN loyal/ADJ to/ADP Maduro/PROPN blocked/VERB the/DET supplies/NOUN ./PUNCT</td>\n",
       "    </tr>\n",
       "    <tr>\n",
       "      <th>68776</th>\n",
       "      <td>Venezuela</td>\n",
       "      <td>Maduro</td>\n",
       "      <td>Last weekend, Guaido coordinated a failed effort to bring aid from Colombia and Brazil into</td>\n",
       "      <td>Venezuela</td>\n",
       "      <td>, where security forces loyal to</td>\n",
       "      <td>Maduro</td>\n",
       "      <td>blocked the supplies.</td>\n",
       "      <td>Last/ADJ weekend/NOUN ,/PUNCT Guaido/PROPN coordinated/VERB a/DET failed/ADJ effort/NOUN to/PART bring/VERB aid/NOUN from/ADP Colombia/PROPN and/CCONJ Brazil/PROPN into/ADP</td>\n",
       "      <td>Venezuela/PROPN</td>\n",
       "      <td>,/PUNCT where/ADV security/NOUN forces/NOUN loyal/ADJ to/ADP</td>\n",
       "      <td>Maduro/PROPN</td>\n",
       "      <td>/SPACE blocked/VERB the/DET supplies/NOUN ./PUNCT</td>\n",
       "    </tr>\n",
       "    <tr>\n",
       "      <th>68777</th>\n",
       "      <td>Maduro</td>\n",
       "      <td>Guaidos</td>\n",
       "      <td></td>\n",
       "      <td>Maduro</td>\n",
       "      <td>described</td>\n",
       "      <td>Guaidos</td>\n",
       "      <td>gambit as part of a U.S.-backed plot to overthrow him.</td>\n",
       "      <td></td>\n",
       "      <td>Maduro/PROPN</td>\n",
       "      <td>/SPACE described/VERB</td>\n",
       "      <td>Guaidos/NOUN</td>\n",
       "      <td>/SPACE gambit/NOUN as/ADP part/NOUN of/ADP a/DET U.S.-backed/ADJ plot/NOUN to/PART overthrow/VERB him/PRON ./PUNCT</td>\n",
       "    </tr>\n",
       "    <tr>\n",
       "      <th>68778</th>\n",
       "      <td>Moreno</td>\n",
       "      <td>Guaidos</td>\n",
       "      <td></td>\n",
       "      <td>Moreno</td>\n",
       "      <td>says he supports</td>\n",
       "      <td>Guaidos</td>\n",
       "      <td>attempt to bring democratic change to Venezuela.</td>\n",
       "      <td></td>\n",
       "      <td>Moreno/PROPN</td>\n",
       "      <td>/SPACE says/VERB he/PRON supports/VERB</td>\n",
       "      <td>Guaidos/NOUN</td>\n",
       "      <td>/SPACE attempt/NOUN to/PART bring/VERB democratic/ADJ change/NOUN to/ADP Venezuela/PROPN ./PUNCT</td>\n",
       "    </tr>\n",
       "    <tr>\n",
       "      <th>68779</th>\n",
       "      <td>Guaidos</td>\n",
       "      <td>Venezuela</td>\n",
       "      <td>Moreno says he supports</td>\n",
       "      <td>Guaidos</td>\n",
       "      <td>attempt to bring democratic change to</td>\n",
       "      <td>Venezuela</td>\n",
       "      <td>.</td>\n",
       "      <td>Moreno/PROPN says/VERB he/PRON supports/VERB</td>\n",
       "      <td>Guaidos/NOUN</td>\n",
       "      <td>/SPACE attempt/NOUN to/PART bring/VERB democratic/ADJ change/NOUN to/ADP</td>\n",
       "      <td>Venezuela/PROPN</td>\n",
       "      <td>./PUNCT</td>\n",
       "    </tr>\n",
       "  </tbody>\n",
       "</table>\n",
       "</div>"
      ],
      "text/plain": [
       "                 0           1   \\\n",
       "68770  U.S.          50           \n",
       "68771  50            Venezuelas   \n",
       "68772  Last_weekend  Guaido       \n",
       "68773  Guaido        Colombia     \n",
       "68774  Colombia      Brazil       \n",
       "68775  Brazil        Venezuela    \n",
       "68776  Venezuela     Maduro       \n",
       "68777  Maduro        Guaidos      \n",
       "68778  Moreno        Guaidos      \n",
       "68779  Guaidos       Venezuela    \n",
       "\n",
       "                                                                                                 2   \\\n",
       "68770  Guaido, who the                                                                                \n",
       "68771  Guaido, who the U.S. and                                                                       \n",
       "68772                                                                                                 \n",
       "68773  Last weekend,                                                                                  \n",
       "68774  Last weekend, Guaido coordinated a failed effort to bring aid from                             \n",
       "68775  Last weekend, Guaido coordinated a failed effort to bring aid from Colombia and                \n",
       "68776  Last weekend, Guaido coordinated a failed effort to bring aid from Colombia and Brazil into    \n",
       "68777                                                                                                 \n",
       "68778                                                                                                 \n",
       "68779  Moreno says he supports                                                                        \n",
       "\n",
       "                 3                                                4   \\\n",
       "68770  U.S.           and                                              \n",
       "68771  50             other nations recognize as                       \n",
       "68772  Last weekend  ,                                                 \n",
       "68773  Guaido         coordinated a failed effort to bring aid from    \n",
       "68774  Colombia       and                                              \n",
       "68775  Brazil         into                                             \n",
       "68776  Venezuela     , where security forces loyal to                  \n",
       "68777  Maduro         described                                        \n",
       "68778  Moreno         says he supports                                 \n",
       "68779  Guaidos        attempt to bring democratic change to            \n",
       "\n",
       "               5   \\\n",
       "68770  50           \n",
       "68771  Venezuelas   \n",
       "68772  Guaido       \n",
       "68773  Colombia     \n",
       "68774  Brazil       \n",
       "68775  Venezuela    \n",
       "68776  Maduro       \n",
       "68777  Guaidos      \n",
       "68778  Guaidos      \n",
       "68779  Venezuela    \n",
       "\n",
       "                                                                                                                                                                                   6   \\\n",
       "68770   other nations recognize as Venezuelas rightful president, says he seeks a peaceful transition that will allow his homeland to overcome its political and humanitarian crisis.   \n",
       "68771   rightful president, says he seeks a peaceful transition that will allow his homeland to overcome its political and humanitarian crisis.                                         \n",
       "68772   coordinated a failed effort to bring aid from Colombia and Brazil into Venezuela, where security forces loyal to Maduro blocked the supplies.                                   \n",
       "68773   and Brazil into Venezuela, where security forces loyal to Maduro blocked the supplies.                                                                                          \n",
       "68774   into Venezuela, where security forces loyal to Maduro blocked the supplies.                                                                                                     \n",
       "68775  , where security forces loyal to Maduro blocked the supplies.                                                                                                                    \n",
       "68776   blocked the supplies.                                                                                                                                                           \n",
       "68777   gambit as part of a U.S.-backed plot to overthrow him.                                                                                                                          \n",
       "68778   attempt to bring democratic change to Venezuela.                                                                                                                                \n",
       "68779  .                                                                                                                                                                                \n",
       "\n",
       "                                                                                                                                                                                 7   \\\n",
       "68770  Guaido/PROPN ,/PUNCT who/PRON the/DET                                                                                                                                          \n",
       "68771  Guaido/PROPN ,/PUNCT who/PRON the/DET U.S./PROPN and/CCONJ                                                                                                                     \n",
       "68772                                                                                                                                                                                 \n",
       "68773  Last/ADJ weekend/NOUN ,/PUNCT                                                                                                                                                  \n",
       "68774  Last/ADJ weekend/NOUN ,/PUNCT Guaido/PROPN coordinated/VERB a/DET failed/ADJ effort/NOUN to/PART bring/VERB aid/NOUN from/ADP                                                  \n",
       "68775  Last/ADJ weekend/NOUN ,/PUNCT Guaido/PROPN coordinated/VERB a/DET failed/ADJ effort/NOUN to/PART bring/VERB aid/NOUN from/ADP Colombia/PROPN and/CCONJ                         \n",
       "68776  Last/ADJ weekend/NOUN ,/PUNCT Guaido/PROPN coordinated/VERB a/DET failed/ADJ effort/NOUN to/PART bring/VERB aid/NOUN from/ADP Colombia/PROPN and/CCONJ Brazil/PROPN into/ADP   \n",
       "68777                                                                                                                                                                                 \n",
       "68778                                                                                                                                                                                 \n",
       "68779  Moreno/PROPN says/VERB he/PRON supports/VERB                                                                                                                                   \n",
       "\n",
       "                          8   \\\n",
       "68770  U.S./PROPN              \n",
       "68771  50/NUM                  \n",
       "68772  Last/ADJ weekend/NOUN   \n",
       "68773  Guaido/NOUN             \n",
       "68774  Colombia/PROPN          \n",
       "68775  Brazil/PROPN            \n",
       "68776  Venezuela/PROPN         \n",
       "68777  Maduro/PROPN            \n",
       "68778  Moreno/PROPN            \n",
       "68779  Guaidos/NOUN            \n",
       "\n",
       "                                                                                              9   \\\n",
       "68770  /SPACE and/CCONJ                                                                            \n",
       "68771  /SPACE other/ADJ nations/NOUN recognize/VERB as/ADP                                         \n",
       "68772  ,/PUNCT                                                                                     \n",
       "68773  /SPACE coordinated/VERB a/DET failed/ADJ effort/NOUN to/PART bring/VERB aid/NOUN from/ADP   \n",
       "68774  /SPACE and/CCONJ                                                                            \n",
       "68775  /SPACE into/ADP                                                                             \n",
       "68776  ,/PUNCT where/ADV security/NOUN forces/NOUN loyal/ADJ to/ADP                                \n",
       "68777  /SPACE described/VERB                                                                       \n",
       "68778  /SPACE says/VERB he/PRON supports/VERB                                                      \n",
       "68779  /SPACE attempt/NOUN to/PART bring/VERB democratic/ADJ change/NOUN to/ADP                    \n",
       "\n",
       "                    10  \\\n",
       "68770  50/NUM            \n",
       "68771  Venezuelas/NOUN   \n",
       "68772  Guaido/NOUN       \n",
       "68773  Colombia/PROPN    \n",
       "68774  Brazil/PROPN      \n",
       "68775  Venezuela/PROPN   \n",
       "68776  Maduro/PROPN      \n",
       "68777  Guaidos/NOUN      \n",
       "68778  Guaidos/NOUN      \n",
       "68779  Venezuela/PROPN   \n",
       "\n",
       "                                                                                                                                                                                                                                                                                                                             11  \n",
       "68770  /SPACE other/ADJ nations/NOUN recognize/VERB as/ADP Venezuelas/PROPN rightful/ADJ president/NOUN ,/PUNCT says/VERB he/PRON seeks/VERB a/DET peaceful/ADJ transition/NOUN that/DET will/AUX allow/VERB his/PRON homeland/NOUN to/PART overcome/VERB its/PRON political/ADJ and/CCONJ humanitarian/ADJ crisis/NOUN ./PUNCT  \n",
       "68771  /SPACE rightful/ADJ president/NOUN ,/PUNCT says/VERB he/PRON seeks/VERB a/DET peaceful/ADJ transition/NOUN that/DET will/AUX allow/VERB his/PRON homeland/NOUN to/PART overcome/VERB its/PRON political/ADJ and/CCONJ humanitarian/ADJ crisis/NOUN ./PUNCT                                                                \n",
       "68772  /SPACE coordinated/VERB a/DET failed/ADJ effort/NOUN to/PART bring/VERB aid/NOUN from/ADP Colombia/PROPN and/CCONJ Brazil/PROPN into/ADP Venezuela/PROPN ,/PUNCT where/ADV security/NOUN forces/NOUN loyal/ADJ to/ADP Maduro/PROPN blocked/VERB the/DET supplies/NOUN ./PUNCT                                             \n",
       "68773  /SPACE and/CCONJ Brazil/PROPN into/ADP Venezuela/PROPN ,/PUNCT where/ADV security/NOUN forces/NOUN loyal/ADJ to/ADP Maduro/PROPN blocked/VERB the/DET supplies/NOUN ./PUNCT                                                                                                                                               \n",
       "68774  /SPACE into/ADP Venezuela/PROPN ,/PUNCT where/ADV security/NOUN forces/NOUN loyal/ADJ to/ADP Maduro/PROPN blocked/VERB the/DET supplies/NOUN ./PUNCT                                                                                                                                                                      \n",
       "68775  ,/PUNCT where/ADV security/NOUN forces/NOUN loyal/ADJ to/ADP Maduro/PROPN blocked/VERB the/DET supplies/NOUN ./PUNCT                                                                                                                                                                                                      \n",
       "68776  /SPACE blocked/VERB the/DET supplies/NOUN ./PUNCT                                                                                                                                                                                                                                                                         \n",
       "68777  /SPACE gambit/NOUN as/ADP part/NOUN of/ADP a/DET U.S.-backed/ADJ plot/NOUN to/PART overthrow/VERB him/PRON ./PUNCT                                                                                                                                                                                                        \n",
       "68778  /SPACE attempt/NOUN to/PART bring/VERB democratic/ADJ change/NOUN to/ADP Venezuela/PROPN ./PUNCT                                                                                                                                                                                                                          \n",
       "68779  ./PUNCT                                                                                                                                                                                                                                                                                                                   "
      ]
     },
     "execution_count": 40,
     "metadata": {},
     "output_type": "execute_result"
    }
   ],
   "source": [
    "df.tail(10)"
   ]
  },
  {
   "cell_type": "code",
   "execution_count": 49,
   "id": "07862da2-8e48-4f47-92a5-49acb808ddab",
   "metadata": {},
   "outputs": [
    {
     "data": {
      "text/plain": [
       "Last weekend, Guaido coordinated a failed effort to bring aid from Colombia and Brazil into Venezuela, where security forces loyal to Maduro blocked the supplies."
      ]
     },
     "execution_count": 49,
     "metadata": {},
     "output_type": "execute_result"
    }
   ],
   "source": [
    "all_sentences[-7]"
   ]
  },
  {
   "cell_type": "code",
   "execution_count": 35,
   "id": "37bdd4d4-67d4-486e-ba8d-59294367af23",
   "metadata": {},
   "outputs": [
    {
     "data": {
      "text/plain": [
       "(68780, 12)"
      ]
     },
     "execution_count": 35,
     "metadata": {},
     "output_type": "execute_result"
    }
   ],
   "source": [
    "df.shape"
   ]
  },
  {
   "cell_type": "code",
   "execution_count": 39,
   "id": "8dba1a27-78d0-4abf-b16a-7cb84fead5d3",
   "metadata": {},
   "outputs": [],
   "source": [
    "df.to_csv('washington_post_test.tsv', sep=\"\\t\", index=False, header=False)"
   ]
  },
  {
   "cell_type": "code",
   "execution_count": null,
   "id": "3c721cd8-0e13-4838-81f1-5e07f4bcf5e0",
   "metadata": {},
   "outputs": [],
   "source": []
  },
  {
   "cell_type": "code",
   "execution_count": null,
   "id": "b3f55872-7b54-44a9-a435-67127a8f6d0f",
   "metadata": {},
   "outputs": [],
   "source": []
  },
  {
   "cell_type": "code",
   "execution_count": null,
   "id": "684e06df-8825-4bef-8ed2-a2f618b3b28b",
   "metadata": {},
   "outputs": [],
   "source": []
  }
 ],
 "metadata": {
  "kernelspec": {
   "display_name": "Python 3 (ipykernel)",
   "language": "python",
   "name": "python3"
  },
  "language_info": {
   "codemirror_mode": {
    "name": "ipython",
    "version": 3
   },
   "file_extension": ".py",
   "mimetype": "text/x-python",
   "name": "python",
   "nbconvert_exporter": "python",
   "pygments_lexer": "ipython3",
   "version": "3.8.12"
  }
 },
 "nbformat": 4,
 "nbformat_minor": 5
}
