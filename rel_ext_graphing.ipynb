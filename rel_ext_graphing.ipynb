{
 "cells": [
  {
   "cell_type": "code",
   "execution_count": 1,
   "id": "3c253682-ee71-4cc6-9438-d52d4794c145",
   "metadata": {},
   "outputs": [],
   "source": [
    "import pandas as pd\n",
    "import seaborn as sns\n",
    "import matplotlib.pyplot as plt"
   ]
  },
  {
   "cell_type": "code",
   "execution_count": 9,
   "id": "b47d5c96-7929-472f-8876-c2be339bcbdd",
   "metadata": {},
   "outputs": [],
   "source": [
    "data = {'Relation':['adjoins', 'capital', 'contains', \n",
    "                    'has_spouse', 'nationality', 'place_of_birth', \n",
    "                       'place_of_death', 'worked_at'],\n",
    "        'F_Score_LR':[0.901, 0.972, 0.993, 0.997, 0.994, 0.992, 0.990, 0.9940],\n",
    "          'F_Score_SVC':[0.914, 0.944, 0.995, 0.996, 0.997, 0.996, 0.995, 0.997]}"
   ]
  },
  {
   "cell_type": "code",
   "execution_count": 10,
   "id": "8779bd7d-a673-44b4-a2a1-9bdaa21fdf49",
   "metadata": {},
   "outputs": [],
   "source": [
    "df = pd.DataFrame(data)"
   ]
  },
  {
   "cell_type": "code",
   "execution_count": 11,
   "id": "733ad984-5c41-4977-bb78-b84f6457433c",
   "metadata": {},
   "outputs": [
    {
     "data": {
      "text/html": [
       "<div>\n",
       "<style scoped>\n",
       "    .dataframe tbody tr th:only-of-type {\n",
       "        vertical-align: middle;\n",
       "    }\n",
       "\n",
       "    .dataframe tbody tr th {\n",
       "        vertical-align: top;\n",
       "    }\n",
       "\n",
       "    .dataframe thead th {\n",
       "        text-align: right;\n",
       "    }\n",
       "</style>\n",
       "<table border=\"1\" class=\"dataframe\">\n",
       "  <thead>\n",
       "    <tr style=\"text-align: right;\">\n",
       "      <th></th>\n",
       "      <th>Relation</th>\n",
       "      <th>F_Score_LR</th>\n",
       "      <th>F_Score_SVC</th>\n",
       "    </tr>\n",
       "  </thead>\n",
       "  <tbody>\n",
       "    <tr>\n",
       "      <th>0</th>\n",
       "      <td>adjoins</td>\n",
       "      <td>0.901</td>\n",
       "      <td>0.914</td>\n",
       "    </tr>\n",
       "    <tr>\n",
       "      <th>1</th>\n",
       "      <td>capital</td>\n",
       "      <td>0.972</td>\n",
       "      <td>0.944</td>\n",
       "    </tr>\n",
       "    <tr>\n",
       "      <th>2</th>\n",
       "      <td>contains</td>\n",
       "      <td>0.993</td>\n",
       "      <td>0.995</td>\n",
       "    </tr>\n",
       "    <tr>\n",
       "      <th>3</th>\n",
       "      <td>has_spouse</td>\n",
       "      <td>0.997</td>\n",
       "      <td>0.996</td>\n",
       "    </tr>\n",
       "    <tr>\n",
       "      <th>4</th>\n",
       "      <td>nationality</td>\n",
       "      <td>0.994</td>\n",
       "      <td>0.997</td>\n",
       "    </tr>\n",
       "    <tr>\n",
       "      <th>5</th>\n",
       "      <td>place_of_birth</td>\n",
       "      <td>0.992</td>\n",
       "      <td>0.996</td>\n",
       "    </tr>\n",
       "    <tr>\n",
       "      <th>6</th>\n",
       "      <td>place_of_death</td>\n",
       "      <td>0.990</td>\n",
       "      <td>0.995</td>\n",
       "    </tr>\n",
       "    <tr>\n",
       "      <th>7</th>\n",
       "      <td>worked_at</td>\n",
       "      <td>0.994</td>\n",
       "      <td>0.997</td>\n",
       "    </tr>\n",
       "  </tbody>\n",
       "</table>\n",
       "</div>"
      ],
      "text/plain": [
       "         Relation  F_Score_LR  F_Score_SVC\n",
       "0         adjoins       0.901        0.914\n",
       "1         capital       0.972        0.944\n",
       "2        contains       0.993        0.995\n",
       "3      has_spouse       0.997        0.996\n",
       "4     nationality       0.994        0.997\n",
       "5  place_of_birth       0.992        0.996\n",
       "6  place_of_death       0.990        0.995\n",
       "7       worked_at       0.994        0.997"
      ]
     },
     "execution_count": 11,
     "metadata": {},
     "output_type": "execute_result"
    }
   ],
   "source": [
    "df"
   ]
  },
  {
   "cell_type": "code",
   "execution_count": 13,
   "id": "24ce55ed-0287-4458-9735-318c396c5b74",
   "metadata": {},
   "outputs": [
    {
     "data": {
      "text/plain": [
       "<matplotlib.legend.Legend at 0x7f9fb2ac78e0>"
      ]
     },
     "execution_count": 13,
     "metadata": {},
     "output_type": "execute_result"
    },
    {
     "data": {
      "image/png": "[encoded data removed]",
      "text/plain": [
       "<Figure size 576x360 with 1 Axes>"
      ]
     },
     "metadata": {
      "needs_background": "light"
     },
     "output_type": "display_data"
    }
   ],
   "source": [
    "ax = df.plot(x='Relation', y=['F_Score_LR', 'F_Score_SVC'], kind=\"bar\", figsize=(8, 5))\n",
    "ax.legend(loc='center left', bbox_to_anchor=(1, 0.5))"
   ]
  },
  {
   "cell_type": "code",
   "execution_count": null,
   "id": "a4278fca-3500-4e6e-a7f6-c4cc3c8e4eca",
   "metadata": {},
   "outputs": [],
   "source": []
  }
 ],
 "metadata": {
  "kernelspec": {
   "display_name": "Python 3 (ipykernel)",
   "language": "python",
   "name": "python3"
  },
  "language_info": {
   "codemirror_mode": {
    "name": "ipython",
    "version": 3
   },
   "file_extension": ".py",
   "mimetype": "text/x-python",
   "name": "python",
   "nbconvert_exporter": "python",
   "pygments_lexer": "ipython3",
   "version": "3.9.7"
  }
 },
 "nbformat": 4,
 "nbformat_minor": 5
}
