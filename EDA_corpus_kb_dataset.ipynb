{
 "cells": [
  {
   "cell_type": "markdown",
   "id": "84a02364-edfc-4ebd-afa9-1d9c35c0a512",
   "metadata": {},
   "source": [
    "### References:\n",
    "1. https://web.stanford.edu/class/cs224u/2021/\n"
   ]
  },
  {
   "cell_type": "code",
   "execution_count": 14,
   "id": "8e384803",
   "metadata": {},
   "outputs": [],
   "source": [
    "import pandas as pd\n",
    "import numpy as np\n",
    "import os\n",
    "import rel_ext"
   ]
  },
  {
   "cell_type": "markdown",
   "id": "fe51ab16-3717-4a42-a7d2-24e57bf0a2ce",
   "metadata": {},
   "source": [
    "### Corpus"
   ]
  },
  {
   "cell_type": "code",
   "execution_count": 15,
   "id": "ef50a295",
   "metadata": {},
   "outputs": [],
   "source": [
    "file_name = 'washington_post_test.tsv.gz'"
   ]
  },
  {
   "cell_type": "code",
   "execution_count": 16,
   "id": "2500b352",
   "metadata": {},
   "outputs": [],
   "source": [
    "columns = ['entity_1', \n",
    "           'entity_2', \n",
    "           'left', \n",
    "           'mention_1',\n",
    "           'middle',\n",
    "           'mention_2',\n",
    "           'right',\n",
    "           'left_POS',\n",
    "           'mention_1_POS',\n",
    "           'middle_POS',\n",
    "           'mention_2_POS',\n",
    "           'right_POS']"
   ]
  },
  {
   "cell_type": "code",
   "execution_count": 17,
   "id": "c6546332",
   "metadata": {},
   "outputs": [],
   "source": [
    "df_c = pd.read_csv(file_name, names=columns, sep='\\t')"
   ]
  },
  {
   "cell_type": "code",
   "execution_count": 18,
   "id": "c43a2291",
   "metadata": {},
   "outputs": [
    {
     "data": {
      "text/html": [
       "<div>\n",
       "<style scoped>\n",
       "    .dataframe tbody tr th:only-of-type {\n",
       "        vertical-align: middle;\n",
       "    }\n",
       "\n",
       "    .dataframe tbody tr th {\n",
       "        vertical-align: top;\n",
       "    }\n",
       "\n",
       "    .dataframe thead th {\n",
       "        text-align: right;\n",
       "    }\n",
       "</style>\n",
       "<table border=\"1\" class=\"dataframe\">\n",
       "  <thead>\n",
       "    <tr style=\"text-align: right;\">\n",
       "      <th></th>\n",
       "      <th>entity_1</th>\n",
       "      <th>entity_2</th>\n",
       "      <th>left</th>\n",
       "      <th>mention_1</th>\n",
       "      <th>middle</th>\n",
       "      <th>mention_2</th>\n",
       "      <th>right</th>\n",
       "      <th>left_POS</th>\n",
       "      <th>mention_1_POS</th>\n",
       "      <th>middle_POS</th>\n",
       "      <th>mention_2_POS</th>\n",
       "      <th>right_POS</th>\n",
       "    </tr>\n",
       "  </thead>\n",
       "  <tbody>\n",
       "    <tr>\n",
       "      <th>0</th>\n",
       "      <td>Ochoa</td>\n",
       "      <td>39</td>\n",
       "      <td>Im trying to have a similar rhythm to what I h...</td>\n",
       "      <td>Ochoa</td>\n",
       "      <td>,</td>\n",
       "      <td>39</td>\n",
       "      <td>, an administrator at an art business in Madrid.</td>\n",
       "      <td>I/PRON m/AUX trying/VERB to/PART have/VERB a/D...</td>\n",
       "      <td>Ochoa/INTJ</td>\n",
       "      <td>,/PUNCT</td>\n",
       "      <td>39/NUM</td>\n",
       "      <td>,/PUNCT an/DET administrator/NOUN at/ADP an/DE...</td>\n",
       "    </tr>\n",
       "    <tr>\n",
       "      <th>1</th>\n",
       "      <td>39</td>\n",
       "      <td>Madrid</td>\n",
       "      <td>Im trying to have a similar rhythm to what I h...</td>\n",
       "      <td>39</td>\n",
       "      <td>, an administrator at an art business in</td>\n",
       "      <td>Madrid</td>\n",
       "      <td>.</td>\n",
       "      <td>I/PRON m/AUX trying/VERB to/PART have/VERB a/D...</td>\n",
       "      <td>39/NUM</td>\n",
       "      <td>,/PUNCT an/DET administrator/NOUN at/ADP an/DE...</td>\n",
       "      <td>Madrid/PROPN</td>\n",
       "      <td>./PUNCT</td>\n",
       "    </tr>\n",
       "    <tr>\n",
       "      <th>2</th>\n",
       "      <td>first</td>\n",
       "      <td>France</td>\n",
       "      <td>The concept,</td>\n",
       "      <td>first</td>\n",
       "      <td>legislated in</td>\n",
       "      <td>France</td>\n",
       "      <td>in 2017, limits how much employees can be mad...</td>\n",
       "      <td>The/DET concept/NOUN ,/PUNCT</td>\n",
       "      <td>first/ADV</td>\n",
       "      <td>/SPACE legislated/VERB in/ADP</td>\n",
       "      <td>France/PROPN</td>\n",
       "      <td>/SPACE in/ADP 2017/NUM ,/PUNCT limits/VERB how...</td>\n",
       "    </tr>\n",
       "    <tr>\n",
       "      <th>3</th>\n",
       "      <td>France</td>\n",
       "      <td>2017</td>\n",
       "      <td>The concept, first legislated in</td>\n",
       "      <td>France</td>\n",
       "      <td>in</td>\n",
       "      <td>2017</td>\n",
       "      <td>, limits how much employees can be made to ans...</td>\n",
       "      <td>The/DET concept/NOUN ,/PUNCT first/ADV legisla...</td>\n",
       "      <td>France/PROPN</td>\n",
       "      <td>/SPACE in/ADP</td>\n",
       "      <td>2017/NUM</td>\n",
       "      <td>,/PUNCT limits/VERB how/ADV much/ADJ employees...</td>\n",
       "    </tr>\n",
       "    <tr>\n",
       "      <th>4</th>\n",
       "      <td>2017</td>\n",
       "      <td>working_hours</td>\n",
       "      <td>The concept, first legislated in France in</td>\n",
       "      <td>2017</td>\n",
       "      <td>, limits how much employees can be made to ans...</td>\n",
       "      <td>working hours</td>\n",
       "      <td>.</td>\n",
       "      <td>The/DET concept/NOUN ,/PUNCT first/ADV legisla...</td>\n",
       "      <td>2017/NUM</td>\n",
       "      <td>,/PUNCT limits/VERB how/ADV much/ADJ employees...</td>\n",
       "      <td>working/VERB hours/NOUN</td>\n",
       "      <td>./PUNCT</td>\n",
       "    </tr>\n",
       "  </tbody>\n",
       "</table>\n",
       "</div>"
      ],
      "text/plain": [
       "  entity_1       entity_2                                               left  \\\n",
       "0    Ochoa             39  Im trying to have a similar rhythm to what I h...   \n",
       "1       39         Madrid  Im trying to have a similar rhythm to what I h...   \n",
       "2    first         France                                      The concept,    \n",
       "3   France           2017                  The concept, first legislated in    \n",
       "4     2017  working_hours        The concept, first legislated in France in    \n",
       "\n",
       "  mention_1                                             middle      mention_2  \\\n",
       "0     Ochoa                                                 ,              39   \n",
       "1        39          , an administrator at an art business in          Madrid   \n",
       "2     first                                     legislated in          France   \n",
       "3    France                                                in            2017   \n",
       "4      2017  , limits how much employees can be made to ans...  working hours   \n",
       "\n",
       "                                               right  \\\n",
       "0   , an administrator at an art business in Madrid.   \n",
       "1                                                  .   \n",
       "2   in 2017, limits how much employees can be mad...   \n",
       "3  , limits how much employees can be made to ans...   \n",
       "4                                                  .   \n",
       "\n",
       "                                            left_POS mention_1_POS  \\\n",
       "0  I/PRON m/AUX trying/VERB to/PART have/VERB a/D...    Ochoa/INTJ   \n",
       "1  I/PRON m/AUX trying/VERB to/PART have/VERB a/D...        39/NUM   \n",
       "2                       The/DET concept/NOUN ,/PUNCT     first/ADV   \n",
       "3  The/DET concept/NOUN ,/PUNCT first/ADV legisla...  France/PROPN   \n",
       "4  The/DET concept/NOUN ,/PUNCT first/ADV legisla...      2017/NUM   \n",
       "\n",
       "                                          middle_POS            mention_2_POS  \\\n",
       "0                                            ,/PUNCT                   39/NUM   \n",
       "1  ,/PUNCT an/DET administrator/NOUN at/ADP an/DE...             Madrid/PROPN   \n",
       "2                      /SPACE legislated/VERB in/ADP             France/PROPN   \n",
       "3                                      /SPACE in/ADP                 2017/NUM   \n",
       "4  ,/PUNCT limits/VERB how/ADV much/ADJ employees...  working/VERB hours/NOUN   \n",
       "\n",
       "                                           right_POS  \n",
       "0  ,/PUNCT an/DET administrator/NOUN at/ADP an/DE...  \n",
       "1                                            ./PUNCT  \n",
       "2  /SPACE in/ADP 2017/NUM ,/PUNCT limits/VERB how...  \n",
       "3  ,/PUNCT limits/VERB how/ADV much/ADJ employees...  \n",
       "4                                            ./PUNCT  "
      ]
     },
     "execution_count": 18,
     "metadata": {},
     "output_type": "execute_result"
    }
   ],
   "source": [
    "df_c.head()"
   ]
  },
  {
   "cell_type": "code",
   "execution_count": 19,
   "id": "a6d5dfdf",
   "metadata": {},
   "outputs": [
    {
     "data": {
      "text/plain": [
       "(68780, 12)"
      ]
     },
     "execution_count": 19,
     "metadata": {},
     "output_type": "execute_result"
    }
   ],
   "source": [
    "df_c.shape"
   ]
  },
  {
   "cell_type": "code",
   "execution_count": 20,
   "id": "ca19741f-a626-409b-8b67-f93dd71e1641",
   "metadata": {},
   "outputs": [],
   "source": [
    "corpus = rel_ext.Corpus('washington_post_test.tsv.gz')"
   ]
  },
  {
   "cell_type": "markdown",
   "id": "a47fe2c6-4eef-490d-8baf-fc5dceff2b82",
   "metadata": {},
   "source": [
    "### Knowledge Base"
   ]
  },
  {
   "cell_type": "code",
   "execution_count": 22,
   "id": "a5ba7d00-fe5f-4b64-b246-bc0dddc48ac1",
   "metadata": {},
   "outputs": [],
   "source": [
    "file_name = 'Atsuko_filtered_KB.tsv.gz'"
   ]
  },
  {
   "cell_type": "code",
   "execution_count": 23,
   "id": "1d266627-3416-4f91-85b7-69a57eef9492",
   "metadata": {},
   "outputs": [],
   "source": [
    "columns = ['Relation', 'Entity_1', 'Entity_2']\n",
    "df_kb = pd.read_csv(file_name, names=columns, sep='\\t')"
   ]
  },
  {
   "cell_type": "code",
   "execution_count": 24,
   "id": "81e13106-db08-4604-979f-3debb6b75654",
   "metadata": {},
   "outputs": [
    {
     "data": {
      "text/html": [
       "<div>\n",
       "<style scoped>\n",
       "    .dataframe tbody tr th:only-of-type {\n",
       "        vertical-align: middle;\n",
       "    }\n",
       "\n",
       "    .dataframe tbody tr th {\n",
       "        vertical-align: top;\n",
       "    }\n",
       "\n",
       "    .dataframe thead th {\n",
       "        text-align: right;\n",
       "    }\n",
       "</style>\n",
       "<table border=\"1\" class=\"dataframe\">\n",
       "  <thead>\n",
       "    <tr style=\"text-align: right;\">\n",
       "      <th></th>\n",
       "      <th>Relation</th>\n",
       "      <th>Entity_1</th>\n",
       "      <th>Entity_2</th>\n",
       "    </tr>\n",
       "  </thead>\n",
       "  <tbody>\n",
       "    <tr>\n",
       "      <th>0</th>\n",
       "      <td>contains</td>\n",
       "      <td>Brickfields</td>\n",
       "      <td>Kuala_Lumpur_Sentral_railway_station</td>\n",
       "    </tr>\n",
       "    <tr>\n",
       "      <th>1</th>\n",
       "      <td>contains</td>\n",
       "      <td>Los_Angeles</td>\n",
       "      <td>Mondrian_Hotel</td>\n",
       "    </tr>\n",
       "    <tr>\n",
       "      <th>2</th>\n",
       "      <td>contains</td>\n",
       "      <td>Gujarat</td>\n",
       "      <td>Junagadh_district</td>\n",
       "    </tr>\n",
       "    <tr>\n",
       "      <th>3</th>\n",
       "      <td>place_of_death</td>\n",
       "      <td>Jean_Drapeau</td>\n",
       "      <td>Montreal</td>\n",
       "    </tr>\n",
       "    <tr>\n",
       "      <th>4</th>\n",
       "      <td>place_of_birth</td>\n",
       "      <td>William_Penny_Brookes</td>\n",
       "      <td>Much_Wenlock</td>\n",
       "    </tr>\n",
       "  </tbody>\n",
       "</table>\n",
       "</div>"
      ],
      "text/plain": [
       "         Relation               Entity_1                              Entity_2\n",
       "0        contains            Brickfields  Kuala_Lumpur_Sentral_railway_station\n",
       "1        contains            Los_Angeles                        Mondrian_Hotel\n",
       "2        contains                Gujarat                     Junagadh_district\n",
       "3  place_of_death           Jean_Drapeau                              Montreal\n",
       "4  place_of_birth  William_Penny_Brookes                          Much_Wenlock"
      ]
     },
     "execution_count": 24,
     "metadata": {},
     "output_type": "execute_result"
    }
   ],
   "source": [
    "df_kb.head()"
   ]
  },
  {
   "cell_type": "code",
   "execution_count": 29,
   "id": "475fd083-3786-4e5a-ae61-f508887f2983",
   "metadata": {},
   "outputs": [
    {
     "data": {
      "text/plain": [
       "(28575, 3)"
      ]
     },
     "execution_count": 29,
     "metadata": {},
     "output_type": "execute_result"
    }
   ],
   "source": [
    "df_kb.shape"
   ]
  },
  {
   "cell_type": "code",
   "execution_count": 30,
   "id": "fa1ccf5b-20d1-4214-8ac8-e5052b7220c4",
   "metadata": {},
   "outputs": [
    {
     "data": {
      "text/plain": [
       "array(['contains', 'place_of_death', 'place_of_birth', 'nationality',\n",
       "       'has_spouse', 'adjoins', 'worked_at', 'capital'], dtype=object)"
      ]
     },
     "execution_count": 30,
     "metadata": {},
     "output_type": "execute_result"
    }
   ],
   "source": [
    "df_kb['Relation'].unique()"
   ]
  },
  {
   "cell_type": "code",
   "execution_count": 31,
   "id": "19560045-e07c-4d74-80bf-92ca8ec2436f",
   "metadata": {},
   "outputs": [],
   "source": [
    "kb = rel_ext.KB('Atsuko_filtered_KB.tsv.gz')"
   ]
  },
  {
   "cell_type": "markdown",
   "id": "a3b20e4b-01cb-4595-89fd-21c245f1c428",
   "metadata": {},
   "source": [
    "### dataset"
   ]
  },
  {
   "cell_type": "code",
   "execution_count": 32,
   "id": "53e8388d-c050-4bdf-803f-946d8e98957a",
   "metadata": {},
   "outputs": [],
   "source": [
    "dataset = rel_ext.Dataset(corpus, kb)"
   ]
  },
  {
   "cell_type": "code",
   "execution_count": 33,
   "id": "2420c6d9-3b96-4cd9-b1f8-5fc1e62eef0e",
   "metadata": {},
   "outputs": [
    {
     "name": "stdout",
     "output_type": "stream",
     "text": [
      "Found 98,561 unrelated pairs, including:\n",
      "    ('Guaidó', 'three')\n",
      "    ('Guard', 'Soleimani')\n",
      "    ('the_St._Petersburg_International_Economic_Forum', 'Russias')\n",
      "    ('Islamic', 'al-Hol')\n",
      "    ('Hockridge', 'Tran')\n",
      "    ('Del_Rio', 'Raul_Ortiz')\n",
      "    ('Wednesday', 'Nissan')\n",
      "    ('six_months', 'Barbarin')\n",
      "    ('four', 'U.S.')\n",
      "    ('Zetas', 'at_least_70')\n"
     ]
    }
   ],
   "source": [
    "unrelated_pairs = dataset.find_unrelated_pairs()\n",
    "print('Found {0:,} unrelated pairs, including:'.format(len(unrelated_pairs)))\n",
    "for pair in list(unrelated_pairs)[:10]:\n",
    "    print('   ', pair)"
   ]
  },
  {
   "cell_type": "code",
   "execution_count": 35,
   "id": "fb59ea17-51f3-453a-9ccd-44faef6389dd",
   "metadata": {},
   "outputs": [
    {
     "name": "stdout",
     "output_type": "stream",
     "text": [
      "                                             examples\n",
      "relation               examples    triples    /triple\n",
      "--------               --------    -------    -------\n",
      "adjoins                     901       1702       0.53\n",
      "capital                     121        522       0.23\n",
      "contains                    363      18681       0.02\n",
      "has_spouse                    4       2994       0.00\n",
      "nationality                  28       1598       0.02\n",
      "place_of_birth                1       1097       0.00\n",
      "place_of_death                4        831       0.00\n",
      "worked_at                     1       1150       0.00\n"
     ]
    }
   ],
   "source": [
    "dataset.count_examples()"
   ]
  },
  {
   "cell_type": "code",
   "execution_count": null,
   "id": "324be62f-2dec-4975-85ce-d85e4b01d26c",
   "metadata": {},
   "outputs": [],
   "source": []
  }
 ],
 "metadata": {
  "kernelspec": {
   "display_name": "Python 3 (ipykernel)",
   "language": "python",
   "name": "python3"
  },
  "language_info": {
   "codemirror_mode": {
    "name": "ipython",
    "version": 3
   },
   "file_extension": ".py",
   "mimetype": "text/x-python",
   "name": "python",
   "nbconvert_exporter": "python",
   "pygments_lexer": "ipython3",
   "version": "3.8.12"
  }
 },
 "nbformat": 4,
 "nbformat_minor": 5
}
