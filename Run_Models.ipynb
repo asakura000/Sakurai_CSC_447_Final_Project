{
 "cells": [
  {
   "cell_type": "markdown",
   "metadata": {},
   "source": [
    "### References:\n",
    "1. Videos and example code for this project: https://web.stanford.edu/class/cs224u/2021/\n",
    "2. Knowledge base is a filtered version of a file available in its original form here: https://freebase-easy.cs.uni-freiburg.de/dump/\n",
    "\n",
    "\n"
   ]
  },
  {
   "cell_type": "markdown",
   "metadata": {},
   "source": [
    "### Imports"
   ]
  },
  {
   "cell_type": "code",
   "execution_count": 1,
   "metadata": {},
   "outputs": [],
   "source": [
    "# general imports \n",
    "import numpy as np\n",
    "from sklearn.linear_model import LogisticRegression\n",
    "from sklearn.svm import SVC\n",
    "from collections import Counter\n",
    "\n",
    "# imports specific to relation extraction \n",
    "import rel_ext\n",
    "import utils"
   ]
  },
  {
   "cell_type": "markdown",
   "metadata": {},
   "source": [
    "### Prepare the Dataset:\n",
    "1. Import corpus\n",
    "2. Import knowledge base\n",
    "3. Combine knowledge base and corpus into a dataset object\n",
    "4. Create dataset splits (training and test sets)"
   ]
  },
  {
   "cell_type": "code",
   "execution_count": 2,
   "metadata": {},
   "outputs": [],
   "source": [
    "# create corpus object from pre-annotated file\n",
    "\n",
    "corpus = rel_ext.Corpus('washington_post_test.tsv.gz')"
   ]
  },
  {
   "cell_type": "code",
   "execution_count": 3,
   "metadata": {},
   "outputs": [],
   "source": [
    "# create knowledge base from pre-filtered file\n",
    "\n",
    "kb = rel_ext.KB('Atsuko_filtered_KB.tsv.gz')"
   ]
  },
  {
   "cell_type": "code",
   "execution_count": 4,
   "metadata": {},
   "outputs": [
    {
     "data": {
      "text/plain": [
       "['adjoins',\n",
       " 'capital',\n",
       " 'contains',\n",
       " 'has_spouse',\n",
       " 'nationality',\n",
       " 'place_of_birth',\n",
       " 'place_of_death',\n",
       " 'worked_at']"
      ]
     },
     "execution_count": 4,
     "metadata": {},
     "output_type": "execute_result"
    }
   ],
   "source": [
    "# list of all relation labels available in this knowledge base\n",
    "\n",
    "kb.all_relations"
   ]
  },
  {
   "cell_type": "code",
   "execution_count": 5,
   "metadata": {},
   "outputs": [],
   "source": [
    "# create a dataset by combining the corpus and knowledge base \n",
    "\n",
    "dataset = rel_ext.Dataset(corpus, kb)"
   ]
  },
  {
   "cell_type": "code",
   "execution_count": 6,
   "metadata": {},
   "outputs": [],
   "source": [
    "# create training and test spits\n",
    "\n",
    "splits = dataset.build_splits(\n",
    "    split_names=['train', 'test'],\n",
    "    split_fracs=[0.80, 0.20],\n",
    "    seed=1)"
   ]
  },
  {
   "cell_type": "code",
   "execution_count": 7,
   "metadata": {},
   "outputs": [
    {
     "data": {
      "text/plain": [
       "{'train': Corpus with 54,237 examples; KB with 22,313 triples,\n",
       " 'test': Corpus with 14,543 examples; KB with 6,262 triples,\n",
       " 'all': Corpus with 68,780 examples; KB with 28,575 triples}"
      ]
     },
     "execution_count": 7,
     "metadata": {},
     "output_type": "execute_result"
    }
   ],
   "source": [
    "# this is what the splits look like\n",
    "\n",
    "splits"
   ]
  },
  {
   "cell_type": "code",
   "execution_count": 8,
   "metadata": {},
   "outputs": [
    {
     "name": "stdout",
     "output_type": "stream",
     "text": [
      "                                             examples\n",
      "relation               examples    triples    /triple\n",
      "--------               --------    -------    -------\n",
      "adjoins                     641       1283       0.50\n",
      "capital                      90        406       0.22\n",
      "contains                    271      14461       0.02\n",
      "has_spouse                    4       2419       0.00\n",
      "nationality                  14       1296       0.01\n",
      "place_of_birth                0        874       0.00\n",
      "place_of_death                4        676       0.01\n",
      "worked_at                     1        898       0.00\n"
     ]
    }
   ],
   "source": [
    "# training set contains this distribution of labels \n",
    "\n",
    "splits['train'].count_examples()"
   ]
  },
  {
   "cell_type": "code",
   "execution_count": 9,
   "metadata": {},
   "outputs": [
    {
     "name": "stdout",
     "output_type": "stream",
     "text": [
      "                                             examples\n",
      "relation               examples    triples    /triple\n",
      "--------               --------    -------    -------\n",
      "adjoins                     145        419       0.35\n",
      "capital                      19        116       0.16\n",
      "contains                     59       4220       0.01\n",
      "has_spouse                    0        575       0.00\n",
      "nationality                   1        302       0.00\n",
      "place_of_birth                1        223       0.00\n",
      "place_of_death                0        155       0.00\n",
      "worked_at                     0        252       0.00\n"
     ]
    }
   ],
   "source": [
    "# test set contains this distribution of labels \n",
    "\n",
    "splits['test'].count_examples()"
   ]
  },
  {
   "cell_type": "markdown",
   "metadata": {},
   "source": [
    "### Bag of Words Featurizer\n",
    "1. Functions for the three featurizers used in this project \n",
    "    - Bag of words for middle feature (text that comes in between entity 1 and entity 2 in the sentence)\n",
    "    - Bag of words for left feature (text that comes before entity 1 in the sentence)\n",
    "    - Bag of words for right feature (text that comes after entity2 in the sentence)\n",
    "2. Example of what this featurizer looks like when applied to one relational triple"
   ]
  },
  {
   "cell_type": "markdown",
   "metadata": {},
   "source": [
    "#### Bag of words functions"
   ]
  },
  {
   "cell_type": "code",
   "execution_count": 10,
   "metadata": {},
   "outputs": [],
   "source": [
    "def middle_BOW_featurizer(kbt, corpus, feature_counter):\n",
    "    for ex in corpus.get_examples_for_entities(kbt.sbj, kbt.obj):\n",
    "        for word in ex.middle.split(' '):\n",
    "            feature_counter[word] += 1\n",
    "    for ex in corpus.get_examples_for_entities(kbt.obj, kbt.sbj):\n",
    "        for word in ex.middle.split(' '):\n",
    "            feature_counter[word] += 1\n",
    "    return feature_counter"
   ]
  },
  {
   "cell_type": "code",
   "execution_count": 11,
   "metadata": {},
   "outputs": [],
   "source": [
    "def left_BOW_featurizer(kbt, corpus, feature_counter):\n",
    "    for ex in corpus.get_examples_for_entities(kbt.sbj, kbt.obj):\n",
    "        for word in ex.left.split(' '):\n",
    "            feature_counter[word] += 1\n",
    "    for ex in corpus.get_examples_for_entities(kbt.obj, kbt.sbj):\n",
    "        for word in ex.left.split(' '):\n",
    "            feature_counter[word] += 1\n",
    "    return feature_counter"
   ]
  },
  {
   "cell_type": "code",
   "execution_count": 12,
   "metadata": {},
   "outputs": [],
   "source": [
    "def right_BOW_featurizer(kbt, corpus, feature_counter):\n",
    "    for ex in corpus.get_examples_for_entities(kbt.sbj, kbt.obj):\n",
    "        for word in ex.right.split(' '):\n",
    "            feature_counter[word] += 1\n",
    "    for ex in corpus.get_examples_for_entities(kbt.obj, kbt.sbj):\n",
    "        for word in ex.right.split(' '):\n",
    "            feature_counter[word] += 1\n",
    "    return feature_counter"
   ]
  },
  {
   "cell_type": "markdown",
   "metadata": {},
   "source": [
    "#### Example of the Bag of Words Feaurizer in Action:\n",
    "1. Get all examples from the corpus of the entity pair (Keny, Somalia)\n",
    "2. Apply middle bag of words featurizer\n",
    "3. Print result"
   ]
  },
  {
   "cell_type": "code",
   "execution_count": 13,
   "metadata": {},
   "outputs": [
    {
     "data": {
      "text/plain": [
       "[Example(entity_1='Kenya', entity_2='Somalia', left='The al-Qaida-linked extremist group has vowed retribution on ', mention_1='Kenya', middle=' for sending troops to ', mention_2='Somalia', right=' to fight it.', left_POS='The/DET al/PROPN -/PUNCT Qaida/PROPN -/PUNCT linked/VERB extremist/ADJ group/NOUN has/AUX vowed/VERB retribution/NOUN on/ADP', mention_1_POS='Kenya/PROPN', middle_POS='/SPACE for/ADP sending/VERB troops/NOUN to/PART', mention_2_POS='Somalia/PROPN', right_POS='/SPACE to/PART fight/VERB it/PRON ./PUNCT'),\n",
       " Example(entity_1='Kenya', entity_2='Somalia', left='NAIROBI, ', mention_1='Kenya', middle=' A police officer in ', mention_2='Somalia', right=' says a car bomb blast near a security checkpoint at the presidential palace in the capital killed at least two people.', left_POS='NAIROBI/PROPN ,/PUNCT', mention_1_POS='Kenya/PROPN', middle_POS='/SPACE A/DET police/NOUN officer/NOUN in/ADP', mention_2_POS='Somalia/PROPN', right_POS='/SPACE says/VERB a/DET car/NOUN bomb/NOUN blast/NOUN near/SCONJ a/DET security/NOUN checkpoint/NOUN at/ADP the/DET presidential/ADJ palace/NOUN in/ADP the/DET capital/NOUN killed/VERB at/ADV least/ADV two/NUM people/NOUN ./PUNCT')]"
      ]
     },
     "execution_count": 13,
     "metadata": {},
     "output_type": "execute_result"
    }
   ],
   "source": [
    "# 2 sentences in the entire corpus that contain the entity pair Kenya and Somalia \n",
    "\n",
    "ex = corpus.get_examples_for_entities('Kenya', 'Somalia')\n",
    "ex"
   ]
  },
  {
   "cell_type": "code",
   "execution_count": 33,
   "metadata": {},
   "outputs": [
    {
     "data": {
      "text/plain": [
       "'The al-Qaida-linked extremist group has vowed retribution on Kenya for sending troops to Somalia to fight it.'"
      ]
     },
     "execution_count": 33,
     "metadata": {},
     "output_type": "execute_result"
    }
   ],
   "source": [
    "# this is what example 1 looks like in its sentence form\n",
    "\n",
    "''.join((ex[0][2], ex[0][3], ex[0][4], ex[0][5], ex[0][6]))"
   ]
  },
  {
   "cell_type": "code",
   "execution_count": 34,
   "metadata": {},
   "outputs": [
    {
     "data": {
      "text/plain": [
       "'NAIROBI, Kenya A police officer in Somalia says a car bomb blast near a security checkpoint at the presidential palace in the capital killed at least two people.'"
      ]
     },
     "execution_count": 34,
     "metadata": {},
     "output_type": "execute_result"
    }
   ],
   "source": [
    "# this is what example 1 looks like in its sentence form\n",
    "\n",
    "''.join((ex[1][2], ex[1][3], ex[1][4], ex[1][5], ex[1][6]))"
   ]
  },
  {
   "cell_type": "code",
   "execution_count": 35,
   "metadata": {},
   "outputs": [
    {
     "data": {
      "text/plain": [
       "[KBTriple(rel='adjoins', sbj='Kenya', obj='Somalia')]"
      ]
     },
     "execution_count": 35,
     "metadata": {},
     "output_type": "execute_result"
    }
   ],
   "source": [
    "test = kb.get_triples_for_entities('Kenya', 'Somalia')\n",
    "test"
   ]
  },
  {
   "cell_type": "code",
   "execution_count": 36,
   "metadata": {},
   "outputs": [
    {
     "data": {
      "text/plain": [
       "KBTriple(rel='adjoins', sbj='Kenya', obj='Somalia')"
      ]
     },
     "execution_count": 36,
     "metadata": {},
     "output_type": "execute_result"
    }
   ],
   "source": [
    "kbt = test[0]\n",
    "kbt"
   ]
  },
  {
   "cell_type": "code",
   "execution_count": 37,
   "metadata": {},
   "outputs": [
    {
     "data": {
      "text/plain": [
       "Counter({'': 4,\n",
       "         'for': 1,\n",
       "         'sending': 1,\n",
       "         'troops': 1,\n",
       "         'to': 1,\n",
       "         'A': 1,\n",
       "         'police': 1,\n",
       "         'officer': 1,\n",
       "         'in': 1})"
      ]
     },
     "execution_count": 37,
     "metadata": {},
     "output_type": "execute_result"
    }
   ],
   "source": [
    "middle_BOW_featurizer(kbt, corpus, Counter())"
   ]
  },
  {
   "cell_type": "markdown",
   "metadata": {},
   "source": [
    "### Pipeline Function to Train, Predict, and Evaluate"
   ]
  },
  {
   "cell_type": "code",
   "execution_count": 19,
   "metadata": {},
   "outputs": [],
   "source": [
    "def get_results(featurizer, model):\n",
    "    \n",
    "    # set featurizer\n",
    "    if featurizer == 'middle':\n",
    "        featurizers = [middle_BOW_featurizer]\n",
    "    elif featurizer == 'right':\n",
    "        featurizers = [right_BOW_featurizer]\n",
    "    elif featurizer == 'left':\n",
    "        featurizers = [left_BOW_featurizer]\n",
    "    elif featurizer == 'glove':\n",
    "        featurizers = [glove_middle_featurizer]\n",
    "   \n",
    "    # set model\n",
    "    if model == 'LR':\n",
    "        model_factory = lambda: LogisticRegression(fit_intercept=True, solver='liblinear')\n",
    "    elif model == 'SVC':\n",
    "        model_factory = lambda: SVC(kernel='linear')\n",
    "        \n",
    "    # train\n",
    "    train_result = rel_ext.train_models(\n",
    "    splits, split_name='train',\n",
    "    model_factory = model_factory,\n",
    "    featurizers = featurizers)\n",
    "    \n",
    "    # predict\n",
    "    predictions, true_labels = rel_ext.predict(\n",
    "    splits, train_result, split_name='test')\n",
    "    \n",
    "    # obtain results and store them to a dictionary\n",
    "    results = rel_ext.evaluate_predictions(predictions, true_labels)\n",
    "    all_vals = list(results.values())\n",
    "    all_rels = list(kb.all_relations)\n",
    "    \n",
    "    # all F1 scores for one featurizer/model combination\n",
    "    return_me = {}\n",
    "    for i in range(len(all_rels)):\n",
    "        return_me[all_rels[i]] = all_vals[i][2]\n",
    "    \n",
    "    return return_me\n",
    "        "
   ]
  },
  {
   "cell_type": "markdown",
   "metadata": {},
   "source": [
    "### Run model for:\n",
    "    1. Middle BOW + Logistic Regression\n",
    "    2. Middle BOW + SVC\n",
    "    3. Left BOW + Logistic Regression\n",
    "    4. Left BOW + SVC\n",
    "    5. Right BOW + Logistic Regression\n",
    "    6. Right BOW + SVC"
   ]
  },
  {
   "cell_type": "code",
   "execution_count": 20,
   "metadata": {},
   "outputs": [],
   "source": [
    "all_results = []"
   ]
  },
  {
   "cell_type": "code",
   "execution_count": 21,
   "metadata": {},
   "outputs": [
    {
     "name": "stderr",
     "output_type": "stream",
     "text": [
      "/Users/atsukosakurai/opt/anaconda3/lib/python3.8/site-packages/sklearn/svm/_base.py:946: ConvergenceWarning: Liblinear failed to converge, increase the number of iterations.\n",
      "  warnings.warn(\"Liblinear failed to converge, increase \"\n"
     ]
    }
   ],
   "source": [
    "all_results.append(get_results('middle', 'LR'))\n",
    "all_results.append(get_results('middle', 'SVC'))\n",
    "all_results.append(get_results('left', 'LR'))\n",
    "all_results.append(get_results('left', 'SVC'))\n",
    "all_results.append(get_results('right', 'LR'))\n",
    "all_results.append(get_results('right', 'SVC'))"
   ]
  },
  {
   "cell_type": "markdown",
   "metadata": {},
   "source": [
    "### Convert results to a dataframe and save it as a csv file to be analyzed/graphed in a different notebook"
   ]
  },
  {
   "cell_type": "code",
   "execution_count": 22,
   "metadata": {},
   "outputs": [],
   "source": [
    "import pandas as pd"
   ]
  },
  {
   "cell_type": "code",
   "execution_count": 23,
   "metadata": {},
   "outputs": [],
   "source": [
    "df = pd.DataFrame(all_results)\n",
    "df = df.T\n",
    "df = df.reset_index()"
   ]
  },
  {
   "cell_type": "code",
   "execution_count": 24,
   "metadata": {},
   "outputs": [
    {
     "data": {
      "text/html": [
       "<div>\n",
       "<style scoped>\n",
       "    .dataframe tbody tr th:only-of-type {\n",
       "        vertical-align: middle;\n",
       "    }\n",
       "\n",
       "    .dataframe tbody tr th {\n",
       "        vertical-align: top;\n",
       "    }\n",
       "\n",
       "    .dataframe thead th {\n",
       "        text-align: right;\n",
       "    }\n",
       "</style>\n",
       "<table border=\"1\" class=\"dataframe\">\n",
       "  <thead>\n",
       "    <tr style=\"text-align: right;\">\n",
       "      <th></th>\n",
       "      <th>index</th>\n",
       "      <th>0</th>\n",
       "      <th>1</th>\n",
       "      <th>2</th>\n",
       "      <th>3</th>\n",
       "      <th>4</th>\n",
       "      <th>5</th>\n",
       "    </tr>\n",
       "  </thead>\n",
       "  <tbody>\n",
       "    <tr>\n",
       "      <th>0</th>\n",
       "      <td>adjoins</td>\n",
       "      <td>0.925836</td>\n",
       "      <td>0.886311</td>\n",
       "      <td>0.925301</td>\n",
       "      <td>0.900607</td>\n",
       "      <td>0.857788</td>\n",
       "      <td>0.821475</td>\n",
       "    </tr>\n",
       "    <tr>\n",
       "      <th>1</th>\n",
       "      <td>capital</td>\n",
       "      <td>0.972222</td>\n",
       "      <td>0.951087</td>\n",
       "      <td>0.892857</td>\n",
       "      <td>0.875000</td>\n",
       "      <td>0.815217</td>\n",
       "      <td>0.763081</td>\n",
       "    </tr>\n",
       "    <tr>\n",
       "      <th>2</th>\n",
       "      <td>contains</td>\n",
       "      <td>0.992354</td>\n",
       "      <td>0.995379</td>\n",
       "      <td>0.991273</td>\n",
       "      <td>0.991322</td>\n",
       "      <td>0.986098</td>\n",
       "      <td>0.988235</td>\n",
       "    </tr>\n",
       "    <tr>\n",
       "      <th>3</th>\n",
       "      <td>has_spouse</td>\n",
       "      <td>0.991721</td>\n",
       "      <td>0.997225</td>\n",
       "      <td>0.991721</td>\n",
       "      <td>0.995843</td>\n",
       "      <td>0.965089</td>\n",
       "      <td>0.975568</td>\n",
       "    </tr>\n",
       "    <tr>\n",
       "      <th>4</th>\n",
       "      <td>nationality</td>\n",
       "      <td>0.983660</td>\n",
       "      <td>0.988830</td>\n",
       "      <td>0.978544</td>\n",
       "      <td>0.981095</td>\n",
       "      <td>0.932466</td>\n",
       "      <td>0.932466</td>\n",
       "    </tr>\n",
       "    <tr>\n",
       "      <th>5</th>\n",
       "      <td>place_of_birth</td>\n",
       "      <td>0.984916</td>\n",
       "      <td>0.995516</td>\n",
       "      <td>0.981432</td>\n",
       "      <td>0.984916</td>\n",
       "      <td>0.928870</td>\n",
       "      <td>0.941476</td>\n",
       "    </tr>\n",
       "    <tr>\n",
       "      <th>6</th>\n",
       "      <td>place_of_death</td>\n",
       "      <td>0.979772</td>\n",
       "      <td>0.989783</td>\n",
       "      <td>0.974843</td>\n",
       "      <td>0.979772</td>\n",
       "      <td>0.902212</td>\n",
       "      <td>0.910693</td>\n",
       "    </tr>\n",
       "    <tr>\n",
       "      <th>7</th>\n",
       "      <td>worked_at</td>\n",
       "      <td>0.987461</td>\n",
       "      <td>0.996835</td>\n",
       "      <td>0.978261</td>\n",
       "      <td>0.987461</td>\n",
       "      <td>0.940299</td>\n",
       "      <td>0.943114</td>\n",
       "    </tr>\n",
       "  </tbody>\n",
       "</table>\n",
       "</div>"
      ],
      "text/plain": [
       "            index         0         1         2         3         4         5\n",
       "0         adjoins  0.925836  0.886311  0.925301  0.900607  0.857788  0.821475\n",
       "1         capital  0.972222  0.951087  0.892857  0.875000  0.815217  0.763081\n",
       "2        contains  0.992354  0.995379  0.991273  0.991322  0.986098  0.988235\n",
       "3      has_spouse  0.991721  0.997225  0.991721  0.995843  0.965089  0.975568\n",
       "4     nationality  0.983660  0.988830  0.978544  0.981095  0.932466  0.932466\n",
       "5  place_of_birth  0.984916  0.995516  0.981432  0.984916  0.928870  0.941476\n",
       "6  place_of_death  0.979772  0.989783  0.974843  0.979772  0.902212  0.910693\n",
       "7       worked_at  0.987461  0.996835  0.978261  0.987461  0.940299  0.943114"
      ]
     },
     "execution_count": 24,
     "metadata": {},
     "output_type": "execute_result"
    }
   ],
   "source": [
    "df"
   ]
  },
  {
   "cell_type": "code",
   "execution_count": 25,
   "metadata": {},
   "outputs": [],
   "source": [
    "df.columns =['relation_label', 'Middle_LR', 'Middle_SVC', 'Left_LR', 'Left_SVC', 'Right_LR', 'Right_SVC']"
   ]
  },
  {
   "cell_type": "code",
   "execution_count": 26,
   "metadata": {},
   "outputs": [
    {
     "data": {
      "text/html": [
       "<div>\n",
       "<style scoped>\n",
       "    .dataframe tbody tr th:only-of-type {\n",
       "        vertical-align: middle;\n",
       "    }\n",
       "\n",
       "    .dataframe tbody tr th {\n",
       "        vertical-align: top;\n",
       "    }\n",
       "\n",
       "    .dataframe thead th {\n",
       "        text-align: right;\n",
       "    }\n",
       "</style>\n",
       "<table border=\"1\" class=\"dataframe\">\n",
       "  <thead>\n",
       "    <tr style=\"text-align: right;\">\n",
       "      <th></th>\n",
       "      <th>relation_label</th>\n",
       "      <th>Middle_LR</th>\n",
       "      <th>Middle_SVC</th>\n",
       "      <th>Left_LR</th>\n",
       "      <th>Left_SVC</th>\n",
       "      <th>Right_LR</th>\n",
       "      <th>Right_SVC</th>\n",
       "    </tr>\n",
       "  </thead>\n",
       "  <tbody>\n",
       "    <tr>\n",
       "      <th>0</th>\n",
       "      <td>adjoins</td>\n",
       "      <td>0.925836</td>\n",
       "      <td>0.886311</td>\n",
       "      <td>0.925301</td>\n",
       "      <td>0.900607</td>\n",
       "      <td>0.857788</td>\n",
       "      <td>0.821475</td>\n",
       "    </tr>\n",
       "    <tr>\n",
       "      <th>1</th>\n",
       "      <td>capital</td>\n",
       "      <td>0.972222</td>\n",
       "      <td>0.951087</td>\n",
       "      <td>0.892857</td>\n",
       "      <td>0.875000</td>\n",
       "      <td>0.815217</td>\n",
       "      <td>0.763081</td>\n",
       "    </tr>\n",
       "    <tr>\n",
       "      <th>2</th>\n",
       "      <td>contains</td>\n",
       "      <td>0.992354</td>\n",
       "      <td>0.995379</td>\n",
       "      <td>0.991273</td>\n",
       "      <td>0.991322</td>\n",
       "      <td>0.986098</td>\n",
       "      <td>0.988235</td>\n",
       "    </tr>\n",
       "    <tr>\n",
       "      <th>3</th>\n",
       "      <td>has_spouse</td>\n",
       "      <td>0.991721</td>\n",
       "      <td>0.997225</td>\n",
       "      <td>0.991721</td>\n",
       "      <td>0.995843</td>\n",
       "      <td>0.965089</td>\n",
       "      <td>0.975568</td>\n",
       "    </tr>\n",
       "    <tr>\n",
       "      <th>4</th>\n",
       "      <td>nationality</td>\n",
       "      <td>0.983660</td>\n",
       "      <td>0.988830</td>\n",
       "      <td>0.978544</td>\n",
       "      <td>0.981095</td>\n",
       "      <td>0.932466</td>\n",
       "      <td>0.932466</td>\n",
       "    </tr>\n",
       "    <tr>\n",
       "      <th>5</th>\n",
       "      <td>place_of_birth</td>\n",
       "      <td>0.984916</td>\n",
       "      <td>0.995516</td>\n",
       "      <td>0.981432</td>\n",
       "      <td>0.984916</td>\n",
       "      <td>0.928870</td>\n",
       "      <td>0.941476</td>\n",
       "    </tr>\n",
       "    <tr>\n",
       "      <th>6</th>\n",
       "      <td>place_of_death</td>\n",
       "      <td>0.979772</td>\n",
       "      <td>0.989783</td>\n",
       "      <td>0.974843</td>\n",
       "      <td>0.979772</td>\n",
       "      <td>0.902212</td>\n",
       "      <td>0.910693</td>\n",
       "    </tr>\n",
       "    <tr>\n",
       "      <th>7</th>\n",
       "      <td>worked_at</td>\n",
       "      <td>0.987461</td>\n",
       "      <td>0.996835</td>\n",
       "      <td>0.978261</td>\n",
       "      <td>0.987461</td>\n",
       "      <td>0.940299</td>\n",
       "      <td>0.943114</td>\n",
       "    </tr>\n",
       "  </tbody>\n",
       "</table>\n",
       "</div>"
      ],
      "text/plain": [
       "   relation_label  Middle_LR  Middle_SVC   Left_LR  Left_SVC  Right_LR  \\\n",
       "0         adjoins   0.925836    0.886311  0.925301  0.900607  0.857788   \n",
       "1         capital   0.972222    0.951087  0.892857  0.875000  0.815217   \n",
       "2        contains   0.992354    0.995379  0.991273  0.991322  0.986098   \n",
       "3      has_spouse   0.991721    0.997225  0.991721  0.995843  0.965089   \n",
       "4     nationality   0.983660    0.988830  0.978544  0.981095  0.932466   \n",
       "5  place_of_birth   0.984916    0.995516  0.981432  0.984916  0.928870   \n",
       "6  place_of_death   0.979772    0.989783  0.974843  0.979772  0.902212   \n",
       "7       worked_at   0.987461    0.996835  0.978261  0.987461  0.940299   \n",
       "\n",
       "   Right_SVC  \n",
       "0   0.821475  \n",
       "1   0.763081  \n",
       "2   0.988235  \n",
       "3   0.975568  \n",
       "4   0.932466  \n",
       "5   0.941476  \n",
       "6   0.910693  \n",
       "7   0.943114  "
      ]
     },
     "execution_count": 26,
     "metadata": {},
     "output_type": "execute_result"
    }
   ],
   "source": [
    "df"
   ]
  },
  {
   "cell_type": "code",
   "execution_count": 27,
   "metadata": {},
   "outputs": [],
   "source": [
    "df.to_csv('model_results.csv', index=False)"
   ]
  },
  {
   "cell_type": "markdown",
   "metadata": {},
   "source": [
    "### Find matches: \n",
    "I wanted to see which relational triples I can actually extract from the text."
   ]
  },
  {
   "cell_type": "code",
   "execution_count": 28,
   "metadata": {},
   "outputs": [],
   "source": [
    "def find_match(dataset):\n",
    "    matches_found = []\n",
    "    related_pairs = set()\n",
    "    for ex in corpus.examples:\n",
    "        if kb.get_triples_for_entities(ex.entity_1, ex.entity_2):\n",
    "            related_pairs.add((ex.entity_1, ex.entity_2))\n",
    "        if kb.get_triples_for_entities(ex.entity_2, ex.entity_1):\n",
    "            related_pairs.add((ex.entity_2, ex.entity_1))\n",
    "\n",
    "    for pair in related_pairs:\n",
    "        match = kb.get_triples_for_entities(pair[0], pair[1])\n",
    "        matches_found.append(match)\n",
    "    return matches_found"
   ]
  },
  {
   "cell_type": "code",
   "execution_count": 29,
   "metadata": {},
   "outputs": [],
   "source": [
    "matches = find_match(dataset)"
   ]
  },
  {
   "cell_type": "code",
   "execution_count": 30,
   "metadata": {},
   "outputs": [
    {
     "data": {
      "text/plain": [
       "399"
      ]
     },
     "execution_count": 30,
     "metadata": {},
     "output_type": "execute_result"
    }
   ],
   "source": [
    "len(matches)"
   ]
  },
  {
   "cell_type": "code",
   "execution_count": 31,
   "metadata": {},
   "outputs": [
    {
     "data": {
      "text/plain": [
       "[[KBTriple(rel='adjoins', sbj='Kuwait', obj='Saudi_Arabia')],\n",
       " [KBTriple(rel='capital', sbj='Serbia', obj='Belgrade'),\n",
       "  KBTriple(rel='contains', sbj='Serbia', obj='Belgrade')],\n",
       " [KBTriple(rel='contains', sbj='Australia', obj='Canberra'),\n",
       "  KBTriple(rel='capital', sbj='Australia', obj='Canberra')],\n",
       " [KBTriple(rel='adjoins', sbj='Liberia', obj='Guinea')],\n",
       " [KBTriple(rel='contains', sbj='New_York', obj='Westchester_County')],\n",
       " [KBTriple(rel='adjoins', sbj='Georgia', obj='Florida')],\n",
       " [KBTriple(rel='contains', sbj='Mexico', obj='Ensenada')],\n",
       " [KBTriple(rel='contains', sbj='Kentucky', obj='Louisville')],\n",
       " [KBTriple(rel='contains', sbj='England', obj='Manchester')],\n",
       " [KBTriple(rel='adjoins', sbj='Honduras', obj='Nicaragua')]]"
      ]
     },
     "execution_count": 31,
     "metadata": {},
     "output_type": "execute_result"
    }
   ],
   "source": [
    "# look at the first 10\n",
    "\n",
    "matches[:10]"
   ]
  },
  {
   "cell_type": "markdown",
   "metadata": {},
   "source": [
    "### Predicting Relation Labels for Unseen Pairs\n",
    "List is a function that extracts the newly found relation labels for all of the entity pairs from the corpus that did not have a match in the knowledge base"
   ]
  },
  {
   "cell_type": "code",
   "execution_count": 32,
   "metadata": {},
   "outputs": [
    {
     "name": "stdout",
     "output_type": "stream",
     "text": [
      "Highest probability examples for relation adjoins:\n",
      "\n",
      "     1.000 KBTriple(rel='adjoins', sbj='Ladkani', obj='about_$3,000')\n",
      "     1.000 KBTriple(rel='adjoins', sbj='about_$3,000', obj='Ladkani')\n",
      "     0.998 KBTriple(rel='adjoins', sbj='Taiwanese', obj='China')\n",
      "     0.998 KBTriple(rel='adjoins', sbj='China', obj='Taiwanese')\n",
      "     0.997 KBTriple(rel='adjoins', sbj='Sudan', obj='2011')\n",
      "     0.997 KBTriple(rel='adjoins', sbj='2011', obj='Sudan')\n",
      "     0.992 KBTriple(rel='adjoins', sbj='2010.Now_Ouyang', obj='China')\n",
      "     0.992 KBTriple(rel='adjoins', sbj='China', obj='2010.Now_Ouyang')\n",
      "     0.992 KBTriple(rel='adjoins', sbj='CAD', obj='$1.4_billion')\n",
      "     0.992 KBTriple(rel='adjoins', sbj='$1.4_billion', obj='CAD')\n",
      "\n",
      "Highest probability examples for relation capital:\n",
      "\n",
      "     0.834 KBTriple(rel='capital', sbj='National_Security_Council', obj='William_Happer')\n",
      "     0.834 KBTriple(rel='capital', sbj='day', obj='Omar_Marrero')\n",
      "     0.834 KBTriple(rel='capital', sbj='Omar_Marrero', obj='day')\n",
      "     0.834 KBTriple(rel='capital', sbj='William_Happer', obj='National_Security_Council')\n",
      "     0.833 KBTriple(rel='capital', sbj='one', obj='Helsinki')\n",
      "     0.833 KBTriple(rel='capital', sbj='Helsinki', obj='one')\n",
      "     0.833 KBTriple(rel='capital', sbj='one', obj='Stoltenberg')\n",
      "     0.833 KBTriple(rel='capital', sbj='one', obj='German')\n",
      "     0.833 KBTriple(rel='capital', sbj='one', obj='Chinas_central_bank')\n",
      "     0.833 KBTriple(rel='capital', sbj='Stoltenberg', obj='one')\n",
      "\n",
      "Highest probability examples for relation contains:\n",
      "\n",
      "     0.996 KBTriple(rel='contains', sbj='China', obj='the_Silk_Road')\n",
      "     0.996 KBTriple(rel='contains', sbj='the_Silk_Road', obj='China')\n",
      "     0.990 KBTriple(rel='contains', sbj='National_Security_Council', obj='William_Happer')\n",
      "     0.990 KBTriple(rel='contains', sbj='day', obj='Omar_Marrero')\n",
      "     0.990 KBTriple(rel='contains', sbj='Omar_Marrero', obj='day')\n",
      "     0.990 KBTriple(rel='contains', sbj='William_Happer', obj='National_Security_Council')\n",
      "     0.989 KBTriple(rel='contains', sbj='one', obj='Helsinki')\n",
      "     0.989 KBTriple(rel='contains', sbj='Helsinki', obj='one')\n",
      "     0.989 KBTriple(rel='contains', sbj='one', obj='Stoltenberg')\n",
      "     0.989 KBTriple(rel='contains', sbj='one', obj='German')\n",
      "\n",
      "Highest probability examples for relation has_spouse:\n",
      "\n",
      "     0.990 KBTriple(rel='has_spouse', sbj='one', obj='Helsinki')\n",
      "     0.990 KBTriple(rel='has_spouse', sbj='Helsinki', obj='one')\n",
      "     0.990 KBTriple(rel='has_spouse', sbj='one', obj='Stoltenberg')\n",
      "     0.990 KBTriple(rel='has_spouse', sbj='one', obj='German')\n",
      "     0.990 KBTriple(rel='has_spouse', sbj='one', obj='Chinas_central_bank')\n",
      "     0.990 KBTriple(rel='has_spouse', sbj='Stoltenberg', obj='one')\n",
      "     0.990 KBTriple(rel='has_spouse', sbj='German', obj='one')\n",
      "     0.990 KBTriple(rel='has_spouse', sbj='Chinas_central_bank', obj='one')\n",
      "     0.990 KBTriple(rel='has_spouse', sbj='National_Security_Council', obj='William_Happer')\n",
      "     0.990 KBTriple(rel='has_spouse', sbj='day', obj='Omar_Marrero')\n",
      "\n",
      "Highest probability examples for relation nationality:\n",
      "\n",
      "     0.974 KBTriple(rel='nationality', sbj='National_Security_Council', obj='William_Happer')\n",
      "     0.974 KBTriple(rel='nationality', sbj='day', obj='Omar_Marrero')\n",
      "     0.974 KBTriple(rel='nationality', sbj='Omar_Marrero', obj='day')\n",
      "     0.974 KBTriple(rel='nationality', sbj='William_Happer', obj='National_Security_Council')\n",
      "     0.974 KBTriple(rel='nationality', sbj='one', obj='Helsinki')\n",
      "     0.974 KBTriple(rel='nationality', sbj='Helsinki', obj='one')\n",
      "     0.974 KBTriple(rel='nationality', sbj='one', obj='Stoltenberg')\n",
      "     0.974 KBTriple(rel='nationality', sbj='one', obj='German')\n",
      "     0.974 KBTriple(rel='nationality', sbj='one', obj='Chinas_central_bank')\n",
      "     0.974 KBTriple(rel='nationality', sbj='Stoltenberg', obj='one')\n",
      "\n",
      "Highest probability examples for relation place_of_birth:\n",
      "\n",
      "     0.975 KBTriple(rel='place_of_birth', sbj='National_Security_Council', obj='William_Happer')\n",
      "     0.975 KBTriple(rel='place_of_birth', sbj='day', obj='Omar_Marrero')\n",
      "     0.975 KBTriple(rel='place_of_birth', sbj='Omar_Marrero', obj='day')\n",
      "     0.975 KBTriple(rel='place_of_birth', sbj='William_Happer', obj='National_Security_Council')\n",
      "     0.975 KBTriple(rel='place_of_birth', sbj='one', obj='Helsinki')\n",
      "     0.975 KBTriple(rel='place_of_birth', sbj='Helsinki', obj='one')\n",
      "     0.975 KBTriple(rel='place_of_birth', sbj='one', obj='Stoltenberg')\n",
      "     0.975 KBTriple(rel='place_of_birth', sbj='one', obj='German')\n",
      "     0.975 KBTriple(rel='place_of_birth', sbj='one', obj='Chinas_central_bank')\n",
      "     0.975 KBTriple(rel='place_of_birth', sbj='Stoltenberg', obj='one')\n",
      "\n",
      "Highest probability examples for relation place_of_death:\n",
      "\n",
      "     0.967 KBTriple(rel='place_of_death', sbj='National_Security_Council', obj='William_Happer')\n",
      "     0.967 KBTriple(rel='place_of_death', sbj='day', obj='Omar_Marrero')\n",
      "     0.967 KBTriple(rel='place_of_death', sbj='Omar_Marrero', obj='day')\n",
      "     0.967 KBTriple(rel='place_of_death', sbj='William_Happer', obj='National_Security_Council')\n",
      "     0.967 KBTriple(rel='place_of_death', sbj='one', obj='Helsinki')\n",
      "     0.967 KBTriple(rel='place_of_death', sbj='Helsinki', obj='one')\n",
      "     0.967 KBTriple(rel='place_of_death', sbj='one', obj='Stoltenberg')\n",
      "     0.967 KBTriple(rel='place_of_death', sbj='one', obj='German')\n",
      "     0.967 KBTriple(rel='place_of_death', sbj='one', obj='Chinas_central_bank')\n",
      "     0.967 KBTriple(rel='place_of_death', sbj='Stoltenberg', obj='one')\n",
      "\n",
      "Highest probability examples for relation worked_at:\n",
      "\n",
      "     0.975 KBTriple(rel='worked_at', sbj='National_Security_Council', obj='William_Happer')\n",
      "     0.975 KBTriple(rel='worked_at', sbj='day', obj='Omar_Marrero')\n",
      "     0.975 KBTriple(rel='worked_at', sbj='Omar_Marrero', obj='day')\n",
      "     0.975 KBTriple(rel='worked_at', sbj='William_Happer', obj='National_Security_Council')\n",
      "     0.975 KBTriple(rel='worked_at', sbj='one', obj='Helsinki')\n",
      "     0.975 KBTriple(rel='worked_at', sbj='Helsinki', obj='one')\n",
      "     0.975 KBTriple(rel='worked_at', sbj='one', obj='Stoltenberg')\n",
      "     0.975 KBTriple(rel='worked_at', sbj='one', obj='German')\n",
      "     0.975 KBTriple(rel='worked_at', sbj='one', obj='Chinas_central_bank')\n",
      "     0.975 KBTriple(rel='worked_at', sbj='Stoltenberg', obj='one')\n",
      "\n"
     ]
    }
   ],
   "source": [
    "rel_ext.find_new_relation_instances(dataset, featurizers=[middle_BOW_featurizer])"
   ]
  },
  {
   "cell_type": "code",
   "execution_count": null,
   "metadata": {},
   "outputs": [],
   "source": []
  }
 ],
 "metadata": {
  "kernelspec": {
   "display_name": "Python 3 (ipykernel)",
   "language": "python",
   "name": "python3"
  },
  "language_info": {
   "codemirror_mode": {
    "name": "ipython",
    "version": 3
   },
   "file_extension": ".py",
   "mimetype": "text/x-python",
   "name": "python",
   "nbconvert_exporter": "python",
   "pygments_lexer": "ipython3",
   "version": "3.8.12"
  },
  "widgets": {
   "state": {},
   "version": "1.1.2"
  }
 },
 "nbformat": 4,
 "nbformat_minor": 4
}
